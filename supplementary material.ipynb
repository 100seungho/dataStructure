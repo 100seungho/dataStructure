{
 "cells": [
  {
   "cell_type": "code",
   "execution_count": 3,
   "metadata": {},
   "outputs": [],
   "source": [
    "class Grandparent():\n",
    "    def __init__(self):\n",
    "        print('Grandparent')\n",
    "\n",
    "class Parent(Grandparent):\n",
    "    def __init__(self):\n",
    "        print('Parent')\n",
    "        \n",
    "class Child(Parent):\n",
    "    def __init__(self):\n",
    "        super(Parent, self).__init__()\n",
    "        super().__init__()\n",
    "        print('Child')"
   ]
  },
  {
   "cell_type": "code",
   "execution_count": 4,
   "metadata": {},
   "outputs": [
    {
     "name": "stdout",
     "output_type": "stream",
     "text": [
      "Grandparent\n",
      "Parent\n",
      "Child\n"
     ]
    }
   ],
   "source": [
    "C = Child()"
   ]
  }
 ],
 "metadata": {
  "kernelspec": {
   "display_name": "Python 3",
   "language": "python",
   "name": "python3"
  },
  "language_info": {
   "codemirror_mode": {
    "name": "ipython",
    "version": 3
   },
   "file_extension": ".py",
   "mimetype": "text/x-python",
   "name": "python",
   "nbconvert_exporter": "python",
   "pygments_lexer": "ipython3",
   "version": "3.7.3"
  }
 },
 "nbformat": 4,
 "nbformat_minor": 2
}
