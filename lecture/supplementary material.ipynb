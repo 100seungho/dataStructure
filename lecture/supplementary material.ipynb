{
 "cells": [
  {
   "cell_type": "code",
   "execution_count": 7,
   "metadata": {},
   "outputs": [],
   "source": [
    "class Grandparent():\n",
    "    def __init__(self):\n",
    "        print('Grandparent')\n",
    "\n",
    "class Parent(Grandparent):\n",
    "    def __init__(self):\n",
    "        print('Parent')\n",
    "        \n",
    "class Child(Parent):\n",
    "    def __init__(self):\n",
    "        super(Parent, self).__init__()\n",
    "        super().__init__()\n",
    "        print(super(Parent, self))\n",
    "        print('Child')"
   ]
  },
  {
   "cell_type": "code",
   "execution_count": 8,
   "metadata": {},
   "outputs": [
    {
     "name": "stdout",
     "output_type": "stream",
     "text": [
      "Grandparent\n",
      "Parent\n",
      "<super: <class 'Parent'>, <Child object>>\n",
      "Child\n"
     ]
    }
   ],
   "source": [
    "C = Child()"
   ]
  },
  {
   "cell_type": "code",
   "execution_count": 11,
   "metadata": {},
   "outputs": [
    {
     "name": "stdout",
     "output_type": "stream",
     "text": [
      "Grandparent\n",
      "Parent\n",
      "<super: <class 'Parent'>, <Child object>>\n",
      "Child\n"
     ]
    },
    {
     "data": {
      "text/plain": [
       "__main__.Child"
      ]
     },
     "execution_count": 11,
     "metadata": {},
     "output_type": "execute_result"
    }
   ],
   "source": [
    "type(Child())"
   ]
  },
  {
   "cell_type": "code",
   "execution_count": 13,
   "metadata": {},
   "outputs": [
    {
     "name": "stdout",
     "output_type": "stream",
     "text": [
      "Parent\n"
     ]
    },
    {
     "data": {
      "text/plain": [
       "__main__.Parent"
      ]
     },
     "execution_count": 13,
     "metadata": {},
     "output_type": "execute_result"
    }
   ],
   "source": [
    "type(Parent())"
   ]
  },
  {
   "cell_type": "code",
   "execution_count": null,
   "metadata": {},
   "outputs": [],
   "source": []
  }
 ],
 "metadata": {
  "kernelspec": {
   "display_name": "Python 3",
   "language": "python",
   "name": "python3"
  },
  "language_info": {
   "codemirror_mode": {
    "name": "ipython",
    "version": 3
   },
   "file_extension": ".py",
   "mimetype": "text/x-python",
   "name": "python",
   "nbconvert_exporter": "python",
   "pygments_lexer": "ipython3",
   "version": "3.6.0"
  }
 },
 "nbformat": 4,
 "nbformat_minor": 4
}
