{
 "cells": [
  {
   "cell_type": "code",
   "execution_count": 207,
   "metadata": {},
   "outputs": [],
   "source": [
    "import html\n",
    "class Menu:\n",
    "    def __init__(self, name, date):\n",
    "        self.menus = []\n",
    "        self.is_open = True\n",
    "        self.name = name\n",
    "        self.date = date\n",
    "\n",
    "    def new_menu(self, meal_name, time_for):\n",
    "        menu = {}\n",
    "        \n",
    "        name_tel = self.parse_restaurant(self.name)\n",
    "        menu['restaurant_name'] = name_tel[0]\n",
    "        menu['restaurant_tel'] = name_tel[1]\n",
    "        \n",
    "        name_price = self.parse_name_price(meal_name)\n",
    "        \n",
    "        menu['name'] = name_price[0]\n",
    "        menu['price'] = name_price[1]\n",
    "        \n",
    "        menu['name'] = self.remove_xa0(menu['name'])\n",
    "        menu['name'] = html.unescape(menu['name'])\n",
    "        \n",
    "        # check vegan\n",
    "        if self.no_pork(menu['name']):\n",
    "            menu['no_pork'] = True\n",
    "            menu['is_vege'] = False\n",
    "            menu['is_halal'] = False\n",
    "            menu['name'] = menu['name'].replace('(#)', '')\n",
    "            \n",
    "        elif self.is_vege(menu['name']):\n",
    "            menu['is_vege'] = True\n",
    "            menu['no_pork'] = False\n",
    "            menu['is_halal'] = False\n",
    "            menu['name'] = menu['name'].replace('(채식)', '')\n",
    "            \n",
    "        elif self.is_halal(menu['name']):\n",
    "            menu['is_halal'] = True\n",
    "            menu['is_vege'] = False\n",
    "            menu['no_pork'] = False\n",
    "            menu['name'] = menu['name'].replace('(HALAL)', '')\n",
    "        \n",
    "        else:\n",
    "            menu['no_pork'] = False\n",
    "            menu['is_vege'] = False\n",
    "            menu['is_halal'] = False\n",
    "        \n",
    "        menu['date'] = f\"{self.date['month']}/{self.date['day']}/{self.date['year']}\"\n",
    "        menu['time_for'] = time_for\n",
    "\n",
    "        self.menus.append(menu)\n",
    "        \n",
    "    def new_menu_301(self, meal_name):\n",
    "        menu = {}\n",
    "        \n",
    "        name_tel = self.parse_restaurant(self.name)\n",
    "        menu['restaurant_name'] = name_tel[0]\n",
    "        menu['restaurant_tel'] = name_tel[1]\n",
    "        \n",
    "        menu['name'] = meal_name\n",
    "        menu['price'] = \"6,000원\"\n",
    "        \n",
    "        menu['name'] = self.remove_xa0(menu['name'])\n",
    "        menu['name'] = html.unescape(menu['name'])\n",
    "        \n",
    "        menu['no_pork'] = False\n",
    "        menu['is_vege'] = False\n",
    "        menu['is_halal'] = False\n",
    "        \n",
    "        menu['date'] = f\"{self.date['month']}/{self.date['day']}/{self.date['year']}\"\n",
    "        menu['time_for'] = \"lunch\"\n",
    "        \n",
    "        self.menus.append(menu)\n",
    "    \n",
    "    def new_menu_301(self, main_meal, side_meal):\n",
    "        menu = {}\n",
    "        \n",
    "        name_tel = self.parse_restaurant(self.name)\n",
    "        menu['restaurant_name'] = name_tel[0]\n",
    "        menu['restaurant_tel'] = name_tel[1]\n",
    "        \n",
    "        menu['name'] = main_meal\n",
    "        menu['price'] = \"5,500원\"\n",
    "        menu['side_meal'] = side_meal\n",
    "        \n",
    "        menu['name'] = self.remove_xa0(menu['name'])\n",
    "        menu['name'] = html.unescape(menu['name'])\n",
    "        \n",
    "        menu['no_pork'] = False\n",
    "        menu['is_vege'] = False\n",
    "        menu['is_halal'] = False\n",
    "        \n",
    "        menu['date'] = f\"{self.date['month']}/{self.date['day']}/{self.date['year']}\"\n",
    "        menu['time_for'] = \"lunch\"\n",
    "        \n",
    "        self.menus.append(menu)\n",
    "    \n",
    "    @staticmethod\n",
    "    def parse_restaurant(restaurant):\n",
    "        # resaurant 이름이 처음에 아래 주석같이 나온다. 그래서 이 함수로 레스토랑 이름을 파싱한다.\n",
    "        # '\\n            학생회관식당(880-5543)          '\n",
    "        restaurant = restaurant.replace('\\n            ', '') # '학생회관식당(880-5543)          '\n",
    "        restaurant = restaurant.replace(')          ', '') # '학생회관식당(880-5543'\n",
    "        restaurant_name = restaurant[:-9] # 학생회관식당\n",
    "        restaurant_tel = f\"02-{restaurant[-8:]}\" # 02-880-5543\n",
    "        return restaurant_name, restaurant_tel\n",
    "    \n",
    "    @staticmethod\n",
    "    def remove_xa0(string):\n",
    "        string = string.replace('\\xa0', '')\n",
    "        string = string.replace('\\n', '')\n",
    "        return string\n",
    "    \n",
    "    @staticmethod\n",
    "    def parse_name_price(string):\n",
    "        name = string[:-7]\n",
    "        price = string[-6:]\n",
    "        return (name, price)\n",
    "    \n",
    "    @staticmethod\n",
    "    def no_pork(string):\n",
    "        if '(#)' in string:\n",
    "            return True\n",
    "        else:\n",
    "            return False\n",
    "        \n",
    "    @staticmethod\n",
    "    def is_vege(string):\n",
    "        if '(채식)' in string:\n",
    "            return True\n",
    "        else:\n",
    "            return False\n",
    "        \n",
    "    @staticmethod\n",
    "    def is_halal(string):\n",
    "        if '(HALAL)' in string:\n",
    "            return True\n",
    "        else:\n",
    "            return False"
   ]
  },
  {
   "cell_type": "code",
   "execution_count": 190,
   "metadata": {},
   "outputs": [],
   "source": [
    "restaurant = '\\n            학생회관식당(880-5543)          '"
   ]
  },
  {
   "cell_type": "code",
   "execution_count": 191,
   "metadata": {},
   "outputs": [],
   "source": [
    "date = {}\n",
    "date['month'] = '01'\n",
    "date['year'] = '2020'\n",
    "date['day'] = '31'"
   ]
  },
  {
   "cell_type": "code",
   "execution_count": 192,
   "metadata": {},
   "outputs": [],
   "source": [
    "menu = Menu(restaurant, date)"
   ]
  },
  {
   "cell_type": "code",
   "execution_count": 193,
   "metadata": {},
   "outputs": [
    {
     "data": {
      "text/plain": [
       "'\\n            학생회관식당(880-5543)          '"
      ]
     },
     "execution_count": 193,
     "metadata": {},
     "output_type": "execute_result"
    }
   ],
   "source": [
    "menu.name"
   ]
  },
  {
   "cell_type": "code",
   "execution_count": 194,
   "metadata": {},
   "outputs": [
    {
     "data": {
      "text/plain": [
       "{'month': '01', 'year': '2020', 'day': '31'}"
      ]
     },
     "execution_count": 194,
     "metadata": {},
     "output_type": "execute_result"
    }
   ],
   "source": [
    "menu.date"
   ]
  },
  {
   "cell_type": "code",
   "execution_count": 195,
   "metadata": {},
   "outputs": [],
   "source": [
    "menu.new_menu('(채식) 쇠고기새송이덮밥\\xa0 &pound;682m 3,000원', 'breakfast')"
   ]
  },
  {
   "cell_type": "code",
   "execution_count": 196,
   "metadata": {},
   "outputs": [
    {
     "data": {
      "text/plain": [
       "[{'restaurant_name': '학생회관식당',\n",
       "  'restaurant_tel': '02-880-5543',\n",
       "  'name': '쇠고기새송이덮밥 £682m',\n",
       "  'price': '3,000원',\n",
       "  'is_vege': True,\n",
       "  'no_pork': False,\n",
       "  'is_halal': False,\n",
       "  'date': '01/31/2020',\n",
       "  'time_for': 'breakfast'}]"
      ]
     },
     "execution_count": 196,
     "metadata": {},
     "output_type": "execute_result"
    }
   ],
   "source": [
    "menu.menus"
   ]
  },
  {
   "cell_type": "code",
   "execution_count": 84,
   "metadata": {},
   "outputs": [],
   "source": [
    "def parse_name_price(string):\n",
    "    name = string[:-7]\n",
    "    price = string[-6:]\n",
    "    return (name, price)"
   ]
  },
  {
   "cell_type": "code",
   "execution_count": 100,
   "metadata": {},
   "outputs": [],
   "source": [
    "hell = parse_name_price(my_menu)"
   ]
  },
  {
   "cell_type": "code",
   "execution_count": 103,
   "metadata": {},
   "outputs": [
    {
     "data": {
      "text/plain": [
       "'3,000원'"
      ]
     },
     "execution_count": 103,
     "metadata": {},
     "output_type": "execute_result"
    }
   ],
   "source": [
    "hell[1]"
   ]
  },
  {
   "cell_type": "code",
   "execution_count": 153,
   "metadata": {},
   "outputs": [],
   "source": [
    "def no_pork(string):\n",
    "    if '(#)' in string:\n",
    "        string = string.replace('(#)', '')\n",
    "        return True, string\n",
    "    else:\n",
    "        return False, string"
   ]
  },
  {
   "cell_type": "code",
   "execution_count": 154,
   "metadata": {},
   "outputs": [],
   "source": [
    "string = '(#)홍합탕 1,700원'"
   ]
  },
  {
   "cell_type": "code",
   "execution_count": 155,
   "metadata": {},
   "outputs": [
    {
     "data": {
      "text/plain": [
       "(True, '홍합탕 1,700원')"
      ]
     },
     "execution_count": 155,
     "metadata": {},
     "output_type": "execute_result"
    }
   ],
   "source": [
    "no_pork(string)"
   ]
  },
  {
   "cell_type": "code",
   "execution_count": 161,
   "metadata": {},
   "outputs": [],
   "source": [
    "def is_vege(string):\n",
    "    if '(채식) ' in string:\n",
    "        string = string.replace('(채식) ', '')\n",
    "        return True, string\n",
    "    else:\n",
    "        return False, string"
   ]
  },
  {
   "cell_type": "code",
   "execution_count": 162,
   "metadata": {},
   "outputs": [
    {
     "data": {
      "text/plain": [
       "(True,\n",
       " '콩고기데리야끼볶음, 잡채, 야채고로케, 모듬콩샐러드, 감자호박맑은국, 버섯야채죽, 양배추쌈, 당근스틱, DIY샐러드, 백김치, 과일, 오늘의차 6,500원')"
      ]
     },
     "execution_count": 162,
     "metadata": {},
     "output_type": "execute_result"
    }
   ],
   "source": [
    "is_vege(string)"
   ]
  },
  {
   "cell_type": "code",
   "execution_count": 163,
   "metadata": {},
   "outputs": [],
   "source": [
    "string = '(HALAL) 나시고랭+새우가스 5,000원'"
   ]
  },
  {
   "cell_type": "code",
   "execution_count": 164,
   "metadata": {},
   "outputs": [],
   "source": [
    "def is_halal(string):\n",
    "    if '(HALAL) ' in string:\n",
    "        string = string.replace('(HALAL) ', '')\n",
    "        return True, string\n",
    "    else:\n",
    "        return False, string"
   ]
  },
  {
   "cell_type": "code",
   "execution_count": 165,
   "metadata": {},
   "outputs": [
    {
     "data": {
      "text/plain": [
       "(True, '나시고랭+새우가스 5,000원')"
      ]
     },
     "execution_count": 165,
     "metadata": {},
     "output_type": "execute_result"
    }
   ],
   "source": [
    "is_halal(string)"
   ]
  },
  {
   "cell_type": "code",
   "execution_count": 197,
   "metadata": {},
   "outputs": [],
   "source": [
    "menu = []"
   ]
  },
  {
   "cell_type": "code",
   "execution_count": 200,
   "metadata": {},
   "outputs": [],
   "source": [
    "menu.append(1)"
   ]
  },
  {
   "cell_type": "code",
   "execution_count": 203,
   "metadata": {},
   "outputs": [
    {
     "data": {
      "text/plain": [
       "1"
      ]
     },
     "execution_count": 203,
     "metadata": {},
     "output_type": "execute_result"
    }
   ],
   "source": [
    "len(menu)"
   ]
  },
  {
   "cell_type": "code",
   "execution_count": 209,
   "metadata": {},
   "outputs": [
    {
     "ename": "NameError",
     "evalue": "name 'response' is not defined",
     "output_type": "error",
     "traceback": [
      "\u001b[0;31m---------------------------------------------------------------------------\u001b[0m",
      "\u001b[0;31mNameError\u001b[0m                                 Traceback (most recent call last)",
      "\u001b[0;32m<ipython-input-209-76c8250a2562>\u001b[0m in \u001b[0;36m<module>\u001b[0;34m\u001b[0m\n\u001b[1;32m      1\u001b[0m \u001b[0;31m# setup\u001b[0m\u001b[0;34m\u001b[0m\u001b[0;34m\u001b[0m\u001b[0;34m\u001b[0m\u001b[0m\n\u001b[0;32m----> 2\u001b[0;31m \u001b[0mmenu_by_restaurant\u001b[0m \u001b[0;34m=\u001b[0m \u001b[0mresponse\u001b[0m\u001b[0;34m.\u001b[0m\u001b[0mcss\u001b[0m\u001b[0;34m(\u001b[0m\u001b[0;34m\"tbody tr\"\u001b[0m\u001b[0;34m)\u001b[0m\u001b[0;34m\u001b[0m\u001b[0;34m\u001b[0m\u001b[0m\n\u001b[0m\u001b[1;32m      3\u001b[0m \u001b[0mmy_menu\u001b[0m \u001b[0;34m=\u001b[0m \u001b[0mmenu_by_restaurant\u001b[0m\u001b[0;34m[\u001b[0m\u001b[0;36m0\u001b[0m\u001b[0;34m]\u001b[0m\u001b[0;34m\u001b[0m\u001b[0;34m\u001b[0m\u001b[0m\n\u001b[1;32m      4\u001b[0m \u001b[0;34m\u001b[0m\u001b[0m\n\u001b[1;32m      5\u001b[0m \u001b[0mrestaurant\u001b[0m \u001b[0;34m=\u001b[0m \u001b[0mmy_menu\u001b[0m\u001b[0;34m.\u001b[0m\u001b[0mcss\u001b[0m\u001b[0;34m(\u001b[0m\u001b[0;34m\"td.views-field-field-restaurant::text\"\u001b[0m\u001b[0;34m)\u001b[0m\u001b[0;34m.\u001b[0m\u001b[0mget\u001b[0m\u001b[0;34m(\u001b[0m\u001b[0;34m)\u001b[0m\u001b[0;34m\u001b[0m\u001b[0;34m\u001b[0m\u001b[0m\n",
      "\u001b[0;31mNameError\u001b[0m: name 'response' is not defined"
     ]
    }
   ],
   "source": [
    "# setup\n",
    "menu_by_restaurant = response.css(\"tbody tr\") \n",
    "my_menu = menu_by_restaurant[0] \n",
    "\n",
    "restaurant = my_menu.css(\"td.views-field-field-restaurant::text\").get()  \n",
    "breakfast = my_menu.css(\"td.views-field-field-breakfast p::text\").get()  \n",
    "lunch = my_menu.css(\"td.views-field-field-lunch p::text\").getall()\n",
    "dinner = my_menu.css(\"td.views-field-field-dinner p::text\").getall()\n",
    "\n",
    "date_raw = response.url.split(\"=\")[-1] \n",
    "handled_date = date_raw.split(\"/\") \n",
    "date = {} \n",
    "date['month'] = handled_date[0] \n",
    "date['day'] = handled_date[1] \n",
    "date['year'] = handled_date[2]\n",
    "\n",
    "menus = []\n",
    "menus.append(Menu(restaurant, date))\n",
    "\n",
    "index = len(menus) - 1\n",
    "\n",
    "menus[index].name\n",
    "\n",
    "if lunch is not None:\n",
    "    for menu in lunch:\n",
    "        menus[index].new_menu(menu, 'lunch')\n",
    "\n",
    "menus[index].menus"
   ]
  },
  {
   "cell_type": "code",
   "execution_count": null,
   "metadata": {},
   "outputs": [],
   "source": [
    "# setup2\n",
    "date_raw = response.url.split(\"=\")[-1] \n",
    "handled_date = date_raw.split(\"/\") \n",
    "date = {} \n",
    "date['month'] = handled_date[0] \n",
    "date['day'] = handled_date[1] \n",
    "date['year'] = handled_date[2]\n",
    "\n",
    "menu_by_restaurant = response.css(\"tbody tr\") \n",
    "\n",
    "menus = []\n",
    "\n",
    "for table_row in menu_by_restaurant:\n",
    "\n",
    "    restaurant = table_row.css(\"td.views-field-field-restaurant::text\").get()\n",
    "    menus.append(Menu(restaurant, date))\n",
    "\n",
    "    index = len(menus) - 1\n",
    "\n",
    "    breakfast = table_row.css(\"td.views-field-field-breakfast p::text\").get()\n",
    "    lunch = table_row.css(\"td.views-field-field-lunch p::text\").getall()\n",
    "    dinner = table_row.css(\"td.views-field-field-dinner p::text\").getall()\n",
    "\n",
    "    if breakfast is not None:\n",
    "        menus[index].new_menu(breakfast, 'breakfast')\n",
    "    if lunch is not None:\n",
    "        for menu in lunch:\n",
    "            menus[index].new_menu(menu, 'lunch')\n",
    "    if dinner is not None:\n",
    "        for menu in dinner:\n",
    "            menus[index].new_menu(menu, 'dinner')\n",
    "            "
   ]
  }
 ],
 "metadata": {
  "kernelspec": {
   "display_name": "Python 3",
   "language": "python",
   "name": "python3"
  },
  "language_info": {
   "codemirror_mode": {
    "name": "ipython",
    "version": 3
   },
   "file_extension": ".py",
   "mimetype": "text/x-python",
   "name": "python",
   "nbconvert_exporter": "python",
   "pygments_lexer": "ipython3",
   "version": "3.7.4"
  }
 },
 "nbformat": 4,
 "nbformat_minor": 4
}
