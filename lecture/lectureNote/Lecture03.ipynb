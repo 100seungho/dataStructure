{
 "cells": [
  {
   "cell_type": "code",
   "execution_count": 2,
   "metadata": {},
   "outputs": [],
   "source": [
    "# positional and keyword argements"
   ]
  },
  {
   "cell_type": "code",
   "execution_count": 3,
   "metadata": {},
   "outputs": [],
   "source": [
    "def greetings(greeting = 'Hello', name = 'John'):\n",
    "    print(greeting + ', ' + name)"
   ]
  },
  {
   "cell_type": "code",
   "execution_count": 4,
   "metadata": {},
   "outputs": [
    {
     "name": "stdout",
     "output_type": "stream",
     "text": [
      "Hello, John\n"
     ]
    }
   ],
   "source": [
    "greetings()"
   ]
  },
  {
   "cell_type": "code",
   "execution_count": 5,
   "metadata": {},
   "outputs": [
    {
     "name": "stdout",
     "output_type": "stream",
     "text": [
      "Hi, John\n"
     ]
    }
   ],
   "source": [
    "greetings('Hi')"
   ]
  },
  {
   "cell_type": "code",
   "execution_count": 6,
   "metadata": {},
   "outputs": [
    {
     "name": "stdout",
     "output_type": "stream",
     "text": [
      "Hi, Jane\n"
     ]
    }
   ],
   "source": [
    "greetings('Hi', 'Jane')"
   ]
  },
  {
   "cell_type": "code",
   "execution_count": 7,
   "metadata": {},
   "outputs": [],
   "source": [
    "# keyword argument"
   ]
  },
  {
   "cell_type": "code",
   "execution_count": 8,
   "metadata": {},
   "outputs": [
    {
     "name": "stdout",
     "output_type": "stream",
     "text": [
      "Hello, Paul\n"
     ]
    }
   ],
   "source": [
    "greetings(name='Paul')"
   ]
  },
  {
   "cell_type": "code",
   "execution_count": 9,
   "metadata": {},
   "outputs": [
    {
     "name": "stdout",
     "output_type": "stream",
     "text": [
      "Hi, John\n"
     ]
    }
   ],
   "source": [
    "greetings(greeting = 'Hi')"
   ]
  },
  {
   "cell_type": "code",
   "execution_count": 10,
   "metadata": {},
   "outputs": [
    {
     "name": "stdout",
     "output_type": "stream",
     "text": [
      "Hi, Paul\n"
     ]
    }
   ],
   "source": [
    "greetings(name = 'Paul', greeting = 'Hi')"
   ]
  },
  {
   "cell_type": "code",
   "execution_count": 11,
   "metadata": {},
   "outputs": [],
   "source": [
    "# Experimental Studies"
   ]
  },
  {
   "cell_type": "code",
   "execution_count": 12,
   "metadata": {},
   "outputs": [],
   "source": [
    "from time import time\n",
    "from random import random"
   ]
  },
  {
   "cell_type": "code",
   "execution_count": 13,
   "metadata": {},
   "outputs": [
    {
     "name": "stdout",
     "output_type": "stream",
     "text": [
      "0.29175424575805664\n"
     ]
    }
   ],
   "source": [
    "L = [random() for i in range(1000000)]\n",
    "start_time = time()\n",
    "L.sort()\n",
    "end_time = time()\n",
    "elapsed_time = end_time - start_time\n",
    "print(elapsed_time)"
   ]
  },
  {
   "cell_type": "code",
   "execution_count": 14,
   "metadata": {},
   "outputs": [
    {
     "name": "stdout",
     "output_type": "stream",
     "text": [
      "5.463038921356201\n"
     ]
    }
   ],
   "source": [
    "L = [random() for i in range(10000000)]\n",
    "start_time = time()\n",
    "L.sort()\n",
    "end_time = time()\n",
    "elapsed_time = end_time - start_time\n",
    "print(elapsed_time)"
   ]
  },
  {
   "cell_type": "code",
   "execution_count": 5,
   "metadata": {},
   "outputs": [
    {
     "name": "stdout",
     "output_type": "stream",
     "text": [
      "32768 3.0994415283203125e-06\n",
      "65536 1.9073486328125e-06\n",
      "131072 9.5367431640625e-07\n",
      "262144 0.0\n",
      "524288 9.5367431640625e-07\n",
      "1048576 2.1457672119140625e-06\n",
      "2097152 2.6226043701171875e-06\n",
      "4194304 2.86102294921875e-06\n",
      "8388608 2.1457672119140625e-06\n",
      "16777216 1.9073486328125e-05\n"
     ]
    },
    {
     "data": {
      "text/plain": [
       "[<matplotlib.lines.Line2D at 0x11bddef60>]"
      ]
     },
     "execution_count": 5,
     "metadata": {},
     "output_type": "execute_result"
    },
    {
     "data": {
      "image/png": "[encoded data removed]",
      "text/plain": [
       "<Figure size 432x288 with 1 Axes>"
      ]
     },
     "metadata": {
      "needs_background": "light"
     },
     "output_type": "display_data"
    }
   ],
   "source": [
    "%matplotlib inline\n",
    "from time import time\n",
    "from random import random\n",
    "import matplotlib.pyplot as plt\n",
    "\n",
    "n = []\n",
    "t = []\n",
    "for N in [2 ** k for k in range(15, 25)]:\n",
    "    L = [random() for i in range(N)]\n",
    "    start_time = time()\n",
    "    end_time = time()\n",
    "    elapsed_time = end_time - start_time\n",
    "    n.append(N)\n",
    "    t.append(elapsed_time)\n",
    "    print(N, elapsed_time)\n",
    "plt.plot(n, t, 'x-')"
   ]
  },
  {
   "cell_type": "code",
   "execution_count": 7,
   "metadata": {},
   "outputs": [],
   "source": [
    "%matplotlib inline\n",
    "from time import time\n",
    "from random import random\n",
    "import matplotlib.pyplot as plt"
   ]
  },
  {
   "cell_type": "code",
   "execution_count": 8,
   "metadata": {},
   "outputs": [],
   "source": [
    "def prefix_average1(S):\n",
    "    n = len(S)\n",
    "    A = [0] * n\n",
    "    for j in range(n):\n",
    "        total = 0\n",
    "        for i in range(j + 1):\n",
    "            total += S[i]\n",
    "        A[j] = total / (j + 1)\n",
    "    return A"
   ]
  },
  {
   "cell_type": "code",
   "execution_count": 9,
   "metadata": {},
   "outputs": [],
   "source": [
    "def prefix_average3(S):\n",
    "    n = len(S)\n",
    "    A = [0] * n\n",
    "    total = 0\n",
    "    for j in range(n):\n",
    "        total += S[j]\n",
    "        A[j] = total / (j + 1)\n",
    "    return A"
   ]
  },
  {
   "cell_type": "code",
   "execution_count": 10,
   "metadata": {},
   "outputs": [],
   "source": [
    "L = [1,2,3]"
   ]
  },
  {
   "cell_type": "code",
   "execution_count": 11,
   "metadata": {},
   "outputs": [
    {
     "data": {
      "text/plain": [
       "[1.0, 1.5, 2.0]"
      ]
     },
     "execution_count": 11,
     "metadata": {},
     "output_type": "execute_result"
    }
   ],
   "source": [
    "prefix_average1(L)"
   ]
  },
  {
   "cell_type": "code",
   "execution_count": 12,
   "metadata": {},
   "outputs": [
    {
     "data": {
      "text/plain": [
       "[1.0, 1.5, 2.0]"
      ]
     },
     "execution_count": 12,
     "metadata": {},
     "output_type": "execute_result"
    }
   ],
   "source": [
    "prefix_average3(L)"
   ]
  },
  {
   "cell_type": "code",
   "execution_count": 13,
   "metadata": {
    "scrolled": true
   },
   "outputs": [
    {
     "name": "stdout",
     "output_type": "stream",
     "text": [
      "4096 0.5276541709899902 0.0006129741668701172\n",
      "8192 2.0447349548339844 0.0011658668518066406\n",
      "16384 8.011075258255005 0.0026140213012695312\n",
      "32768 31.766270875930786 0.004634857177734375\n"
     ]
    },
    {
     "data": {
      "text/plain": [
       "[<matplotlib.lines.Line2D at 0x11884c198>]"
      ]
     },
     "execution_count": 13,
     "metadata": {},
     "output_type": "execute_result"
    },
    {
     "data": {
      "image/png": "[encoded data removed]",
      "text/plain": [
       "<Figure size 432x288 with 1 Axes>"
      ]
     },
     "metadata": {
      "needs_background": "light"
     },
     "output_type": "display_data"
    }
   ],
   "source": [
    "n = []\n",
    "t1 = []\n",
    "t3 = []\n",
    "for N in [2 ** k for k in range(12, 16)]:\n",
    "    L = [random() for i in range(N)]\n",
    "    start_time = time()\n",
    "    A1 = prefix_average1(L)\n",
    "    end_time = time()\n",
    "    elapsed_time1 = end_time - start_time\n",
    "    start_time = time()\n",
    "    A3 = prefix_average3(L)\n",
    "    end_time = time()\n",
    "    elapsed_time3 = end_time - start_time\n",
    "    n.append(N)\n",
    "    t1.append(elapsed_time1)\n",
    "    t3.append(elapsed_time3)\n",
    "    print(N, elapsed_time1, elapsed_time3)\n",
    "\n",
    "plt.plot(n,t1,'x-')\n",
    "plt.plot(n,t3,'o-')"
   ]
  },
  {
   "cell_type": "markdown",
   "metadata": {},
   "source": []
  }
 ],
 "metadata": {
  "kernelspec": {
   "display_name": "Python 3",
   "language": "python",
   "name": "python3"
  },
  "language_info": {
   "codemirror_mode": {
    "name": "ipython",
    "version": 3
   },
   "file_extension": ".py",
   "mimetype": "text/x-python",
   "name": "python",
   "nbconvert_exporter": "python",
   "pygments_lexer": "ipython3",
   "version": "3.6.0"
  }
 },
 "nbformat": 4,
 "nbformat_minor": 4
}
