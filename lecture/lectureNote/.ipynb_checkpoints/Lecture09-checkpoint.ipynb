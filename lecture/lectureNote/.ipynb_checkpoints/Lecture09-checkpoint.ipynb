{
 "cells": [
  {
   "cell_type": "markdown",
   "metadata": {},
   "source": [
    "#\n",
    "\n",
    "Trees\n",
    "- Review\n",
    "- Matplotlib\n",
    "- General Trees\n",
    "- Binary Trees\n",
    "\n",
    "\n",
    "## Review\n",
    "Python I/O\n",
    "- console: `print`, `input`\n",
    "- file: `open`, `read`, `write`, `close`\n",
    "- web scrapping: `Beautiful Soup`\n",
    "\n",
    "Python's dict class is arguably the most significant data structure in the language. It represents an abstraction known as a dictionary in which unique keys are mapped to associated values. Beacuse of the relationship they express...\n",
    "\n",
    "## Matplotlib\n",
    "Matplotlib is a Python 2D plotting library which produces publication quality figures in a variety of hardcopy formats and interactive environments across platforms. Matplotlib can be used in Python scripts, the Python and IPython shells, the Jupyter notebook, web application servers, and four GUI toolkits.\n",
    "Matplolib tries to maske easy things easy and hard things possible. You can generate plots, histograms, power ...\n",
    "\n",
    "### Examples\n",
    "- https://matplotlib.org/tutorials/introductory/sample_plots.html\n",
    "- ...\n",
    "\n",
    "# General Tree\n",
    "Tree is one of the most important nonlinear data structures.\n",
    "- Tree structures are indeed a breakthrough in data organizations, for they allow us to implement a host of algorithms much faster than when using linear data structures, such as array-based lists or linked lists.\n",
    "- Trees also provide a natural organization for data,  and consequently have become ubiquitous structures in file systems, graphical user interfaces, databases, ...\n",
    "\n",
    "## Tree\n",
    "Tree Definitions and Properties\n",
    "- A tree is an abstract data type that stores elements hierarchically.\n",
    "- With the exception of the top element, each element in a tree has a parent element and zero or more children elements.\n",
    "- We typically call the top element the root of the tree, but it is draqn as the highest element, with the other elements being connected below.\n",
    "\n",
    "### Formal Tree Definition\n",
    "A tree T is a set of nodes storing elements such that the nodes have a parent-child relationship that satisfies  the following properties:\n",
    "- If T is nonempty, it has a special node, called the root of T, that has no parent.\n",
    "- Each node v of T diffrent...\n",
    "\n",
    "According to the definition, a tree can be empty, meaning that it does not have any nodes. This convention also allows us to define a tree recursively such that a tree T is either empty or consists of a node `r`, called \n",
    "\n",
    "\n",
    "- Tree의 구조를 잘 이용하면 효과적인 Recursive 알고리즘을 구현할 수 있다."
   ]
  },
  {
   "cell_type": "markdown",
   "metadata": {},
   "source": [
    "# Binary Tree"
   ]
  },
  {
   "cell_type": "code",
   "execution_count": 1,
   "metadata": {},
   "outputs": [],
   "source": [
    "from binarytree import Node\n",
    "root = Node(1)\n",
    "root.left = Node(2)\n",
    "root.right = Node(3)\n",
    "root.left.right = Node(4)"
   ]
  },
  {
   "cell_type": "code",
   "execution_count": 2,
   "metadata": {},
   "outputs": [
    {
     "name": "stdout",
     "output_type": "stream",
     "text": [
      "\n",
      "  __1\n",
      " /   \\\n",
      "2     3\n",
      " \\\n",
      "  4\n",
      "\n"
     ]
    }
   ],
   "source": [
    "print(root)"
   ]
  },
  {
   "cell_type": "code",
   "execution_count": 3,
   "metadata": {},
   "outputs": [
    {
     "data": {
      "text/plain": [
       "{'height': 2,\n",
       " 'size': 4,\n",
       " 'is_max_heap': False,\n",
       " 'is_min_heap': False,\n",
       " 'is_perfect': False,\n",
       " 'is_strict': False,\n",
       " 'is_complete': False,\n",
       " 'leaf_count': 2,\n",
       " 'min_node_value': 1,\n",
       " 'max_node_value': 4,\n",
       " 'min_leaf_depth': 1,\n",
       " 'max_leaf_depth': 2,\n",
       " 'is_bst': False,\n",
       " 'is_balanced': True,\n",
       " 'is_symmetric': False}"
      ]
     },
     "execution_count": 3,
     "metadata": {},
     "output_type": "execute_result"
    }
   ],
   "source": [
    "root.properties"
   ]
  },
  {
   "cell_type": "markdown",
   "metadata": {},
   "source": [
    "# Depth first traversals\n",
    "## Preorder traversal\n",
    "1. Parent\n",
    "2. Preorder(left subtree)\n",
    "3. Preorder(right subtree)\n",
    "\n",
    "## Postorser traversal\n",
    "1. Postorder(left subtree)\n",
    "2. Postorder(right subtree)\n",
    "3. Parent\n",
    "\n",
    "### Preorder traversal"
   ]
  },
  {
   "cell_type": "code",
   "execution_count": 4,
   "metadata": {},
   "outputs": [],
   "source": [
    "def preorder(root):\n",
    "    if root is None:\n",
    "        return\n",
    "    print(root.value)\n",
    "    preorder(root.left)\n",
    "    preorder(root.right)"
   ]
  },
  {
   "cell_type": "code",
   "execution_count": 5,
   "metadata": {},
   "outputs": [
    {
     "name": "stdout",
     "output_type": "stream",
     "text": [
      "1\n",
      "2\n",
      "4\n",
      "3\n"
     ]
    }
   ],
   "source": [
    "preorder(root)"
   ]
  },
  {
   "cell_type": "code",
   "execution_count": 6,
   "metadata": {},
   "outputs": [
    {
     "data": {
      "text/plain": [
       "[Node(1), Node(2), Node(4), Node(3)]"
      ]
     },
     "execution_count": 6,
     "metadata": {},
     "output_type": "execute_result"
    }
   ],
   "source": [
    "root.preorder"
   ]
  },
  {
   "cell_type": "markdown",
   "metadata": {},
   "source": [
    "### Postorder traversal"
   ]
  },
  {
   "cell_type": "code",
   "execution_count": 7,
   "metadata": {},
   "outputs": [],
   "source": [
    "def postorder(root):\n",
    "    if root is None:\n",
    "        return\n",
    "    postorder(root.left)\n",
    "    postorder(root.right)\n",
    "    print(root.value)"
   ]
  },
  {
   "cell_type": "code",
   "execution_count": 8,
   "metadata": {},
   "outputs": [
    {
     "name": "stdout",
     "output_type": "stream",
     "text": [
      "4\n",
      "2\n",
      "3\n",
      "1\n"
     ]
    }
   ],
   "source": [
    "postorder(root)"
   ]
  },
  {
   "cell_type": "code",
   "execution_count": 9,
   "metadata": {},
   "outputs": [
    {
     "data": {
      "text/plain": [
       "[Node(4), Node(2), Node(3), Node(1)]"
      ]
     },
     "execution_count": 9,
     "metadata": {},
     "output_type": "execute_result"
    }
   ],
   "source": [
    "root.postorder"
   ]
  },
  {
   "cell_type": "markdown",
   "metadata": {},
   "source": [
    "# Breadth-first Traversal\n",
    "AKA level order"
   ]
  },
  {
   "cell_type": "code",
   "execution_count": 10,
   "metadata": {},
   "outputs": [],
   "source": [
    "import queue\n",
    "def breadthfirst(root):\n",
    "    if root is None:\n",
    "        return\n",
    "    Q = queue.Queue()\n",
    "    Q.put(root)\n",
    "    while not Q.empty():\n",
    "        node = Q.get()\n",
    "        print(node.value)\n",
    "        if node.left is not None:\n",
    "            Q.put(node.left)\n",
    "        if node.right is not None:\n",
    "            Q.put(node.right)"
   ]
  },
  {
   "cell_type": "code",
   "execution_count": 11,
   "metadata": {},
   "outputs": [
    {
     "name": "stdout",
     "output_type": "stream",
     "text": [
      "1\n",
      "2\n",
      "3\n",
      "4\n"
     ]
    }
   ],
   "source": [
    "breadthfirst(root)"
   ]
  },
  {
   "cell_type": "code",
   "execution_count": 12,
   "metadata": {},
   "outputs": [
    {
     "data": {
      "text/plain": [
       "[Node(1), Node(2), Node(3), Node(4)]"
      ]
     },
     "execution_count": 12,
     "metadata": {},
     "output_type": "execute_result"
    }
   ],
   "source": [
    "root.levelorder"
   ]
  },
  {
   "cell_type": "markdown",
   "metadata": {},
   "source": [
    "## Inorder traversal\n",
    "another depth-first traversal\n",
    "1. inorder(left subtree)\n",
    "2. parent\n",
    "3. inorder(right subtree)"
   ]
  },
  {
   "cell_type": "code",
   "execution_count": 13,
   "metadata": {},
   "outputs": [],
   "source": [
    "def inorder(root):\n",
    "    if root is None:\n",
    "        return\n",
    "    inorder(root.left)\n",
    "    print(root.value)\n",
    "    inorder(root.right)"
   ]
  },
  {
   "cell_type": "code",
   "execution_count": 14,
   "metadata": {},
   "outputs": [
    {
     "name": "stdout",
     "output_type": "stream",
     "text": [
      "2\n",
      "4\n",
      "1\n",
      "3\n"
     ]
    }
   ],
   "source": [
    "inorder(root)"
   ]
  },
  {
   "cell_type": "markdown",
   "metadata": {},
   "source": [
    "# Find the tree height"
   ]
  },
  {
   "cell_type": "code",
   "execution_count": 25,
   "metadata": {},
   "outputs": [],
   "source": [
    "def tree_height(root):\n",
    "    if root is None:\n",
    "        return -1\n",
    "    return max(tree_height(root.left), tree_height(root.right)) + 1"
   ]
  },
  {
   "cell_type": "code",
   "execution_count": 26,
   "metadata": {},
   "outputs": [
    {
     "data": {
      "text/plain": [
       "2"
      ]
     },
     "execution_count": 26,
     "metadata": {},
     "output_type": "execute_result"
    }
   ],
   "source": [
    "tree_height(root)"
   ]
  },
  {
   "cell_type": "markdown",
   "metadata": {},
   "source": [
    "# Check if the binary tree is `proper(strict)` or not"
   ]
  },
  {
   "cell_type": "code",
   "execution_count": 27,
   "metadata": {},
   "outputs": [],
   "source": [
    "def is_proper(root):\n",
    "    if root is None:\n",
    "        return True\n",
    "    elif root.left is None and root.right is None:\n",
    "        return True\n",
    "    elif root.left is not None and root.right is not None:\n",
    "        return is_proper(root.left) and is_proper(root.right)\n",
    "    return False"
   ]
  },
  {
   "cell_type": "code",
   "execution_count": 30,
   "metadata": {},
   "outputs": [
    {
     "data": {
      "text/plain": [
       "False"
      ]
     },
     "execution_count": 30,
     "metadata": {},
     "output_type": "execute_result"
    }
   ],
   "source": [
    "is_proper(root)"
   ]
  },
  {
   "cell_type": "code",
   "execution_count": 31,
   "metadata": {},
   "outputs": [
    {
     "data": {
      "text/plain": [
       "{'height': 2,\n",
       " 'size': 4,\n",
       " 'is_max_heap': False,\n",
       " 'is_min_heap': False,\n",
       " 'is_perfect': False,\n",
       " 'is_strict': False,\n",
       " 'is_complete': False,\n",
       " 'leaf_count': 2,\n",
       " 'min_node_value': 1,\n",
       " 'max_node_value': 4,\n",
       " 'min_leaf_depth': 1,\n",
       " 'max_leaf_depth': 2,\n",
       " 'is_bst': False,\n",
       " 'is_balanced': True,\n",
       " 'is_symmetric': False}"
      ]
     },
     "execution_count": 31,
     "metadata": {},
     "output_type": "execute_result"
    }
   ],
   "source": [
    "root.properties"
   ]
  },
  {
   "cell_type": "code",
   "execution_count": 32,
   "metadata": {},
   "outputs": [
    {
     "data": {
      "text/plain": [
       "False"
      ]
     },
     "execution_count": 32,
     "metadata": {},
     "output_type": "execute_result"
    }
   ],
   "source": [
    "root.is_strict"
   ]
  },
  {
   "cell_type": "code",
   "execution_count": 33,
   "metadata": {},
   "outputs": [],
   "source": [
    "root.left.left = Node(10)"
   ]
  },
  {
   "cell_type": "code",
   "execution_count": 34,
   "metadata": {},
   "outputs": [
    {
     "name": "stdout",
     "output_type": "stream",
     "text": [
      "\n",
      "     __1\n",
      "    /   \\\n",
      "  _2     3\n",
      " /  \\\n",
      "10   4\n",
      "\n"
     ]
    }
   ],
   "source": [
    "print(root)"
   ]
  },
  {
   "cell_type": "code",
   "execution_count": 35,
   "metadata": {},
   "outputs": [
    {
     "data": {
      "text/plain": [
       "True"
      ]
     },
     "execution_count": 35,
     "metadata": {},
     "output_type": "execute_result"
    }
   ],
   "source": [
    "is_proper(root)"
   ]
  },
  {
   "cell_type": "code",
   "execution_count": 36,
   "metadata": {},
   "outputs": [
    {
     "data": {
      "text/plain": [
       "True"
      ]
     },
     "execution_count": 36,
     "metadata": {},
     "output_type": "execute_result"
    }
   ],
   "source": [
    "root.is_strict"
   ]
  },
  {
   "cell_type": "markdown",
   "metadata": {},
   "source": [
    "# Property 설명!\n",
    "- Perfect: 모든 depth에 maximum node가 차있어야 한다.\n",
    "- Complete: depth가 d라면 d-1까지는 perfect해야하며, d부터는 왼쪽부터 차있어야 한다.\n",
    "- heap: 나중에 배우는 자료구조중에 하나다.\n",
    "- bst: Binary Search Tree의 약자다. binary tree 구조인데, **parent의 left subtree에 있는 element 값은 parent보다 무조건 작아야 하며, parent의 right subtree에 있는 element 값은 parent보다 무조건 커야 한다.** 이 규칙은 subtree에도 각각 적용된다. 이 형태의 장점으로는 아무리 element가 많아도, 최대 heigth만큼의 operation 안에서 원하는 값을 찾아낼 수 있다."
   ]
  },
  {
   "cell_type": "code",
   "execution_count": null,
   "metadata": {},
   "outputs": [],
   "source": []
  }
 ],
 "metadata": {
  "kernelspec": {
   "display_name": "Python 3",
   "language": "python",
   "name": "python3"
  },
  "language_info": {
   "codemirror_mode": {
    "name": "ipython",
    "version": 3
   },
   "file_extension": ".py",
   "mimetype": "text/x-python",
   "name": "python",
   "nbconvert_exporter": "python",
   "pygments_lexer": "ipython3",
   "version": "3.6.0"
  }
 },
 "nbformat": 4,
 "nbformat_minor": 4
}
