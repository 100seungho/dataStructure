{
 "cells": [
  {
   "cell_type": "markdown",
   "metadata": {},
   "source": [
    "# Recursion Review\n",
    "1. Recursion은 base case를 가져야 한다.\n",
    "2. base case로 나가는 방향을 가져야 한다.\n",
    "3. 자기 자신을 함수 안에서 부른다."
   ]
  },
  {
   "cell_type": "markdown",
   "metadata": {},
   "source": [
    "# Python Class\n",
    "자동차를 운전한다고 생각해보자, 핸들을 꺾고 기어를 바꾸고 브레이크를 밟고, 엑셀을 밟는 등 이런 걸 알면 된다. 공학적인 지식이 없어도 다들 운전은 할 수 있다. `class`는 그런 개념이라고 보면 된다. class는 그런식으로 이용하기 쉽도록 기능들을 제공해준다. 파이썬은 모든 data type들이 class로 구현돼있다. list, string, integer 내부를 까보면 class로 구현돼있다.\n",
    "class는 안에 여러가지 data를 저장할 수 있다. 내부에 연료가 얼마나 남았는지, 속도가 어떻게 되는지 모두 나타나는데 class의 여러가지 변수들이나  다른 data를 저장해놓고 내부적으로도 사용 가능하고 밖에서 볼 수도 있다."
   ]
  },
  {
   "cell_type": "raw",
   "metadata": {},
   "source": [
    "class Random(_random.Random):\n",
    "    VERSION = 3 #used by getstate/setstate\n",
    "    \n",
    "    def __init__(self, x = None):\n",
    "        self.seed(x)\n",
    "        self.gauss_next = None"
   ]
  },
  {
   "cell_type": "markdown",
   "metadata": {},
   "source": [
    "## Constructor\n",
    "`class`가 `init`될 때 불리는 생성함수이다. __init__ method\n",
    "## Methods\n",
    "`class`의 어떠한 기능을 수행하는 함수다. `Array`의 `sort`, `reverse`, 등. \n",
    "\n",
    "몇 가지 예를 들어보자"
   ]
  },
  {
   "cell_type": "code",
   "execution_count": 3,
   "metadata": {},
   "outputs": [],
   "source": [
    "class User:\n",
    "    def __init__(self, name, email, age): #constructor\n",
    "        self.name = name\n",
    "        self.email = email\n",
    "        self.age = age\n",
    "    \n",
    "    def greeting(self):\n",
    "        return 'Hello, my name is ' + self.name + ' and I am ' + str(self.age) + ' years old.'"
   ]
  },
  {
   "cell_type": "code",
   "execution_count": 10,
   "metadata": {},
   "outputs": [],
   "source": [
    "John = User('John Adams', 'john@abc.com', 30)"
   ]
  },
  {
   "cell_type": "code",
   "execution_count": 11,
   "metadata": {},
   "outputs": [
    {
     "data": {
      "text/plain": [
       "'Hello, my name is John Adams and I am 30 years old.'"
      ]
     },
     "execution_count": 11,
     "metadata": {},
     "output_type": "execute_result"
    }
   ],
   "source": [
    "John.greeting()"
   ]
  },
  {
   "cell_type": "markdown",
   "metadata": {},
   "source": [
    "## Inheritance\n",
    "class는 상속을 통해 나만의 방식으로 발전시켜나갈 수 있다. 기존에 있는 것들 중 몇 가지는 가져다 쓰고, 내가 원하는 걸 덧붙여 사용할 수 있다. 상속을 하기 위해서는 **parent class**라는 부모 클래스가 있어야 한다. 부모클래스로부터 상속받는 class는 **child class**라고 한다."
   ]
  },
  {
   "cell_type": "markdown",
   "metadata": {},
   "source": [
    "## Extended class"
   ]
  },
  {
   "cell_type": "code",
   "execution_count": 4,
   "metadata": {},
   "outputs": [],
   "source": [
    "class Customer(User):\n",
    "    def __init__(self, name, email, age, balance = 0):\n",
    "        User.__init__(self, name, email, age)\n",
    "        self.balance = balance \n",
    "        \n",
    "    def greeting(self):\n",
    "        res = User.greeting(self)\n",
    "        return res + ' And my balance is ' + str(self.balance) +'.'\n",
    "    \n",
    "    def set_balance(self, balance):\n",
    "        self.balance = balance"
   ]
  },
  {
   "cell_type": "code",
   "execution_count": 22,
   "metadata": {},
   "outputs": [],
   "source": [
    "Jane = Customer('Jane Doe', 'jane@def.com', 27)"
   ]
  },
  {
   "cell_type": "code",
   "execution_count": 23,
   "metadata": {},
   "outputs": [
    {
     "data": {
      "text/plain": [
       "'Hello, my name is Jane Doe and I am 27 years old. And my balance is 0'"
      ]
     },
     "execution_count": 23,
     "metadata": {},
     "output_type": "execute_result"
    }
   ],
   "source": [
    "Jane.greeting()"
   ]
  },
  {
   "cell_type": "code",
   "execution_count": 29,
   "metadata": {},
   "outputs": [],
   "source": [
    "Jane.set_balance(100)"
   ]
  },
  {
   "cell_type": "code",
   "execution_count": 34,
   "metadata": {},
   "outputs": [
    {
     "data": {
      "text/plain": [
       "'Hello, my name is Jane Doe and I am 27 years old. And my balance is 100'"
      ]
     },
     "execution_count": 34,
     "metadata": {},
     "output_type": "execute_result"
    }
   ],
   "source": [
    "Jane.greeting()"
   ]
  },
  {
   "cell_type": "code",
   "execution_count": null,
   "metadata": {},
   "outputs": [],
   "source": []
  },
  {
   "cell_type": "code",
   "execution_count": null,
   "metadata": {},
   "outputs": [],
   "source": []
  },
  {
   "cell_type": "code",
   "execution_count": 31,
   "metadata": {},
   "outputs": [
    {
     "name": "stdout",
     "output_type": "stream",
     "text": [
      "<class '__main__.User'>\n"
     ]
    }
   ],
   "source": [
    "print(User)"
   ]
  },
  {
   "cell_type": "code",
   "execution_count": 32,
   "metadata": {},
   "outputs": [
    {
     "name": "stdout",
     "output_type": "stream",
     "text": [
      "<class 'list'>\n"
     ]
    }
   ],
   "source": [
    "print(list)"
   ]
  },
  {
   "cell_type": "code",
   "execution_count": 33,
   "metadata": {},
   "outputs": [
    {
     "name": "stdout",
     "output_type": "stream",
     "text": [
      "<class 'dict'>\n"
     ]
    }
   ],
   "source": [
    "print(dict)"
   ]
  },
  {
   "cell_type": "code",
   "execution_count": 35,
   "metadata": {},
   "outputs": [
    {
     "name": "stdout",
     "output_type": "stream",
     "text": [
      "100\n"
     ]
    }
   ],
   "source": [
    "print(Jane.balance)"
   ]
  },
  {
   "cell_type": "code",
   "execution_count": 36,
   "metadata": {},
   "outputs": [
    {
     "name": "stdout",
     "output_type": "stream",
     "text": [
      "Jane Doe\n"
     ]
    }
   ],
   "source": [
    "print(Jane.name)"
   ]
  },
  {
   "cell_type": "code",
   "execution_count": 37,
   "metadata": {},
   "outputs": [
    {
     "name": "stdout",
     "output_type": "stream",
     "text": [
      "john@abc.com\n"
     ]
    }
   ],
   "source": [
    "print(John.email)"
   ]
  },
  {
   "cell_type": "code",
   "execution_count": 41,
   "metadata": {},
   "outputs": [],
   "source": [
    "class SecuredCustomer(User):\n",
    "    def __init(self, name, email, age, balance = 0, pin = '0000'):\n",
    "        super().__init__(name, email, age) # 상위 class의 instance를 불러온다.\n",
    "        self.balance = balance\n",
    "        self.__pin = pin # underbar(`-`) 2 개를 붙이면 외부에서 접근할 수 없어진다.\n",
    "    def set_balance(self, balance):\n",
    "        self.balance = balance\n",
    "    def gretting(self):\n",
    "        res = super().greeting()\n",
    "        return res + ' And my balance is ' + str(self.balance) + '.'\n",
    "    def set_pin(self, pin):\n",
    "        self.__pin = pin"
   ]
  },
  {
   "cell_type": "code",
   "execution_count": 16,
   "metadata": {},
   "outputs": [],
   "source": [
    "David = SecuredCustomer('David Palmer', 'david@wh.org', 60)"
   ]
  },
  {
   "cell_type": "code",
   "execution_count": 10,
   "metadata": {},
   "outputs": [
    {
     "name": "stdout",
     "output_type": "stream",
     "text": [
      "Hello, my name is David Palmer and I am 60 years old.\n"
     ]
    }
   ],
   "source": [
    "print(David.greeting())"
   ]
  },
  {
   "cell_type": "code",
   "execution_count": 11,
   "metadata": {},
   "outputs": [
    {
     "name": "stdout",
     "output_type": "stream",
     "text": [
      "David Palmer\n"
     ]
    }
   ],
   "source": [
    "print(David.name)"
   ]
  },
  {
   "cell_type": "code",
   "execution_count": 12,
   "metadata": {},
   "outputs": [
    {
     "ename": "AttributeError",
     "evalue": "'SecuredCustomer' object has no attribute '__pin'",
     "output_type": "error",
     "traceback": [
      "\u001b[0;31m---------------------------------------------------------------------------\u001b[0m",
      "\u001b[0;31mAttributeError\u001b[0m                            Traceback (most recent call last)",
      "\u001b[0;32m<ipython-input-12-6d1585d29c52>\u001b[0m in \u001b[0;36m<module>\u001b[0;34m\u001b[0m\n\u001b[0;32m----> 1\u001b[0;31m \u001b[0mprint\u001b[0m\u001b[0;34m(\u001b[0m\u001b[0mDavid\u001b[0m\u001b[0;34m.\u001b[0m\u001b[0m__pin\u001b[0m\u001b[0;34m)\u001b[0m\u001b[0;34m\u001b[0m\u001b[0m\n\u001b[0m",
      "\u001b[0;31mAttributeError\u001b[0m: 'SecuredCustomer' object has no attribute '__pin'"
     ]
    }
   ],
   "source": [
    "print(David.__pin)"
   ]
  },
  {
   "cell_type": "code",
   "execution_count": 14,
   "metadata": {},
   "outputs": [],
   "source": [
    "class SecuredCustomer(User):\n",
    "    def __init(self, name, email, age, balance = 0, pin = '0000'):\n",
    "        super().__init__(name, email, age) # 상위 class의 instance를 불러온다.\n",
    "        self.balance = balance\n",
    "        self.__pin = pin # underbar(`-`) 2 개를 붙이면 외부에서 접근할 수 없어진다.\n",
    "\n",
    "    def set_balance(self, balance):\n",
    "        self.balance = balance\n",
    "\n",
    "    def gretting(self):\n",
    "        res = super().greeting()\n",
    "        return res + ' And my balance is ' + str(self.balance) + '.'\n",
    "\n",
    "    def set_pin(self, pin):\n",
    "        if self.__check_pin(self):\n",
    "            self.__pin = pin\n",
    "        \n",
    "    def __check_pin(self):\n",
    "        p = input('Enter the pin number : ')\n",
    "        if p == self.__pin:\n",
    "            return True\n",
    "        else:\n",
    "            return False\n",
    "        "
   ]
  },
  {
   "cell_type": "code",
   "execution_count": 17,
   "metadata": {},
   "outputs": [
    {
     "ename": "TypeError",
     "evalue": "__check_pin() takes 1 positional argument but 3 were given",
     "output_type": "error",
     "traceback": [
      "\u001b[0;31m---------------------------------------------------------------------------\u001b[0m",
      "\u001b[0;31mTypeError\u001b[0m                                 Traceback (most recent call last)",
      "\u001b[0;32m<ipython-input-17-e5ee48d71db7>\u001b[0m in \u001b[0;36m<module>\u001b[0;34m\u001b[0m\n\u001b[0;32m----> 1\u001b[0;31m \u001b[0mDavid\u001b[0m\u001b[0;34m.\u001b[0m\u001b[0mset_pin\u001b[0m\u001b[0;34m(\u001b[0m\u001b[0;34m'1234'\u001b[0m\u001b[0;34m)\u001b[0m\u001b[0;34m\u001b[0m\u001b[0m\n\u001b[0m",
      "\u001b[0;32m<ipython-input-14-781064bbb9ee>\u001b[0m in \u001b[0;36mset_pin\u001b[0;34m(self, pin)\u001b[0m\n\u001b[1;32m     13\u001b[0m \u001b[0;34m\u001b[0m\u001b[0m\n\u001b[1;32m     14\u001b[0m     \u001b[0;32mdef\u001b[0m \u001b[0mset_pin\u001b[0m\u001b[0;34m(\u001b[0m\u001b[0mself\u001b[0m\u001b[0;34m,\u001b[0m \u001b[0mpin\u001b[0m\u001b[0;34m)\u001b[0m\u001b[0;34m:\u001b[0m\u001b[0;34m\u001b[0m\u001b[0m\n\u001b[0;32m---> 15\u001b[0;31m         \u001b[0;32mif\u001b[0m \u001b[0mself\u001b[0m\u001b[0;34m.\u001b[0m\u001b[0m__check_pin\u001b[0m\u001b[0;34m(\u001b[0m\u001b[0mself\u001b[0m\u001b[0;34m,\u001b[0m \u001b[0mpin\u001b[0m\u001b[0;34m)\u001b[0m\u001b[0;34m:\u001b[0m\u001b[0;34m\u001b[0m\u001b[0m\n\u001b[0m\u001b[1;32m     16\u001b[0m             \u001b[0mself\u001b[0m\u001b[0;34m.\u001b[0m\u001b[0m__pin\u001b[0m \u001b[0;34m=\u001b[0m \u001b[0mpin\u001b[0m\u001b[0;34m\u001b[0m\u001b[0m\n\u001b[1;32m     17\u001b[0m \u001b[0;34m\u001b[0m\u001b[0m\n",
      "\u001b[0;31mTypeError\u001b[0m: __check_pin() takes 1 positional argument but 3 were given"
     ]
    }
   ],
   "source": [
    "David.set_pin('1234')"
   ]
  },
  {
   "cell_type": "code",
   "execution_count": 18,
   "metadata": {},
   "outputs": [
    {
     "data": {
      "text/plain": [
       "True"
      ]
     },
     "execution_count": 18,
     "metadata": {},
     "output_type": "execute_result"
    }
   ],
   "source": [
    "isinstance(David, SecuredCustomer)"
   ]
  },
  {
   "cell_type": "code",
   "execution_count": 20,
   "metadata": {},
   "outputs": [
    {
     "data": {
      "text/plain": [
       "True"
      ]
     },
     "execution_count": 20,
     "metadata": {},
     "output_type": "execute_result"
    }
   ],
   "source": [
    "isinstance(David, User)"
   ]
  },
  {
   "cell_type": "code",
   "execution_count": 21,
   "metadata": {},
   "outputs": [
    {
     "data": {
      "text/plain": [
       "False"
      ]
     },
     "execution_count": 21,
     "metadata": {},
     "output_type": "execute_result"
    }
   ],
   "source": [
    "isinstance(David, Customer)"
   ]
  },
  {
   "cell_type": "markdown",
   "metadata": {},
   "source": [
    "# Sequence Types\n",
    "`list`, `tuple`, `str`. 비슷하지만 서로 다르다.\n",
    "- 이러한 시퀀스 타입들은, 각각의 element에 접근할 때 index를 갖고 접근할 수 있다. e.g. $s[j]$\n",
    "- low-level concept으로 `array`형태로 표현이 가능하다.\n",
    "- python 내부에서는 약간 다른 방식으로 표현이 된다.\n",
    "\n",
    "## Low-level Array\n",
    "컴퓨터가 명령을 수행하는 부분이 있고, 명령 수행을 위해 잠시 data나 결과를 저장하는 곳을 Memory라고 한다. memory 부분부분의 주소는 **memory address**라고 한다. 각각의 메모리는 하나의 byte를 갖고 있고, 각 byte마다 고유의 주소를 갖고 특정값을 저장하고 있다고 생각하면 된다. 이는 어떤 언어를 쓰던 어떤 머신을 쓰던 똑같다.\n",
    "\n",
    "### string\n",
    "`string` 하나를 저장하고 싶다고 해보자. `string`은 character들의 모임이다. 'SAMPLE'을 저장한다고 쳤을 때 각각의 character가 6개 있다. 그리고 이 각각의 character들은 2byte(cell size)로 저장이 된다. 따라서 $6*2$ 총 12byte를 저장한다. 그리고 우리는 'SAMPLE'을 기억하기 위해서 시작주소를 기억한다. 그리고 우리는 접근할 때 시작 주소에 인덱스에 저장되는 데이터 타입의 byte 수(cell size)를 알면 data에 접근할 수 있다. `string`은 편한 case라고 할 수 있다.\n",
    "    **$start + (cell size)*(index)$**\n",
    "    \n",
    "\n",
    "### list\n",
    "`list`는 어떨까? `['Rene', 'Joseph', 'Janet', 'Jonas', 'Helen', 'Virginia', ...]`이런 list가 있을 때 `string`처럼 접근한다면 상당히 비효율 적일 것이다. 또한 `list`의 값은 바뀔수가 있다. 그럴 때 하나의 값이 길이가 다른 걸로 바뀐다면 그 뒤에 있는 것들의 주소가 모두 바껴야 한다. 그래서 list는 **reference**를 이용한다. list를 만들 때는 값들을 저장하는게 아니라, list 값이 있는 주소를 저장한다. 그리고 list의 사이즈는 다 고정된 사이즈이다. 그래서 주소를 가져오는 건 constant time에 실행할 수 있게된다. 이를 우리는 **Referential Arrays**라고 부른다. 단점으로는 list의 주소를 불러오고, 값을 가져와야 하므로 두 번의 절차를 거친다.\n",
    "\n",
    "### compact array\n",
    "sting은 reference를 쓰지 않고 그 값을 저장한다. Referential Array는 반면, 메모리 공간이 더 많이 필요하며 primary data가 연속하여(consecutively) 저장될 수 없다. 메모리를 어쩌면 비효율적으로 사용한다고 볼 수 있다. 이러한 단점을 극복하기 위해서 `compact array`라는 걸 만들었다. string은 이미 compact하게 구현됐다. 이처럼 각각의 elelment가 같은 사이즈이면 우리는 compact하게 array를 구현할 수 있다. **이를 쓰기 위해서는 data type이 갖고있는 사이즈가 모두 똑같아야 한다.** 이게 보장된다면 메모리를 적게 잡아먹는 array를 만들 수 있다.\n"
   ]
  },
  {
   "cell_type": "code",
   "execution_count": 22,
   "metadata": {},
   "outputs": [],
   "source": [
    "L = list(range(1,100))"
   ]
  },
  {
   "cell_type": "code",
   "execution_count": 23,
   "metadata": {},
   "outputs": [],
   "source": [
    "from array import array"
   ]
  },
  {
   "cell_type": "code",
   "execution_count": 24,
   "metadata": {},
   "outputs": [],
   "source": [
    "A = array('i', list(range(1,100)))"
   ]
  },
  {
   "cell_type": "code",
   "execution_count": 25,
   "metadata": {},
   "outputs": [],
   "source": [
    "import sys"
   ]
  },
  {
   "cell_type": "code",
   "execution_count": 27,
   "metadata": {},
   "outputs": [
    {
     "data": {
      "text/plain": [
       "1000"
      ]
     },
     "execution_count": 27,
     "metadata": {},
     "output_type": "execute_result"
    }
   ],
   "source": [
    "sys.getsizeof(L)"
   ]
  },
  {
   "cell_type": "code",
   "execution_count": 28,
   "metadata": {},
   "outputs": [
    {
     "data": {
      "text/plain": [
       "460"
      ]
     },
     "execution_count": 28,
     "metadata": {},
     "output_type": "execute_result"
    }
   ],
   "source": [
    "sys.getsizeof(A)"
   ]
  },
  {
   "cell_type": "markdown",
   "metadata": {},
   "source": [
    "list는 type에 구애받지 않지만, 이 때문에 additional memory를 먹을 수 있다. 이를 막기 위해 우리는 array를 사용할 수 있다."
   ]
  },
  {
   "cell_type": "markdown",
   "metadata": {},
   "source": [
    "## Eficiency of Pythons Sequence Types\n",
    "list에는 우리가 주로 사용하는 여러가지 method들이 있다. 이런 method들이 어떤 complexity를 가지는지 분석해보자. "
   ]
  },
  {
   "cell_type": "markdown",
   "metadata": {},
   "source": [
    "## list Operations"
   ]
  },
  {
   "cell_type": "code",
   "execution_count": 29,
   "metadata": {},
   "outputs": [],
   "source": [
    "data= [2,3,5,7,11,13,17,19,23]"
   ]
  },
  {
   "cell_type": "code",
   "execution_count": 30,
   "metadata": {},
   "outputs": [
    {
     "data": {
      "text/plain": [
       "9"
      ]
     },
     "execution_count": 30,
     "metadata": {},
     "output_type": "execute_result"
    }
   ],
   "source": [
    "len(data)"
   ]
  },
  {
   "cell_type": "code",
   "execution_count": 31,
   "metadata": {},
   "outputs": [
    {
     "data": {
      "text/plain": [
       "5"
      ]
     },
     "execution_count": 31,
     "metadata": {},
     "output_type": "execute_result"
    }
   ],
   "source": [
    "data[2]"
   ]
  },
  {
   "cell_type": "code",
   "execution_count": 33,
   "metadata": {},
   "outputs": [
    {
     "data": {
      "text/plain": [
       "0"
      ]
     },
     "execution_count": 33,
     "metadata": {},
     "output_type": "execute_result"
    }
   ],
   "source": [
    "data.count(4)"
   ]
  },
  {
   "cell_type": "code",
   "execution_count": 34,
   "metadata": {},
   "outputs": [
    {
     "data": {
      "text/plain": [
       "1"
      ]
     },
     "execution_count": 34,
     "metadata": {},
     "output_type": "execute_result"
    }
   ],
   "source": [
    "data.count(3)"
   ]
  },
  {
   "cell_type": "code",
   "execution_count": 35,
   "metadata": {},
   "outputs": [
    {
     "data": {
      "text/plain": [
       "1"
      ]
     },
     "execution_count": 35,
     "metadata": {},
     "output_type": "execute_result"
    }
   ],
   "source": [
    "data.index(3)"
   ]
  },
  {
   "cell_type": "code",
   "execution_count": 36,
   "metadata": {},
   "outputs": [
    {
     "data": {
      "text/plain": [
       "True"
      ]
     },
     "execution_count": 36,
     "metadata": {},
     "output_type": "execute_result"
    }
   ],
   "source": [
    "5 in data"
   ]
  },
  {
   "cell_type": "code",
   "execution_count": 37,
   "metadata": {},
   "outputs": [
    {
     "data": {
      "text/plain": [
       "False"
      ]
     },
     "execution_count": 37,
     "metadata": {},
     "output_type": "execute_result"
    }
   ],
   "source": [
    "4 in data"
   ]
  },
  {
   "cell_type": "code",
   "execution_count": 38,
   "metadata": {},
   "outputs": [],
   "source": [
    "data1 = [2,3,5,7]\n",
    "data2 = [2,3,4,5]"
   ]
  },
  {
   "cell_type": "code",
   "execution_count": 39,
   "metadata": {},
   "outputs": [
    {
     "data": {
      "text/plain": [
       "False"
      ]
     },
     "execution_count": 39,
     "metadata": {},
     "output_type": "execute_result"
    }
   ],
   "source": [
    "data1 == data2"
   ]
  },
  {
   "cell_type": "code",
   "execution_count": 40,
   "metadata": {},
   "outputs": [],
   "source": [
    "data1 = [2,3,5,7]\n",
    "data2 = [2,3,5,7]"
   ]
  },
  {
   "cell_type": "code",
   "execution_count": 41,
   "metadata": {},
   "outputs": [
    {
     "data": {
      "text/plain": [
       "True"
      ]
     },
     "execution_count": 41,
     "metadata": {},
     "output_type": "execute_result"
    }
   ],
   "source": [
    "data1 == data2"
   ]
  },
  {
   "cell_type": "code",
   "execution_count": 42,
   "metadata": {},
   "outputs": [],
   "source": [
    "data1 = [2,3,5,7]\n",
    "data2 = [2,3,7,5]"
   ]
  },
  {
   "cell_type": "code",
   "execution_count": 43,
   "metadata": {},
   "outputs": [
    {
     "data": {
      "text/plain": [
       "False"
      ]
     },
     "execution_count": 43,
     "metadata": {},
     "output_type": "execute_result"
    }
   ],
   "source": [
    "data1 == data2"
   ]
  },
  {
   "cell_type": "code",
   "execution_count": 44,
   "metadata": {},
   "outputs": [],
   "source": [
    "data = data1 + data2"
   ]
  },
  {
   "cell_type": "code",
   "execution_count": 45,
   "metadata": {},
   "outputs": [
    {
     "data": {
      "text/plain": [
       "[2, 3, 5, 7, 2, 3, 7, 5]"
      ]
     },
     "execution_count": 45,
     "metadata": {},
     "output_type": "execute_result"
    }
   ],
   "source": [
    "data"
   ]
  },
  {
   "cell_type": "code",
   "execution_count": 46,
   "metadata": {},
   "outputs": [
    {
     "data": {
      "text/plain": [
       "[5, 7]"
      ]
     },
     "execution_count": 46,
     "metadata": {},
     "output_type": "execute_result"
    }
   ],
   "source": [
    "data[2:4]"
   ]
  },
  {
   "cell_type": "code",
   "execution_count": 47,
   "metadata": {},
   "outputs": [],
   "source": [
    "data = 3 * data1"
   ]
  },
  {
   "cell_type": "code",
   "execution_count": 48,
   "metadata": {},
   "outputs": [
    {
     "name": "stdout",
     "output_type": "stream",
     "text": [
      "[2, 3, 5, 7, 2, 3, 5, 7, 2, 3, 5, 7]\n"
     ]
    }
   ],
   "source": [
    "print(data)"
   ]
  },
  {
   "cell_type": "code",
   "execution_count": 49,
   "metadata": {},
   "outputs": [],
   "source": [
    "data.append(29)"
   ]
  },
  {
   "cell_type": "code",
   "execution_count": 54,
   "metadata": {},
   "outputs": [
    {
     "name": "stdout",
     "output_type": "stream",
     "text": [
      "[2, 3, 5, 7, 2, 99, 3, 5, 7, 2, 3, 5, 7, 29]\n"
     ]
    }
   ],
   "source": [
    "print(data)"
   ]
  },
  {
   "cell_type": "code",
   "execution_count": 52,
   "metadata": {},
   "outputs": [],
   "source": [
    "data.insert(5,99)"
   ]
  },
  {
   "cell_type": "code",
   "execution_count": 55,
   "metadata": {},
   "outputs": [
    {
     "name": "stdout",
     "output_type": "stream",
     "text": [
      "[2, 3, 5, 7, 2, 99, 3, 5, 7, 2, 3, 5, 7, 29]\n"
     ]
    }
   ],
   "source": [
    "print(data)"
   ]
  },
  {
   "cell_type": "code",
   "execution_count": 56,
   "metadata": {},
   "outputs": [
    {
     "data": {
      "text/plain": [
       "29"
      ]
     },
     "execution_count": 56,
     "metadata": {},
     "output_type": "execute_result"
    }
   ],
   "source": [
    "data.pop()"
   ]
  },
  {
   "cell_type": "code",
   "execution_count": 57,
   "metadata": {},
   "outputs": [
    {
     "name": "stdout",
     "output_type": "stream",
     "text": [
      "[2, 3, 5, 7, 2, 99, 3, 5, 7, 2, 3, 5, 7]\n"
     ]
    }
   ],
   "source": [
    "print(data)"
   ]
  },
  {
   "cell_type": "code",
   "execution_count": 58,
   "metadata": {},
   "outputs": [
    {
     "data": {
      "text/plain": [
       "2"
      ]
     },
     "execution_count": 58,
     "metadata": {},
     "output_type": "execute_result"
    }
   ],
   "source": [
    "data.pop(4)"
   ]
  },
  {
   "cell_type": "code",
   "execution_count": 59,
   "metadata": {},
   "outputs": [
    {
     "name": "stdout",
     "output_type": "stream",
     "text": [
      "[2, 3, 5, 7, 99, 3, 5, 7, 2, 3, 5, 7]\n"
     ]
    }
   ],
   "source": [
    "print(data)"
   ]
  },
  {
   "cell_type": "code",
   "execution_count": 60,
   "metadata": {},
   "outputs": [],
   "source": [
    "del data[5]"
   ]
  },
  {
   "cell_type": "code",
   "execution_count": 61,
   "metadata": {},
   "outputs": [
    {
     "name": "stdout",
     "output_type": "stream",
     "text": [
      "[2, 3, 5, 7, 99, 5, 7, 2, 3, 5, 7]\n"
     ]
    }
   ],
   "source": [
    "print(data)"
   ]
  },
  {
   "cell_type": "code",
   "execution_count": 62,
   "metadata": {},
   "outputs": [
    {
     "name": "stdout",
     "output_type": "stream",
     "text": [
      "[2, 3, 5, 7]\n"
     ]
    }
   ],
   "source": [
    "print(data1)"
   ]
  },
  {
   "cell_type": "code",
   "execution_count": 63,
   "metadata": {},
   "outputs": [
    {
     "name": "stdout",
     "output_type": "stream",
     "text": [
      "[2, 3, 7, 5]\n"
     ]
    }
   ],
   "source": [
    "print(data2)"
   ]
  },
  {
   "cell_type": "code",
   "execution_count": 64,
   "metadata": {},
   "outputs": [],
   "source": [
    "data1.extend(data2)"
   ]
  },
  {
   "cell_type": "code",
   "execution_count": 65,
   "metadata": {},
   "outputs": [
    {
     "name": "stdout",
     "output_type": "stream",
     "text": [
      "[2, 3, 5, 7, 2, 3, 7, 5]\n"
     ]
    }
   ],
   "source": [
    "print(data1)"
   ]
  },
  {
   "cell_type": "code",
   "execution_count": 66,
   "metadata": {},
   "outputs": [],
   "source": [
    "data1 += data2"
   ]
  },
  {
   "cell_type": "code",
   "execution_count": 67,
   "metadata": {},
   "outputs": [
    {
     "name": "stdout",
     "output_type": "stream",
     "text": [
      "[2, 3, 5, 7, 2, 3, 7, 5, 2, 3, 7, 5]\n"
     ]
    }
   ],
   "source": [
    "print(data1)"
   ]
  },
  {
   "cell_type": "code",
   "execution_count": 71,
   "metadata": {},
   "outputs": [],
   "source": [
    "for i in range(1,10):\n",
    "    data1 += data2\n",
    "    i+=1"
   ]
  },
  {
   "cell_type": "code",
   "execution_count": 72,
   "metadata": {},
   "outputs": [
    {
     "name": "stdout",
     "output_type": "stream",
     "text": [
      "[2, 3, 5, 7, 2, 3, 7, 5, 2, 3, 7, 5, 2, 3, 7, 5, 2, 3, 7, 5, 2, 3, 7, 5, 2, 3, 7, 5, 2, 3, 7, 5, 2, 3, 7, 5, 2, 3, 7, 5, 2, 3, 7, 5, 2, 3, 7, 5, 2, 3, 7, 5, 2, 3, 7, 5, 2, 3, 7, 5, 2, 3, 7, 5, 2, 3, 7, 5, 2, 3, 7, 5, 2, 3, 7, 5, 2, 3, 7, 5, 2, 3, 7, 5]\n"
     ]
    }
   ],
   "source": [
    "print(data1)"
   ]
  },
  {
   "cell_type": "code",
   "execution_count": 73,
   "metadata": {},
   "outputs": [],
   "source": [
    "data1.reverse()"
   ]
  },
  {
   "cell_type": "code",
   "execution_count": 74,
   "metadata": {},
   "outputs": [
    {
     "name": "stdout",
     "output_type": "stream",
     "text": [
      "[5, 7, 3, 2, 5, 7, 3, 2, 5, 7, 3, 2, 5, 7, 3, 2, 5, 7, 3, 2, 5, 7, 3, 2, 5, 7, 3, 2, 5, 7, 3, 2, 5, 7, 3, 2, 5, 7, 3, 2, 5, 7, 3, 2, 5, 7, 3, 2, 5, 7, 3, 2, 5, 7, 3, 2, 5, 7, 3, 2, 5, 7, 3, 2, 5, 7, 3, 2, 5, 7, 3, 2, 5, 7, 3, 2, 5, 7, 3, 2, 7, 5, 3, 2]\n"
     ]
    }
   ],
   "source": [
    "print(data1)"
   ]
  },
  {
   "cell_type": "code",
   "execution_count": 83,
   "metadata": {},
   "outputs": [],
   "source": [
    "for i in range(1,10):\n",
    "    data1.pop()\n",
    "    i+=1"
   ]
  },
  {
   "cell_type": "code",
   "execution_count": 84,
   "metadata": {},
   "outputs": [
    {
     "name": "stdout",
     "output_type": "stream",
     "text": [
      "[5, 7, 3, 2, 5, 7, 3, 2, 5]\n"
     ]
    }
   ],
   "source": [
    "print(data1)"
   ]
  },
  {
   "cell_type": "code",
   "execution_count": 85,
   "metadata": {},
   "outputs": [],
   "source": [
    "data1.sort()"
   ]
  },
  {
   "cell_type": "code",
   "execution_count": 86,
   "metadata": {},
   "outputs": [
    {
     "name": "stdout",
     "output_type": "stream",
     "text": [
      "[2, 2, 3, 3, 5, 5, 5, 7, 7]\n"
     ]
    }
   ],
   "source": [
    "print(data1)"
   ]
  },
  {
   "cell_type": "code",
   "execution_count": null,
   "metadata": {},
   "outputs": [],
   "source": []
  }
 ],
 "metadata": {
  "kernelspec": {
   "display_name": "Python 3",
   "language": "python",
   "name": "python3"
  },
  "language_info": {
   "codemirror_mode": {
    "name": "ipython",
    "version": 3
   },
   "file_extension": ".py",
   "mimetype": "text/x-python",
   "name": "python",
   "nbconvert_exporter": "python",
   "pygments_lexer": "ipython3",
   "version": "3.6.0"
  }
 },
 "nbformat": 4,
 "nbformat_minor": 4
}
