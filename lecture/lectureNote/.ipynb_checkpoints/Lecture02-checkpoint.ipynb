{
 "cells": [
  {
   "cell_type": "code",
   "execution_count": 1,
   "metadata": {},
   "outputs": [
    {
     "data": {
      "text/plain": [
       "'\\nThis is an exammple of multiline comments\\nYou can use single or double quotes\\n'"
      ]
     },
     "execution_count": 1,
     "metadata": {},
     "output_type": "execute_result"
    }
   ],
   "source": [
    "'''\n",
    "This is an exammple of multiline comments\n",
    "You can use single or double quotes\n",
    "'''"
   ]
  },
  {
   "cell_type": "code",
   "execution_count": 3,
   "metadata": {},
   "outputs": [
    {
     "data": {
      "text/plain": [
       "'\\nThis is an example of multiline comments\\nDouble quote als work\\n'"
      ]
     },
     "execution_count": 3,
     "metadata": {},
     "output_type": "execute_result"
    }
   ],
   "source": [
    "\"\"\"\n",
    "This is an example of multiline comments\n",
    "Double quote als work\n",
    "\"\"\""
   ]
  },
  {
   "cell_type": "code",
   "execution_count": 4,
   "metadata": {},
   "outputs": [],
   "source": [
    "# This is an example of a single line comment"
   ]
  },
  {
   "cell_type": "code",
   "execution_count": 5,
   "metadata": {},
   "outputs": [],
   "source": [
    "# Variables(identifier){\n",
    " \"cells\": [\n",
    "  {\n",
    "   \"cell_type\": \"code\",\n",
    "   \"execution_count\": 2,\n",
    "   \"metadata\": {},\n",
    "   \"outputs\": [],\n",
    "   \"source\": [\n",
    "    \"# problem 1\"\n",
    "   ]\n",
    "  },\n",
    "  {\n",
    "   \"cell_type\": \"code\",\n",
    "   \"execution_count\": 3,\n",
    "   \"metadata\": {},\n",
    "   \"outputs\": [\n",
    "    {\n",
    "     \"name\": \"stdout\",\n",
    "     \"output_type\": \"stream\",\n",
    "     \"text\": [\n",
    "      \"32768 0.0059967041015625 0.0 0.0\\n\",\n",
    "      \"65536 0.011992454528808594 0.0 0.0\\n\",\n",
    "      \"131072 0.0279843807220459 0.0 0.0\\n\",\n",
    "      \"262144 0.06296324729919434 0.0 0.0\\n\",\n",
    "      \"524288 0.14691495895385742 0.0 0.0\\n\",\n",
    "      \"1048576 0.3098337650299072 0.001001119613647461 0.0\\n\",\n",
    "      \"2097152 0.7035934925079346 0.002002716064453125 0.0\\n\",\n",
    "      \"4194304 1.5050828456878662 0.004995584487915039 0.0\\n\",\n",
    "      \"8388608 3.3177831172943115 0.010010957717895508 0.0\\n\",\n",
    "      \"16777216 7.202773571014404 0.018990278244018555 0.0\\n\"\n",
    "     ]\n",
    "    },\n",
    "    {\n",
    "     \"data\": {\n",
    "      \"application/javascript\": [\n",
    "       \"/* Put everything inside the global mpl namespace */\\n\",\n",
    "       \"window.mpl = {};\\n\",\n",
    "       \"\\n\",\n",
    "       \"\\n\",\n",
    "       \"mpl.get_websocket_type = function() {\\n\",\n",
    "       \"    if (typeof(WebSocket) !== 'undefined') {\\n\",\n",
    "       \"        return WebSocket;\\n\",\n",
    "       \"    } else if (typeof(MozWebSocket) !== 'undefined') {\\n\",\n",
    "       \"        return MozWebSocket;\\n\",\n",
    "       \"    } else {\\n\",\n",
    "       \"        alert('Your browser does not have WebSocket support. ' +\\n\",\n",
    "       \"              'Please try Chrome, Safari or Firefox ≥ 6. ' +\\n\",\n",
    "       \"              'Firefox 4 and 5 are also supported but you ' +\\n\",\n",
    "       \"              'have to enable WebSockets in about:config.');\\n\",\n",
    "       \"    };\\n\",\n",
    "       \"}\\n\",\n",
    "       \"\\n\",\n",
    "       \"mpl.figure = function(figure_id, websocket, ondownload, parent_element) {\\n\",\n",
    "       \"    this.id = figure_id;\\n\",\n",
    "       \"\\n\",\n",
    "       \"    this.ws = websocket;\\n\",\n",
    "       \"\\n\",\n",
    "       \"    this.supports_binary = (this.ws.binaryType != undefined);\\n\",\n",
    "       \"\\n\",\n",
    "       \"    if (!this.supports_binary) {\\n\",\n",
    "       \"        var warnings = document.getElementById(\\\"mpl-warnings\\\");\\n\",\n",
    "       \"        if (warnings) {\\n\",\n",
    "       \"            warnings.style.display = 'block';\\n\",\n",
    "       \"            warnings.textContent = (\\n\",\n",
    "       \"                \\\"This browser does not support binary websocket messages. \\\" +\\n\",\n",
    "       \"                    \\\"Performance may be slow.\\\");\\n\",\n",
    "       \"        }\\n\",\n",
    "       \"    }\\n\",\n",
    "       \"\\n\",\n",
    "       \"    this.imageObj = new Image();\\n\",\n",
    "       \"\\n\",\n",
    "       \"    this.context = undefined;\\n\",\n",
    "       \"    this.message = undefined;\\n\",\n",
    "       \"    this.canvas = undefined;\\n\",\n",
    "       \"    this.rubberband_canvas = undefined;\\n\",\n",
    "       \"    this.rubberband_context = undefined;\\n\",\n",
    "       \"    this.format_dropdown = undefined;\\n\",\n",
    "       \"\\n\",\n",
    "       \"    this.image_mode = 'full';\\n\",\n",
    "       \"\\n\",\n",
    "       \"    this.root = $('<div/>');\\n\",\n",
    "       \"    this._root_extra_style(this.root)\\n\",\n",
    "       \"    this.root.attr('style', 'display: inline-block');\\n\",\n",
    "       \"\\n\",\n",
    "       \"    $(parent_element).append(this.root);\\n\",\n",
    "       \"\\n\",\n",
    "       \"    this._init_header(this);\\n\",\n",
    "       \"    this._init_canvas(this);\\n\",\n",
    "       \"    this._init_toolbar(this);\\n\",\n",
    "       \"\\n\",\n",
    "       \"    var fig = this;\\n\",\n",
    "       \"\\n\",\n",
    "       \"    this.waiting = false;\\n\",\n",
    "       \"\\n\",\n",
    "       \"    this.ws.onopen =  function () {\\n\",\n",
    "       \"            fig.send_message(\\\"supports_binary\\\", {value: fig.supports_binary});\\n\",\n",
    "       \"            fig.send_message(\\\"send_image_mode\\\", {});\\n\",\n",
    "       \"            if (mpl.ratio != 1) {\\n\",\n",
    "       \"                fig.send_message(\\\"set_dpi_ratio\\\", {'dpi_ratio': mpl.ratio});\\n\",\n",
    "       \"            }\\n\",\n",
    "       \"            fig.send_message(\\\"refresh\\\", {});\\n\",\n",
    "       \"        }\\n\",\n",
    "       \"\\n\",\n",
    "       \"    this.imageObj.onload = function() {\\n\",\n",
    "       \"            if (fig.image_mode == 'full') {\\n\",\n",
    "       \"                // Full images could contain transparency (where diff images\\n\",\n",
    "       \"                // almost always do), so we need to clear the canvas so that\\n\",\n",
    "       \"                // there is no ghosting.\\n\",\n",
    "       \"                fig.context.clearRect(0, 0, fig.canvas.width, fig.canvas.height);\\n\",\n",
    "       \"            }\\n\",\n",
    "       \"            fig.context.drawImage(fig.imageObj, 0, 0);\\n\",\n",
    "       \"        };\\n\",\n",
    "       \"\\n\",\n",
    "       \"    this.imageObj.onunload = function() {\\n\",\n",
    "       \"        fig.ws.close();\\n\",\n",
    "       \"    }\\n\",\n",
    "       \"\\n\",\n",
    "       \"    this.ws.onmessage = this._make_on_message_function(this);\\n\",\n",
    "       \"\\n\",\n",
    "       \"    this.ondownload = ondownload;\\n\",\n",
    "       \"}\\n\",\n",
    "       \"\\n\",\n",
    "       \"mpl.figure.prototype._init_header = function() {\\n\",\n",
    "       \"    var titlebar = $(\\n\",\n",
    "       \"        '<div class=\\\"ui-dialog-titlebar ui-widget-header ui-corner-all ' +\\n\",\n",
    "       \"        'ui-helper-clearfix\\\"/>');\\n\",\n",
    "       \"    var titletext = $(\\n\",\n",
    "       \"        '<div class=\\\"ui-dialog-title\\\" style=\\\"width: 100%; ' +\\n\",\n",
    "       \"        'text-align: center; padding: 3px;\\\"/>');\\n\",\n",
    "       \"    titlebar.append(titletext)\\n\",\n",
    "       \"    this.root.append(titlebar);\\n\",\n",
    "       \"    this.header = titletext[0];\\n\",\n",
    "       \"}\\n\",\n",
    "       \"\\n\",\n",
    "       \"\\n\",\n",
    "       \"\\n\",\n",
    "       \"mpl.figure.prototype._canvas_extra_style = function(canvas_div) {\\n\",\n",
    "       \"\\n\",\n",
    "       \"}\\n\",\n",
    "       \"\\n\",\n",
    "       \"\\n\",\n",
    "       \"mpl.figure.prototype._root_extra_style = function(canvas_div) {\\n\",\n",
    "       \"\\n\",\n",
    "       \"}\\n\",\n",
    "       \"\\n\",\n",
    "       \"mpl.figure.prototype._init_canvas = function() {\\n\",\n",
    "       \"    var fig = this;\\n\",\n",
    "       \"\\n\",\n",
    "       \"    var canvas_div = $('<div/>');\\n\",\n",
    "       \"\\n\",\n",
    "       \"    canvas_div.attr('style', 'position: relative; clear: both; outline: 0');\\n\",\n",
    "       \"\\n\",\n",
    "       \"    function canvas_keyboard_event(event) {\\n\",\n",
    "       \"        return fig.key_event(event, event['data']);\\n\",\n",
    "       \"    }\\n\",\n",
    "       \"\\n\",\n",
    "       \"    canvas_div.keydown('key_press', canvas_keyboard_event);\\n\",\n",
    "       \"    canvas_div.keyup('key_release', canvas_keyboard_event);\\n\",\n",
    "       \"    this.canvas_div = canvas_div\\n\",\n",
    "       \"    this._canvas_extra_style(canvas_div)\\n\",\n",
    "       \"    this.root.append(canvas_div);\\n\",\n",
    "       \"\\n\",\n",
    "       \"    var canvas = $('<canvas/>');\\n\",\n",
    "       \"    canvas.addClass('mpl-canvas');\\n\",\n",
    "       \"    canvas.attr('style', \\\"left: 0; top: 0; z-index: 0; outline: 0\\\")\\n\",\n",
    "       \"\\n\",\n",
    "       \"    this.canvas = canvas[0];\\n\",\n",
    "       \"    this.context = canvas[0].getContext(\\\"2d\\\");\\n\",\n",
    "       \"\\n\",\n",
    "       \"    var backingStore = this.context.backingStorePixelRatio ||\\n\",\n",
    "       \"\\tthis.context.webkitBackingStorePixelRatio ||\\n\",\n",
    "       \"\\tthis.context.mozBackingStorePixelRatio ||\\n\",\n",
    "       \"\\tthis.context.msBackingStorePixelRatio ||\\n\",\n",
    "       \"\\tthis.context.oBackingStorePixelRatio ||\\n\",\n",
    "       \"\\tthis.context.backingStorePixelRatio || 1;\\n\",\n",
    "       \"\\n\",\n",
    "       \"    mpl.ratio = (window.devicePixelRatio || 1) / backingStore;\\n\",\n",
    "       \"\\n\",\n",
    "       \"    var rubberband = $('<canvas/>');\\n\",\n",
    "       \"    rubberband.attr('style', \\\"position: absolute; left: 0; top: 0; z-index: 1;\\\")\\n\",\n",
    "       \"\\n\",\n",
    "       \"    var pass_mouse_events = true;\\n\",\n",
    "       \"\\n\",\n",
    "       \"    canvas_div.resizable({\\n\",\n",
    "       \"        start: function(event, ui) {\\n\",\n",
    "       \"            pass_mouse_events = false;\\n\",\n",
    "       \"        },\\n\",\n",
    "       \"        resize: function(event, ui) {\\n\",\n",
    "       \"            fig.request_resize(ui.size.width, ui.size.height);\\n\",\n",
    "       \"        },\\n\",\n",
    "       \"        stop: function(event, ui) {\\n\",\n",
    "       \"            pass_mouse_events = true;\\n\",\n",
    "       \"            fig.request_resize(ui.size.width, ui.size.height);\\n\",\n",
    "       \"        },\\n\",\n",
    "       \"    });\\n\",\n",
    "       \"\\n\",\n",
    "       \"    function mouse_event_fn(event) {\\n\",\n",
    "       \"        if (pass_mouse_events)\\n\",\n",
    "       \"            return fig.mouse_event(event, event['data']);\\n\",\n",
    "       \"    }\\n\",\n",
    "       \"\\n\",\n",
    "       \"    rubberband.mousedown('button_press', mouse_event_fn);\\n\",\n",
    "       \"    rubberband.mouseup('button_release', mouse_event_fn);\\n\",\n",
    "       \"    // Throttle sequential mouse events to 1 every 20ms.\\n\",\n",
    "       \"    rubberband.mousemove('motion_notify', mouse_event_fn);\\n\",\n",
    "       \"\\n\",\n",
    "       \"    rubberband.mouseenter('figure_enter', mouse_event_fn);\\n\",\n",
    "       \"    rubberband.mouseleave('figure_leave', mouse_event_fn);\\n\",\n",
    "       \"\\n\",\n",
    "       \"    canvas_div.on(\\\"wheel\\\", function (event) {\\n\",\n",
    "       \"        event = event.originalEvent;\\n\",\n",
    "       \"        event['data'] = 'scroll'\\n\",\n",
    "       \"        if (event.deltaY < 0) {\\n\",\n",
    "       \"            event.step = 1;\\n\",\n",
    "       \"        } else {\\n\",\n",
    "       \"            event.step = -1;\\n\",\n",
    "       \"        }\\n\",\n",
    "       \"        mouse_event_fn(event);\\n\",\n",
    "       \"    });\\n\",\n",
    "       \"\\n\",\n",
    "       \"    canvas_div.append(canvas);\\n\",\n",
    "       \"    canvas_div.append(rubberband);\\n\",\n",
    "       \"\\n\",\n",
    "       \"    this.rubberband = rubberband;\\n\",\n",
    "       \"    this.rubberband_canvas = rubberband[0];\\n\",\n",
    "       \"    this.rubberband_context = rubberband[0].getContext(\\\"2d\\\");\\n\",\n",
    "       \"    this.rubberband_context.strokeStyle = \\\"#000000\\\";\\n\",\n",
    "       \"\\n\",\n",
    "       \"    this._resize_canvas = function(width, height) {\\n\",\n",
    "       \"        // Keep the size of the canvas, canvas container, and rubber band\\n\",\n",
    "       \"        // canvas in synch.\\n\",\n",
    "       \"        canvas_div.css('width', width)\\n\",\n",
    "       \"        canvas_div.css('height', height)\\n\",\n",
    "       \"\\n\",\n",
    "       \"        canvas.attr('width', width * mpl.ratio);\\n\",\n",
    "       \"        canvas.attr('height', height * mpl.ratio);\\n\",\n",
    "       \"        canvas.attr('style', 'width: ' + width + 'px; height: ' + height + 'px;');\\n\",\n",
    "       \"\\n\",\n",
    "       \"        rubberband.attr('width', width);\\n\",\n",
    "       \"        rubberband.attr('height', height);\\n\",\n",
    "       \"    }\\n\",\n",
    "       \"\\n\",\n",
    "       \"    // Set the figure to an initial 600x600px, this will subsequently be updated\\n\",\n",
    "       \"    // upon first draw.\\n\",\n",
    "       \"    this._resize_canvas(600, 600);\\n\",\n",
    "       \"\\n\",\n",
    "       \"    // Disable right mouse context menu.\\n\",\n",
    "       \"    $(this.rubberband_canvas).bind(\\\"contextmenu\\\",function(e){\\n\",\n",
    "       \"        return false;\\n\",\n",
    "       \"    });\\n\",\n",
    "       \"\\n\",\n",
    "       \"    function set_focus () {\\n\",\n",
    "       \"        canvas.focus();\\n\",\n",
    "       \"        canvas_div.focus();\\n\",\n",
    "       \"    }\\n\",\n",
    "       \"\\n\",\n",
    "       \"    window.setTimeout(set_focus, 100);\\n\",\n",
    "       \"}\\n\",\n",
    "       \"\\n\",\n",
    "       \"mpl.figure.prototype._init_toolbar = function() {\\n\",\n",
    "       \"    var fig = this;\\n\",\n",
    "       \"\\n\",\n",
    "       \"    var nav_element = $('<div/>');\\n\",\n",
    "       \"    nav_element.attr('style', 'width: 100%');\\n\",\n",
    "       \"    this.root.append(nav_element);\\n\",\n",
    "       \"\\n\",\n",
    "       \"    // Define a callback function for later on.\\n\",\n",
    "       \"    function toolbar_event(event) {\\n\",\n",
    "       \"        return fig.toolbar_button_onclick(event['data']);\\n\",\n",
    "       \"    }\\n\",\n",
    "       \"    function toolbar_mouse_event(event) {\\n\",\n",
    "       \"        return fig.toolbar_button_onmouseover(event['data']);\\n\",\n",
    "       \"    }\\n\",\n",
    "       \"\\n\",\n",
    "       \"    for(var toolbar_ind in mpl.toolbar_items) {\\n\",\n",
    "       \"        var name = mpl.toolbar_items[toolbar_ind][0];\\n\",\n",
    "       \"        var tooltip = mpl.toolbar_items[toolbar_ind][1];\\n\",\n",
    "       \"        var image = mpl.toolbar_items[toolbar_ind][2];\\n\",\n",
    "       \"        var method_name = mpl.toolbar_items[toolbar_ind][3];\\n\",\n",
    "       \"\\n\",\n",
    "       \"        if (!name) {\\n\",\n",
    "       \"            // put a spacer in here.\\n\",\n",
    "       \"            continue;\\n\",\n",
    "       \"        }\\n\",\n",
    "       \"        var button = $('<button/>');\\n\",\n",
    "       \"        button.addClass('ui-button ui-widget ui-state-default ui-corner-all ' +\\n\",\n",
    "       \"                        'ui-button-icon-only');\\n\",\n",
    "       \"        button.attr('role', 'button');\\n\",\n",
    "       \"        button.attr('aria-disabled', 'false');\\n\",\n",
    "       \"        button.click(method_name, toolbar_event);\\n\",\n",
    "       \"        button.mouseover(tooltip, toolbar_mouse_event);\\n\",\n",
    "       \"\\n\",\n",
    "       \"        var icon_img = $('<span/>');\\n\",\n",
    "       \"        icon_img.addClass('ui-button-icon-primary ui-icon');\\n\",\n",
    "       \"        icon_img.addClass(image);\\n\",\n",
    "       \"        icon_img.addClass('ui-corner-all');\\n\",\n",
    "       \"\\n\",\n",
    "       \"        var tooltip_span = $('<span/>');\\n\",\n",
    "       \"        tooltip_span.addClass('ui-button-text');\\n\",\n",
    "       \"        tooltip_span.html(tooltip);\\n\",\n",
    "       \"\\n\",\n",
    "       \"        button.append(icon_img);\\n\",\n",
    "       \"        button.append(tooltip_span);\\n\",\n",
    "       \"\\n\",\n",
    "       \"        nav_element.append(button);\\n\",\n",
    "       \"    }\\n\",\n",
    "       \"\\n\",\n",
    "       \"    var fmt_picker_span = $('<span/>');\\n\",\n",
    "       \"\\n\",\n",
    "       \"    var fmt_picker = $('<select/>');\\n\",\n",
    "       \"    fmt_picker.addClass('mpl-toolbar-option ui-widget ui-widget-content');\\n\",\n",
    "       \"    fmt_picker_span.append(fmt_picker);\\n\",\n",
    "       \"    nav_element.append(fmt_picker_span);\\n\",\n",
    "       \"    this.format_dropdown = fmt_picker[0];\\n\",\n",
    "       \"\\n\",\n",
    "       \"    for (var ind in mpl.extensions) {\\n\",\n",
    "       \"        var fmt = mpl.extensions[ind];\\n\",\n",
    "       \"        var option = $(\\n\",\n",
    "       \"            '<option/>', {selected: fmt === mpl.default_extension}).html(fmt);\\n\",\n",
    "       \"        fmt_picker.append(option);\\n\",\n",
    "       \"    }\\n\",\n",
    "       \"\\n\",\n",
    "       \"    // Add hover states to the ui-buttons\\n\",\n",
    "       \"    $( \\\".ui-button\\\" ).hover(\\n\",\n",
    "       \"        function() { $(this).addClass(\\\"ui-state-hover\\\");},\\n\",\n",
    "       \"        function() { $(this).removeClass(\\\"ui-state-hover\\\");}\\n\",\n",
    "       \"    );\\n\",\n",
    "       \"\\n\",\n",
    "       \"    var status_bar = $('<span class=\\\"mpl-message\\\"/>');\\n\",\n",
    "       \"    nav_element.append(status_bar);\\n\",\n",
    "       \"    this.message = status_bar[0];\\n\",\n",
    "       \"}\\n\",\n",
    "       \"\\n\",\n",
    "       \"mpl.figure.prototype.request_resize = function(x_pixels, y_pixels) {\\n\",\n",
    "       \"    // Request matplotlib to resize the figure. Matplotlib will then trigger a resize in the client,\\n\",\n",
    "       \"    // which will in turn request a refresh of the image.\\n\",\n",
    "       \"    this.send_message('resize', {'width': x_pixels, 'height': y_pixels});\\n\",\n",
    "       \"}\\n\",\n",
    "       \"\\n\",\n",
    "       \"mpl.figure.prototype.send_message = function(type, properties) {\\n\",\n",
    "       \"    properties['type'] = type;\\n\",\n",
    "       \"    properties['figure_id'] = this.id;\\n\",\n",
    "       \"    this.ws.send(JSON.stringify(properties));\\n\",\n",
    "       \"}\\n\",\n",
    "       \"\\n\",\n",
    "       \"mpl.figure.prototype.send_draw_message = function() {\\n\",\n",
    "       \"    if (!this.waiting) {\\n\",\n",
    "       \"        this.waiting = true;\\n\",\n",
    "       \"        this.ws.send(JSON.stringify({type: \\\"draw\\\", figure_id: this.id}));\\n\",\n",
    "       \"    }\\n\",\n",
    "       \"}\\n\",\n",
    "       \"\\n\",\n",
    "       \"\\n\",\n",
    "       \"mpl.figure.prototype.handle_save = function(fig, msg) {\\n\",\n",
    "       \"    var format_dropdown = fig.format_dropdown;\\n\",\n",
    "       \"    var format = format_dropdown.options[format_dropdown.selectedIndex].value;\\n\",\n",
    "       \"    fig.ondownload(fig, format);\\n\",\n",
    "       \"}\\n\",\n",
    "       \"\\n\",\n",
    "       \"\\n\",\n",
    "       \"mpl.figure.prototype.handle_resize = function(fig, msg) {\\n\",\n",
    "       \"    var size = msg['size'];\\n\",\n",
    "       \"    if (size[0] != fig.canvas.width || size[1] != fig.canvas.height) {\\n\",\n",
    "       \"        fig._resize_canvas(size[0], size[1]);\\n\",\n",
    "       \"        fig.send_message(\\\"refresh\\\", {});\\n\",\n",
    "       \"    };\\n\",\n",
    "       \"}\\n\",\n",
    "       \"\\n\",\n",
    "       \"mpl.figure.prototype.handle_rubberband = function(fig, msg) {\\n\",\n",
    "       \"    var x0 = msg['x0'] / mpl.ratio;\\n\",\n",
    "       \"    var y0 = (fig.canvas.height - msg['y0']) / mpl.ratio;\\n\",\n",
    "       \"    var x1 = msg['x1'] / mpl.ratio;\\n\",\n",
    "       \"    var y1 = (fig.canvas.height - msg['y1']) / mpl.ratio;\\n\",\n",
    "       \"    x0 = Math.floor(x0) + 0.5;\\n\",\n",
    "       \"    y0 = Math.floor(y0) + 0.5;\\n\",\n",
    "       \"    x1 = Math.floor(x1) + 0.5;\\n\",\n",
    "       \"    y1 = Math.floor(y1) + 0.5;\\n\",\n",
    "       \"    var min_x = Math.min(x0, x1);\\n\",\n",
    "       \"    var min_y = Math.min(y0, y1);\\n\",\n",
    "       \"    var width = Math.abs(x1 - x0);\\n\",\n",
    "       \"    var height = Math.abs(y1 - y0);\\n\",\n",
    "       \"\\n\",\n",
    "       \"    fig.rubberband_context.clearRect(\\n\",\n",
    "       \"        0, 0, fig.canvas.width, fig.canvas.height);\\n\",\n",
    "       \"\\n\",\n",
    "       \"    fig.rubberband_context.strokeRect(min_x, min_y, width, height);\\n\",\n",
    "       \"}\\n\",\n",
    "       \"\\n\",\n",
    "       \"mpl.figure.prototype.handle_figure_label = function(fig, msg) {\\n\",\n",
    "       \"    // Updates the figure title.\\n\",\n",
    "       \"    fig.header.textContent = msg['label'];\\n\",\n",
    "       \"}\\n\",\n",
    "       \"\\n\",\n",
    "       \"mpl.figure.prototype.handle_cursor = function(fig, msg) {\\n\",\n",
    "       \"    var cursor = msg['cursor'];\\n\",\n",
    "       \"    switch(cursor)\\n\",\n",
    "       \"    {\\n\",\n",
    "       \"    case 0:\\n\",\n",
    "       \"        cursor = 'pointer';\\n\",\n",
    "       \"        break;\\n\",\n",
    "       \"    case 1:\\n\",\n",
    "       \"        cursor = 'default';\\n\",\n",
    "       \"        break;\\n\",\n",
    "       \"    case 2:\\n\",\n",
    "       \"        cursor = 'crosshair';\\n\",\n",
    "       \"        break;\\n\",\n",
    "       \"    case 3:\\n\",\n",
    "       \"        cursor = 'move';\\n\",\n",
    "       \"        break;\\n\",\n",
    "       \"    }\\n\",\n",
    "       \"    fig.rubberband_canvas.style.cursor = cursor;\\n\",\n",
    "       \"}\\n\",\n",
    "       \"\\n\",\n",
    "       \"mpl.figure.prototype.handle_message = function(fig, msg) {\\n\",\n",
    "       \"    fig.message.textContent = msg['message'];\\n\",\n",
    "       \"}\\n\",\n",
    "       \"\\n\",\n",
    "       \"mpl.figure.prototype.handle_draw = function(fig, msg) {\\n\",\n",
    "       \"    // Request the server to send over a new figure.\\n\",\n",
    "       \"    fig.send_draw_message();\\n\",\n",
    "       \"}\\n\",\n",
    "       \"\\n\",\n",
    "       \"mpl.figure.prototype.handle_image_mode = function(fig, msg) {\\n\",\n",
    "       \"    fig.image_mode = msg['mode'];\\n\",\n",
    "       \"}\\n\",\n",
    "       \"\\n\",\n",
    "       \"mpl.figure.prototype.updated_canvas_event = function() {\\n\",\n",
    "       \"    // Called whenever the canvas gets updated.\\n\",\n",
    "       \"    this.send_message(\\\"ack\\\", {});\\n\",\n",
    "       \"}\\n\",\n",
    "       \"\\n\",\n",
    "       \"// A function to construct a web socket function for onmessage handling.\\n\",\n",
    "       \"// Called in the figure constructor.\\n\",\n",
    "       \"mpl.figure.prototype._make_on_message_function = function(fig) {\\n\",\n",
    "       \"    return function socket_on_message(evt) {\\n\",\n",
    "       \"        if (evt.data instanceof Blob) {\\n\",\n",
    "       \"            /* FIXME: We get \\\"Resource interpreted as Image but\\n\",\n",
    "       \"             * transferred with MIME type text/plain:\\\" errors on\\n\",\n",
    "       \"             * Chrome.  But how to set the MIME type?  It doesn't seem\\n\",\n",
    "       \"             * to be part of the websocket stream */\\n\",\n",
    "       \"            evt.data.type = \\\"image/png\\\";\\n\",\n",
    "       \"\\n\",\n",
    "       \"            /* Free the memory for the previous frames */\\n\",\n",
    "       \"            if (fig.imageObj.src) {\\n\",\n",
    "       \"                (window.URL || window.webkitURL).revokeObjectURL(\\n\",\n",
    "       \"                    fig.imageObj.src);\\n\",\n",
    "       \"            }\\n\",\n",
    "       \"\\n\",\n",
    "       \"            fig.imageObj.src = (window.URL || window.webkitURL).createObjectURL(\\n\",\n",
    "       \"                evt.data);\\n\",\n",
    "       \"            fig.updated_canvas_event();\\n\",\n",
    "       \"            fig.waiting = false;\\n\",\n",
    "       \"            return;\\n\",\n",
    "       \"        }\\n\",\n",
    "       \"        else if (typeof evt.data === 'string' && evt.data.slice(0, 21) == \\\"data:image/png;base64\\\") {\\n\",\n",
    "       \"            fig.imageObj.src = evt.data;\\n\",\n",
    "       \"            fig.updated_canvas_event();\\n\",\n",
    "       \"            fig.waiting = false;\\n\",\n",
    "       \"            return;\\n\",\n",
    "       \"        }\\n\",\n",
    "       \"\\n\",\n",
    "       \"        var msg = JSON.parse(evt.data);\\n\",\n",
    "       \"        var msg_type = msg['type'];\\n\",\n",
    "       \"\\n\",\n",
    "       \"        // Call the  \\\"handle_{type}\\\" callback, which takes\\n\",\n",
    "       \"        // the figure and JSON message as its only arguments.\\n\",\n",
    "       \"        try {\\n\",\n",
    "       \"            var callback = fig[\\\"handle_\\\" + msg_type];\\n\",\n",
    "       \"        } catch (e) {\\n\",\n",
    "       \"            console.log(\\\"No handler for the '\\\" + msg_type + \\\"' message type: \\\", msg);\\n\",\n",
    "       \"            return;\\n\",\n",
    "       \"        }\\n\",\n",
    "       \"\\n\",\n",
    "       \"        if (callback) {\\n\",\n",
    "       \"            try {\\n\",\n",
    "       \"                // console.log(\\\"Handling '\\\" + msg_type + \\\"' message: \\\", msg);\\n\",\n",
    "       \"                callback(fig, msg);\\n\",\n",
    "       \"            } catch (e) {\\n\",\n",
    "       \"                console.log(\\\"Exception inside the 'handler_\\\" + msg_type + \\\"' callback:\\\", e, e.stack, msg);\\n\",\n",
    "       \"            }\\n\",\n",
    "       \"        }\\n\",\n",
    "       \"    };\\n\",\n",
    "       \"}\\n\",\n",
    "       \"\\n\",\n",
    "       \"// from http://stackoverflow.com/questions/1114465/getting-mouse-location-in-canvas\\n\",\n",
    "       \"mpl.findpos = function(e) {\\n\",\n",
    "       \"    //this section is from http://www.quirksmode.org/js/events_properties.html\\n\",\n",
    "       \"    var targ;\\n\",\n",
    "       \"    if (!e)\\n\",\n",
    "       \"        e = window.event;\\n\",\n",
    "       \"    if (e.target)\\n\",\n",
    "       \"        targ = e.target;\\n\",\n",
    "       \"    else if (e.srcElement)\\n\",\n",
    "       \"        targ = e.srcElement;\\n\",\n",
    "       \"    if (targ.nodeType == 3) // defeat Safari bug\\n\",\n",
    "       \"        targ = targ.parentNode;\\n\",\n",
    "       \"\\n\",\n",
    "       \"    // jQuery normalizes the pageX and pageY\\n\",\n",
    "       \"    // pageX,Y are the mouse positions relative to the document\\n\",\n",
    "       \"    // offset() returns the position of the element relative to the document\\n\",\n",
    "       \"    var x = e.pageX - $(targ).offset().left;\\n\",\n",
    "       \"    var y = e.pageY - $(targ).offset().top;\\n\",\n",
    "       \"\\n\",\n",
    "       \"    return {\\\"x\\\": x, \\\"y\\\": y};\\n\",\n",
    "       \"};\\n\",\n",
    "       \"\\n\",\n",
    "       \"/*\\n\",\n",
    "       \" * return a copy of an object with only non-object keys\\n\",\n",
    "       \" * we need this to avoid circular references\\n\",\n",
    "       \" * http://stackoverflow.com/a/24161582/3208463\\n\",\n",
    "       \" */\\n\",\n",
    "       \"function simpleKeys (original) {\\n\",\n",
    "       \"  return Object.keys(original).reduce(function (obj, key) {\\n\",\n",
    "       \"    if (typeof original[key] !== 'object')\\n\",\n",
    "       \"        obj[key] = original[key]\\n\",\n",
    "       \"    return obj;\\n\",\n",
    "       \"  }, {});\\n\",\n",
    "       \"}\\n\",\n",
    "       \"\\n\",\n",
    "       \"mpl.figure.prototype.mouse_event = function(event, name) {\\n\",\n",
    "       \"    var canvas_pos = mpl.findpos(event)\\n\",\n",
    "       \"\\n\",\n",
    "       \"    if (name === 'button_press')\\n\",\n",
    "       \"    {\\n\",\n",
    "       \"        this.canvas.focus();\\n\",\n",
    "       \"        this.canvas_div.focus();\\n\",\n",
    "       \"    }\\n\",\n",
    "       \"\\n\",\n",
    "       \"    var x = canvas_pos.x * mpl.ratio;\\n\",\n",
    "       \"    var y = canvas_pos.y * mpl.ratio;\\n\",\n",
    "       \"\\n\",\n",
    "       \"    this.send_message(name, {x: x, y: y, button: event.button,\\n\",\n",
    "       \"                             step: event.step,\\n\",\n",
    "       \"                             guiEvent: simpleKeys(event)});\\n\",\n",
    "       \"\\n\",\n",
    "       \"    /* This prevents the web browser from automatically changing to\\n\",\n",
    "       \"     * the text insertion cursor when the button is pressed.  We want\\n\",\n",
    "       \"     * to control all of the cursor setting manually through the\\n\",\n",
    "       \"     * 'cursor' event from matplotlib */\\n\",\n",
    "       \"    event.preventDefault();\\n\",\n",
    "       \"    return false;\\n\",\n",
    "       \"}\\n\",\n",
    "       \"\\n\",\n",
    "       \"mpl.figure.prototype._key_event_extra = function(event, name) {\\n\",\n",
    "       \"    // Handle any extra behaviour associated with a key event\\n\",\n",
    "       \"}\\n\",\n",
    "       \"\\n\",\n",
    "       \"mpl.figure.prototype.key_event = function(event, name) {\\n\",\n",
    "       \"\\n\",\n",
    "       \"    // Prevent repeat events\\n\",\n",
    "       \"    if (name == 'key_press')\\n\",\n",
    "       \"    {\\n\",\n",
    "       \"        if (event.which === this._key)\\n\",\n",
    "       \"            return;\\n\",\n",
    "       \"        else\\n\",\n",
    "       \"            this._key = event.which;\\n\",\n",
    "       \"    }\\n\",\n",
    "       \"    if (name == 'key_release')\\n\",\n",
    "       \"        this._key = null;\\n\",\n",
    "       \"\\n\",\n",
    "       \"    var value = '';\\n\",\n",
    "       \"    if (event.ctrlKey && event.which != 17)\\n\",\n",
    "       \"        value += \\\"ctrl+\\\";\\n\",\n",
    "       \"    if (event.altKey && event.which != 18)\\n\",\n",
    "       \"        value += \\\"alt+\\\";\\n\",\n",
    "       \"    if (event.shiftKey && event.which != 16)\\n\",\n",
    "       \"        value += \\\"shift+\\\";\\n\",\n",
    "       \"\\n\",\n",
    "       \"    value += 'k';\\n\",\n",
    "       \"    value += event.which.toString();\\n\",\n",
    "       \"\\n\",\n",
    "       \"    this._key_event_extra(event, name);\\n\",\n",
    "       \"\\n\",\n",
    "       \"    this.send_message(name, {key: value,\\n\",\n",
    "       \"                             guiEvent: simpleKeys(event)});\\n\",\n",
    "       \"    return false;\\n\",\n",
    "       \"}\\n\",\n",
    "       \"\\n\",\n",
    "       \"mpl.figure.prototype.toolbar_button_onclick = function(name) {\\n\",\n",
    "       \"    if (name == 'download') {\\n\",\n",
    "       \"        this.handle_save(this, null);\\n\",\n",
    "       \"    } else {\\n\",\n",
    "       \"        this.send_message(\\\"toolbar_button\\\", {name: name});\\n\",\n",
    "       \"    }\\n\",\n",
    "       \"};\\n\",\n",
    "       \"\\n\",\n",
    "       \"mpl.figure.prototype.toolbar_button_onmouseover = function(tooltip) {\\n\",\n",
    "       \"    this.message.textContent = tooltip;\\n\",\n",
    "       \"};\\n\",\n",
    "       \"mpl.toolbar_items = [[\\\"Home\\\", \\\"Reset original view\\\", \\\"fa fa-home icon-home\\\", \\\"home\\\"], [\\\"Back\\\", \\\"Back to previous view\\\", \\\"fa fa-arrow-left icon-arrow-left\\\", \\\"back\\\"], [\\\"Forward\\\", \\\"Forward to next view\\\", \\\"fa fa-arrow-right icon-arrow-right\\\", \\\"forward\\\"], [\\\"\\\", \\\"\\\", \\\"\\\", \\\"\\\"], [\\\"Pan\\\", \\\"Pan axes with left mouse, zoom with right\\\", \\\"fa fa-arrows icon-move\\\", \\\"pan\\\"], [\\\"Zoom\\\", \\\"Zoom to rectangle\\\", \\\"fa fa-square-o icon-check-empty\\\", \\\"zoom\\\"], [\\\"\\\", \\\"\\\", \\\"\\\", \\\"\\\"], [\\\"Download\\\", \\\"Download plot\\\", \\\"fa fa-floppy-o icon-save\\\", \\\"download\\\"]];\\n\",\n",
    "       \"\\n\",\n",
    "       \"mpl.extensions = [\\\"eps\\\", \\\"jpeg\\\", \\\"pdf\\\", \\\"png\\\", \\\"ps\\\", \\\"raw\\\", \\\"svg\\\", \\\"tif\\\"];\\n\",\n",
    "       \"\\n\",\n",
    "       \"mpl.default_extension = \\\"png\\\";var comm_websocket_adapter = function(comm) {\\n\",\n",
    "       \"    // Create a \\\"websocket\\\"-like object which calls the given IPython comm\\n\",\n",
    "       \"    // object with the appropriate methods. Currently this is a non binary\\n\",\n",
    "       \"    // socket, so there is still some room for performance tuning.\\n\",\n",
    "       \"    var ws = {};\\n\",\n",
    "       \"\\n\",\n",
    "       \"    ws.close = function() {\\n\",\n",
    "       \"        comm.close()\\n\",\n",
    "       \"    };\\n\",\n",
    "       \"    ws.send = function(m) {\\n\",\n",
    "       \"        //console.log('sending', m);\\n\",\n",
    "       \"        comm.send(m);\\n\",\n",
    "       \"    };\\n\",\n",
    "       \"    // Register the callback with on_msg.\\n\",\n",
    "       \"    comm.on_msg(function(msg) {\\n\",\n",
    "       \"        //console.log('receiving', msg['content']['data'], msg);\\n\",\n",
    "       \"        // Pass the mpl event to the overridden (by mpl) onmessage function.\\n\",\n",
    "       \"        ws.onmessage(msg['content']['data'])\\n\",\n",
    "       \"    });\\n\",\n",
    "       \"    return ws;\\n\",\n",
    "       \"}\\n\",\n",
    "       \"\\n\",\n",
    "       \"mpl.mpl_figure_comm = function(comm, msg) {\\n\",\n",
    "       \"    // This is the function which gets called when the mpl process\\n\",\n",
    "       \"    // starts-up an IPython Comm through the \\\"matplotlib\\\" channel.\\n\",\n",
    "       \"\\n\",\n",
    "       \"    var id = msg.content.data.id;\\n\",\n",
    "       \"    // Get hold of the div created by the display call when the Comm\\n\",\n",
    "       \"    // socket was opened in Python.\\n\",\n",
    "       \"    var element = $(\\\"#\\\" + id);\\n\",\n",
    "       \"    var ws_proxy = comm_websocket_adapter(comm)\\n\",\n",
    "       \"\\n\",\n",
    "       \"    function ondownload(figure, format) {\\n\",\n",
    "       \"        window.open(figure.imageObj.src);\\n\",\n",
    "       \"    }\\n\",\n",
    "       \"\\n\",\n",
    "       \"    var fig = new mpl.figure(id, ws_proxy,\\n\",\n",
    "       \"                           ondownload,\\n\",\n",
    "       \"                           element.get(0));\\n\",\n",
    "       \"\\n\",\n",
    "       \"    // Call onopen now - mpl needs it, as it is assuming we've passed it a real\\n\",\n",
    "       \"    // web socket which is closed, not our websocket->open comm proxy.\\n\",\n",
    "       \"    ws_proxy.onopen();\\n\",\n",
    "       \"\\n\",\n",
    "       \"    fig.parent_element = element.get(0);\\n\",\n",
    "       \"    fig.cell_info = mpl.find_output_cell(\\\"<div id='\\\" + id + \\\"'></div>\\\");\\n\",\n",
    "       \"    if (!fig.cell_info) {\\n\",\n",
    "       \"        console.error(\\\"Failed to find cell for figure\\\", id, fig);\\n\",\n",
    "       \"        return;\\n\",\n",
    "       \"    }\\n\",\n",
    "       \"\\n\",\n",
    "       \"    var output_index = fig.cell_info[2]\\n\",\n",
    "       \"    var cell = fig.cell_info[0];\\n\",\n",
    "       \"\\n\",\n",
    "       \"};\\n\",\n",
    "       \"\\n\",\n",
    "       \"mpl.figure.prototype.handle_close = function(fig, msg) {\\n\",\n",
    "       \"    var width = fig.canvas.width/mpl.ratio\\n\",\n",
    "       \"    fig.root.unbind('remove')\\n\",\n",
    "       \"\\n\",\n",
    "       \"    // Update the output cell to use the data from the current canvas.\\n\",\n",
    "       \"    fig.push_to_output();\\n\",\n",
    "       \"    var dataURL = fig.canvas.toDataURL();\\n\",\n",
    "       \"    // Re-enable the keyboard manager in IPython - without this line, in FF,\\n\",\n",
    "       \"    // the notebook keyboard shortcuts fail.\\n\",\n",
    "       \"    IPython.keyboard_manager.enable()\\n\",\n",
    "       \"    $(fig.parent_element).html('<img src=\\\"' + dataURL + '\\\" width=\\\"' + width + '\\\">');\\n\",\n",
    "       \"    fig.close_ws(fig, msg);\\n\",\n",
    "       \"}\\n\",\n",
    "       \"\\n\",\n",
    "       \"mpl.figure.prototype.close_ws = function(fig, msg){\\n\",\n",
    "       \"    fig.send_message('closing', msg);\\n\",\n",
    "       \"    // fig.ws.close()\\n\",\n",
    "       \"}\\n\",\n",
    "       \"\\n\",\n",
    "       \"mpl.figure.prototype.push_to_output = function(remove_interactive) {\\n\",\n",
    "       \"    // Turn the data on the canvas into data in the output cell.\\n\",\n",
    "       \"    var width = this.canvas.width/mpl.ratio\\n\",\n",
    "       \"    var dataURL = this.canvas.toDataURL();\\n\",\n",
    "       \"    this.cell_info[1]['text/html'] = '<img src=\\\"' + dataURL + '\\\" width=\\\"' + width + '\\\">';\\n\",\n",
    "       \"}\\n\",\n",
    "       \"\\n\",\n",
    "       \"mpl.figure.prototype.updated_canvas_event = function() {\\n\",\n",
    "       \"    // Tell IPython that the notebook contents must change.\\n\",\n",
    "       \"    IPython.notebook.set_dirty(true);\\n\",\n",
    "       \"    this.send_message(\\\"ack\\\", {});\\n\",\n",
    "       \"    var fig = this;\\n\",\n",
    "       \"    // Wait a second, then push the new image to the DOM so\\n\",\n",
    "       \"    // that it is saved nicely (might be nice to debounce this).\\n\",\n",
    "       \"    setTimeout(function () { fig.push_to_output() }, 1000);\\n\",\n",
    "       \"}\\n\",\n",
    "       \"\\n\",\n",
    "       \"mpl.figure.prototype._init_toolbar = function() {\\n\",\n",
    "       \"    var fig = this;\\n\",\n",
    "       \"\\n\",\n",
    "       \"    var nav_element = $('<div/>');\\n\",\n",
    "       \"    nav_element.attr('style', 'width: 100%');\\n\",\n",
    "       \"    this.root.append(nav_element);\\n\",\n",
    "       \"\\n\",\n",
    "       \"    // Define a callback function for later on.\\n\",\n",
    "       \"    function toolbar_event(event) {\\n\",\n",
    "       \"        return fig.toolbar_button_onclick(event['data']);\\n\",\n",
    "       \"    }\\n\",\n",
    "       \"    function toolbar_mouse_event(event) {\\n\",\n",
    "       \"        return fig.toolbar_button_onmouseover(event['data']);\\n\",\n",
    "       \"    }\\n\",\n",
    "       \"\\n\",\n",
    "       \"    for(var toolbar_ind in mpl.toolbar_items){\\n\",\n",
    "       \"        var name = mpl.toolbar_items[toolbar_ind][0];\\n\",\n",
    "       \"        var tooltip = mpl.toolbar_items[toolbar_ind][1];\\n\",\n",
    "       \"        var image = mpl.toolbar_items[toolbar_ind][2];\\n\",\n",
    "       \"        var method_name = mpl.toolbar_items[toolbar_ind][3];\\n\",\n",
    "       \"\\n\",\n",
    "       \"        if (!name) { continue; };\\n\",\n",
    "       \"\\n\",\n",
    "       \"        var button = $('<button class=\\\"btn btn-default\\\" href=\\\"#\\\" title=\\\"' + name + '\\\"><i class=\\\"fa ' + image + ' fa-lg\\\"></i></button>');\\n\",\n",
    "       \"        button.click(method_name, toolbar_event);\\n\",\n",
    "       \"        button.mouseover(tooltip, toolbar_mouse_event);\\n\",\n",
    "       \"        nav_element.append(button);\\n\",\n",
    "       \"    }\\n\",\n",
    "       \"\\n\",\n",
    "       \"    // Add the status bar.\\n\",\n",
    "       \"    var status_bar = $('<span class=\\\"mpl-message\\\" style=\\\"text-align:right; float: right;\\\"/>');\\n\",\n",
    "       \"    nav_element.append(status_bar);\\n\",\n",
    "       \"    this.message = status_bar[0];\\n\",\n",
    "       \"\\n\",\n",
    "       \"    // Add the close button to the window.\\n\",\n",
    "       \"    var buttongrp = $('<div class=\\\"btn-group inline pull-right\\\"></div>');\\n\",\n",
    "       \"    var button = $('<button class=\\\"btn btn-mini btn-primary\\\" href=\\\"#\\\" title=\\\"Stop Interaction\\\"><i class=\\\"fa fa-power-off icon-remove icon-large\\\"></i></button>');\\n\",\n",
    "       \"    button.click(function (evt) { fig.handle_close(fig, {}); } );\\n\",\n",
    "       \"    button.mouseover('Stop Interaction', toolbar_mouse_event);\\n\",\n",
    "       \"    buttongrp.append(button);\\n\",\n",
    "       \"    var titlebar = this.root.find($('.ui-dialog-titlebar'));\\n\",\n",
    "       \"    titlebar.prepend(buttongrp);\\n\",\n",
    "       \"}\\n\",\n",
    "       \"\\n\",\n",
    "       \"mpl.figure.prototype._root_extra_style = function(el){\\n\",\n",
    "       \"    var fig = this\\n\",\n",
    "       \"    el.on(\\\"remove\\\", function(){\\n\",\n",
    "       \"\\tfig.close_ws(fig, {});\\n\",\n",
    "       \"    });\\n\",\n",
    "       \"}\\n\",\n",
    "       \"\\n\",\n",
    "       \"mpl.figure.prototype._canvas_extra_style = function(el){\\n\",\n",
    "       \"    // this is important to make the div 'focusable\\n\",\n",
    "       \"    el.attr('tabindex', 0)\\n\",\n",
    "       \"    // reach out to IPython and tell the keyboard manager to turn it's self\\n\",\n",
    "       \"    // off when our div gets focus\\n\",\n",
    "       \"\\n\",\n",
    "       \"    // location in version 3\\n\",\n",
    "       \"    if (IPython.notebook.keyboard_manager) {\\n\",\n",
    "       \"        IPython.notebook.keyboard_manager.register_events(el);\\n\",\n",
    "       \"    }\\n\",\n",
    "       \"    else {\\n\",\n",
    "       \"        // location in version 2\\n\",\n",
    "       \"        IPython.keyboard_manager.register_events(el);\\n\",\n",
    "       \"    }\\n\",\n",
    "       \"\\n\",\n",
    "       \"}\\n\",\n",
    "       \"\\n\",\n",
    "       \"mpl.figure.prototype._key_event_extra = function(event, name) {\\n\",\n",
    "       \"    var manager = IPython.notebook.keyboard_manager;\\n\",\n",
    "       \"    if (!manager)\\n\",\n",
    "       \"        manager = IPython.keyboard_manager;\\n\",\n",
    "       \"\\n\",\n",
    "       \"    // Check for shift+enter\\n\",\n",
    "       \"    if (event.shiftKey && event.which == 13) {\\n\",\n",
    "       \"        this.canvas_div.blur();\\n\",\n",
    "       \"        event.shiftKey = false;\\n\",\n",
    "       \"        // Send a \\\"J\\\" for go to next cell\\n\",\n",
    "       \"        event.which = 74;\\n\",\n",
    "       \"        event.keyCode = 74;\\n\",\n",
    "       \"        manager.command_mode();\\n\",\n",
    "       \"        manager.handle_keydown(event);\\n\",\n",
    "       \"    }\\n\",\n",
    "       \"}\\n\",\n",
    "       \"\\n\",\n",
    "       \"mpl.figure.prototype.handle_save = function(fig, msg) {\\n\",\n",
    "       \"    fig.ondownload(fig, null);\\n\",\n",
    "       \"}\\n\",\n",
    "       \"\\n\",\n",
    "       \"\\n\",\n",
    "       \"mpl.find_output_cell = function(html_output) {\\n\",\n",
    "       \"    // Return the cell and output element which can be found *uniquely* in the notebook.\\n\",\n",
    "       \"    // Note - this is a bit hacky, but it is done because the \\\"notebook_saving.Notebook\\\"\\n\",\n",
    "       \"    // IPython event is triggered only after the cells have been serialised, which for\\n\",\n",
    "       \"    // our purposes (turning an active figure into a static one), is too late.\\n\",\n",
    "       \"    var cells = IPython.notebook.get_cells();\\n\",\n",
    "       \"    var ncells = cells.length;\\n\",\n",
    "       \"    for (var i=0; i<ncells; i++) {\\n\",\n",
    "       \"        var cell = cells[i];\\n\",\n",
    "       \"        if (cell.cell_type === 'code'){\\n\",\n",
    "       \"            for (var j=0; j<cell.output_area.outputs.length; j++) {\\n\",\n",
    "       \"                var data = cell.output_area.outputs[j];\\n\",\n",
    "       \"                if (data.data) {\\n\",\n",
    "       \"                    // IPython >= 3 moved mimebundle to data attribute of output\\n\",\n",
    "       \"                    data = data.data;\\n\",\n",
    "       \"                }\\n\",\n",
    "       \"                if (data['text/html'] == html_output) {\\n\",\n",
    "       \"                    return [cell, data, j];\\n\",\n",
    "       \"                }\\n\",\n",
    "       \"            }\\n\",\n",
    "       \"        }\\n\",\n",
    "       \"    }\\n\",\n",
    "       \"}\\n\",\n",
    "       \"\\n\",\n",
    "       \"// Register the function which deals with the matplotlib target/channel.\\n\",\n",
    "       \"// The kernel may be null if the page has been refreshed.\\n\",\n",
    "       \"if (IPython.notebook.kernel != null) {\\n\",\n",
    "       \"    IPython.notebook.kernel.comm_manager.register_target('matplotlib', mpl.mpl_figure_comm);\\n\",\n",
    "       \"}\\n\"\n",
    "      ],\n",
    "      \"text/plain\": [\n",
    "       \"<IPython.core.display.Javascript object>\"\n",
    "      ]\n",
    "     },\n",
    "     \"metadata\": {},\n",
    "     \"output_type\": \"display_data\"\n",
    "    },\n",
    "    {\n",
    "     \"data\": {\n",
    "      \"text/html\": [\n",
    "       \"<img src=\\\"data:image/png;base64,iVBORw0KGgoAAAANSUhEUgAAAoAAAAHgCAYAAAA10dzkAAAAAXNSR0IArs4c6QAAAARnQU1BAACxjwv8YQUAAEmOSURBVHhe7d0HfBR1/v/xdwoJNaGXQKgiSO8d7J6FJkVBVOxyUiznz1Pv/nd4nmJv9CIIimIDDrAgFlroIEjvvdckBNL3v9/JpEKQ9N3M68lj2Z3vfHeTzM7uvHe+n5n1cbkJAAAAjuFrXwMAAMAhCIAAAAAOQwAEAABwGAIgAACAwxAAAQAAHIYACAAA4DAEQAAAAIchAAIAADgMARAAAMBhCIAAAAAOQwAEAABwGAIgAACAwxAAAQAAHIYACAAA4DAEQAAAAIchAAIAADgMARAAAMBhCIAAAAAOQwAEAABwGAIgAACAwxAAAQAAHIYACAAA4DAEQAAAAIchAAIAADgMARAAAMBhCIAAAAAOQwAEAABwGAIgAACAwxAAAQAAHIYACAAA4DAEQAAAAIchAAIAADgMARAAAMBhCIAAAAAOQwAEAABwGAIgAACAwxAAAQAAHIYACAAA4DAEQAAAAIchAAIAADgMARAAAMBhCIAAAAAOQwAEAABwGAIgAACAwxAAAQAAHIYACAAA4DAEQAAAAIchAAIAADgMARAAAMBhCIAAAAAOQwAEAABwGAIgAACAwxAAAQAAHIYACAAA4DAEQAAAAIchAAIAADiMj8vNvo0sSkxM1JEjR1SqVCn5+PjYrQAAwJOZ6BMZGamQkBD5+jpzXxgBMAcOHTqk0NBQewoAAHiTgwcPqlq1avaUsxAAcyA8PFylS5e2VqCgoCC7FQAAeLKIiAhrB865c+cUHBxstzoLATAHzApkVhwTBAmAAAB4B7bfHAQCAADgOARAAAAAhyEAAgAAOAwBEAAAwGEIgAAAAA5DAAQAAHAYAiAAAIDDEAABAAAchgAIAADgMARAAADgEd5fsEMf/bLTnkrPtJv5yB0EQAAA4BH8fH303mVCoJk27WY+cgcBEAAAeIRhN9fVc7demxICXS5XSvgz7WY+coePe+G67NvIIr5MGgCA3Jcc+sz+PhNScjv8sf1mDyAAAPAwVYKLWtcm/Pm4UyB7/nIfARAAAHiEuIREDZ+zWf/3zR/WtAl/ZpwyY00gco4ACAAACtyp8zG6f9JKfbJsnzXdrnZZ7X7tznQ1gcg9BEAAAFCgNh4KV/eRS7Vy7xlrunvTEM14or18fX0uOTAEuYMACAAACszMdYfUZ9wyHQmPVuliRTSwfQ191L+5PTdJcghMSOS41dzi6ABYs2ZN+fj4XHIZPHiw3QMAAOSF+IRE/WfuFj331QbFxCfqpvoVteiFG/VKj0Z2j/RMCHzWHQKROxwdAFevXq2jR4+mXBYsWGC19+3b17oGAAC570xUrB6cvEqTw/Za00NvukaTHmyl4GJFrGnkPUcHwAoVKqhy5copl3nz5qlOnTq6/vrr7R4AACA3bTocrm4jl2rZ7tMqEeCncfe30N9uq2fV+yH/UANoi42N1WeffaZHHnnEGgYGAAC563/rD1v1fofPXVTNcsU1a3BH3d6oij0X+YkAaJs9e7bOnTunhx56yG65VExMjHX28LQXAABwZabe77XvtujpGesVHZeoG+pV0P8Gd9K1lUrZPZDfCIC2jz/+WHfccYdCQkLslkuNGDHC+uqY5EtoaKg9BwAAXM7ZqFg9NGW1Ji5Jqvd76oY6+nhgawUXp96vIPFdwG779+9X7dq1NXPmTPXo0cNuvZTZA2guycweQBMC+S5gAAAuteVIhJ74dI0Onb2oYkX89E7fprqrScEP+ZrtN98FDE2ZMkUVK1bUXXfdZbdcXmBgoLWipL0AAIBLzd1wRL3Ghlnhr3pZU+/XwSPCH5I4PgAmJiZaAXDgwIHy9/e3WwEAQHaYkzWP+GGrhn7xu1Xv17luec0Z0lH1K7PTxJM4PgD+/PPPOnDggHX0LwAAyL5zF0y93yqNX7THmn7y+tr65OE2Kl08wJqG56AGMAeoIQAAIMm2YxF6YtpaHThzwar3e6tPE3VrmvmBlQWJ7Td7AAEAQA59v/Goeo1ZZoW/amWK6du/dvDY8IckBEAAAJAtpt7vrR+36anp63QhNkGdrimvuUM6qUEIo2KejgAIAACyLPxCnB6dulpjFu62pp/oYur9WqtMCer9vAEBEAAAZMmO45HqMXqpFm4/qaJFfPVhv2Z6+c7r5O9HrPAWPFMAAOCq/bjpqO4eHaZ9py+oauli+mZQB/VoVtWeC29BAAQAAH8qMdGld+Zv16DP1ikqNkHta5fT3KGd1KhqsN0D3oQACAAArij8Ypwem7ZGo37bZU0/0rGWPn20jcpS7+e1CIAAACBTu05EqufoMP267YQC/X313j1N9a9uDaj383I8ewAA4LJ+2nzMHf6Wae+pKIUEF7Xq/Xq1qGbPhTcjAAIAgHRMvd/7C3boiU/X6nxMvNrWKqs5QzupcTXq/QoLAiAAAEgRGR1nBb8Pf9lpTT/UoaY+e6ytypcMtKZROBAAAQCAZffJ81a9389bjyvA31fv9G2q4d0bqgj1foUOzygAANDPW46r56gwdwiMUpXgovr6yfbq05J6v8KKAAgAgIOZer+PftlpneYlMiZebWqW1ZwhndQ0tLTdA4URARAAAIcyB3gM+myt3luww5p+sH0Nq96vQinq/Qo7AiAAAA60x673+2nLcQX4+eqt3k30nx6NrNo/FH48ywAAOMyv246rhzv87TpxXpWCAvXlk+10T+tQey6cgAAIAIBDuFwujfp1px6dukaR0fFqWaOM9X2+zauXsXvAKQiAAAA4QFRMvJ6avk7v/LTDHQSlAW2r64vH26liqaJ2DzgJARAAgEJu36ko3T0mTD9sOqYifj4a0auxXru7MfV+DsYzDwBAIbZw+wl1H7VUO46fV8VSgZrxRHv1b1PdngunIgACAFAImXq/MQt36eFPVisiOl4tqpe26v1M3R9AAAQAoJC5EBuvIV/8rrd+3G7V+/VvE6ovnminSkHU+yEJARAAgELkwOkL6jVmmb7746hV7/fa3Y00olcTBfr72T0AAiAAAIXGkp0n1W3UUm07FqnyJQOto3wHtK1hzwVSEQABAPBypt5v/KLdGjh5lcIvxlnf4ztvaCe1qlnW7gGkRwAEAMCLmXq/YTPWa8QP25Toku5pVU1fPtFOlYOp90PmCIAAAHipg2cuqPfY5Zq74Yj8fX30nx4N9WbvJipahHo/XBkBEAAALxS265RV77f1aITKlwzQ9Mfa6sH2NeXj42P3ADJHAAQAwIuYer9JS/bogY9X6tyFODWpFqw5Qzqpbe1ydg/gzxEAAQDwEhdjE/Tsl+v13++2WvV+vVtU01dPtldI6WJ2D+DqEAABAPACh85eUJ9xyzR7/RH5+fpoeLcGeqcv9X7IHgIgAAAebtnuU+o+Kkybj0SobIkAffZoWz3UsRb1fsg2AiAAAB7K1PtNXrpXD3y8SmeiYtWoapD1fb7t61Dvh5whAAIA4IGi4xL0t6836D/ztigh0aW7m1fVN4M6qCr1fsgFBEAAADzMkXMX1Xfccs1cd9iq9/t/XRvovXuaUu+HXOPoAHj48GHdf//9KleunIoXL65mzZpp7dq19lwAAPLfij2n1W3kUm08HK4yxYvo00fa6NFO1Pshdzk2AJ49e1YdO3ZUkSJF9MMPP2jLli169913Vbp0absHAAD5x9T7TV22T/dPWqnTUbFqUCXIOr9fh2vK2z2A3OPjXuFc9m1HefHFFxUWFqYlS5bYLVkXERGh4OBghYeHKygoyG4FACBrTL3fP2dv0jdrD1nT3ZuGWF/pViyAId+8wPbbwXsA58yZo1atWqlv376qWLGimjdvrokTJ9pzAQDIH0fDL+re8cut8OfrI/3jzuv0Yb9mhD/kKccGwD179mjs2LGqW7eu5s+fr0GDBmnYsGGaNm2a3eNSMTEx1qeGtBcAALJr9b4zVr3fhkPhKl28iKY90laPd6lNvR/ynGOHgAMCAqw9gMuWLbNbZAXA1atXa/ny5XZLesOHD9crr7xiT6ViCBgAkBVm0/vZygN6Zc5mxSe6VL9yKU18sJVCyxa3eyAvMQTs4D2AVapUUYMGDeypJNddd50OHDhgT13qpZdeslaW5MvBgwftOQAAXJ2Y+AS9+O1G/b/Zm6zw17VJFc18qgPhD/nKsQHQHAG8fft2eyrJjh07VKNGDXvqUoGBgdYnhbQXAACu1vGIaPWbsEJfrjlo1fu9eEd9jezfXMUD/O0eQP5wbAB89tlntWLFCr3++uvatWuXPv/8c02YMEGDBw+2ewAAkHvW7j+jriOX6vcD5xRU1F9THm6jQdfXod4PBcKxNYDGvHnzrGHdnTt3qlatWnruuef0+OOP23P/HDUEAICr8fnKA/r3nE2KS3CpXqVSmvBgS9UoV8Kei/zG9tvhATCnWIEAAFdi6v2Gz9miL1Yl1Zff2biy3u7TVCUCGfItSGy/HTwEDABAXjoREa3+E1ZY4c+M8v7fX+pp9H0tCH/wCARAAABy2boDZ616v3UHzqlUUX9Nfqi1Bt94DfV+8BgEQAAActGMVQfUb/wKnYiMUd2KJa3v872xXkV7LuAZCIAAAOSC2PhE/XP2Rr04c6NiExL1l4aVNGtwR9Uqz8Ee8DwEQAAAcuhEZLQGTFqhz1Yk1fs9f9u1GjugpUpS7wcPRQAEACAH1h88p+4jw7R631mVcge+jwe20pCb6srXnOkZ8FAEQAAAsumrNQd1z/jlOhYRrToVSmj2kI66qX4ley7guQiAAABkUVxCov79v0164Zs/rNq/WxtU0uzBHd0hsKTdA/BsBEAAALLg1PkYDZi0UlOX77emn7mlrsbf31KlihaxpgFvQAAEAOAq/XHI1Pst1aq9Z6wDPCY+2ModAK+l3g9ehwAIAMBV+HbtIfUZt1xHwqNVu3wJa8jXDP0C3ogACADAFZh6v1fmbtbfvt5g1fvdXL+idbDHNRWp94P3IgACAJCJ0+dj9MDHKzUlbJ81Peyma6xh3yDq/eDlCIAAAFzGpsPh6j4qTCv2nFGJAD+Nu7+lnrutHvV+KBQIgAAAZDD798PqPXaZDp+7aH2Vm6n3u71RZXsu4P0IgAAA2OITEvXfeVv0zJfrFROfqBvrVbDCX91KpeweQOFAAAQAwO1MVKwGTlmlSUv3WtNDbrxGkwa2VnAx6v1Q+BAAAQCOt+VIhLqPWqqwXadVPMBPYwe00PN/qSc/6v1QSBEAAQCONmfDEfUaG6ZDZy+qRrnimvVUR93RuIo9FyicCIAAAEdKSHRpxPdbNeyL3xUdl6gu11bQnMGdVK8y9X4o/AiAAADHOXchVg9NWaXxi/dY03+9oY6mPNRawcWp94MzEAABAI6y9WiEuo1aqiU7T6lYET+Nuq+5/n57fer94CgEQACAY8z744h6jVmmg2cuKrRsMc18qoO6Ngmx5wLOQQAEABR6pt7vjR+2acjnv+tiXII61y1v1ftdVyXI7gE4CwEQAFCohV+I08OfrNa4Rbut6Se71Lbq/cqUCLCmASciAAIACq3txyLVffRSLd5xUkWL+Oqj/s310p3Xyd+PzR+cjVcAAKBQ+mHjUd09Jkz7T19QtTLF9O1fO6h7U+r9AIMACAAoVEy93zvzt+uv09fpQmyCOtQppzlDOqlhSLDdAwABEABQaIRfjNNjU1dr1G+7rOnHOtXStEfaqCz1fkA6BEAAQKGw83ikeo4O02/bTyrQ31cf3NtM/+zagHo/4DJ4VQAAvN78zces8Lf3VJSqlk6q9+vZvKo9F0BGBEAAgNdKTHTpvZ+268lP1yoqNkHtapfVnCEd1agq9X7AlRAAAQBeKSI6To9PW6OPfk2q93u4Y019+mhblSsZaE0DyBwBEADgdXadOG8N+f6y7YQC/H31bt+m+ne3hipCvR9wVXilAAC8yoItx63wt+dklKoEF9U3g9qrd8tq9lwAV4MACADwCqbe74Ofd1jDvudj4tWmVlnNHdpJTaqVtnsAuFqODYDDhw+Xj49PukvlypXtuQAATxIZHacnP1vrDoA7remB7Wto+mNtVZ56PyBbHL0HsGHDhjp69GjKZePGjfYcAICn2HMyqd7PDP0G+PnqrT5N9EqPRtT7ATng6FePv7+/tdcv+VKhQgV7DgDAE/y67bh6jArT7pNRqhxUVF8Naq97WoXacwFkl6MD4M6dOxUSEqJatWqpX79+2rNnjz3n8mJiYhQREZHuAgDIfabeb+QvO/Xo1DWKjIlX65plNGdoRzULpd4PyA2ODYBt27bVtGnTNH/+fE2cOFHHjh1Thw4ddPr0abvHpUaMGKHg4OCUS2gon0IBILeZAzyemr5O7y7YIZdLur9ddU1/rJ0qlipq9wCQUz4uN/u2o0VFRalOnTp64YUX9Nxzz9mt6Zk9gOaSzOwBNCEwPDxcQUFBdisAILvMV7k9MW2Ndp44b9X7/adHQ/VrU92eC+QOs/02O3KcvP2mgtZWokQJNW7c2BoWzkxgYKC1oqS9AAByx2/bT6j7qKVW+KtYKlAznmxH+APyCAHQZvbsbd26VVWqVLFbAAD5wQxEjf5tlx75ZLUio+PVskYZzRvaSS2ql7F7AMhtjg2Azz//vBYtWqS9e/dq5cqV6tOnj7VLeODAgXYPAEBei4qJ1+DP1+nt+duter/72lbXF4+3U8Ug6v2AvOTYAHjo0CH1799f9erVU69evRQQEKAVK1aoRo0adg8AQF7afzpKvcYs0/cbj6mIn49ev7uxdTHf7Qsgb3EQSA5QRAoA2bNox0kN++J3hV+MU4VSgRp3fwu1rFHWngvkLbbf1AACAPKR2ecwbtFuPTxllRX+zHn9TL0f4Q/IXwRAAEC+uBAbr6Ff/K43ftimRJd0b6tQfflkO1Wi3g/IdwRAAECeO3jmglXvN++Po/L39dGrPRvpjd6NFejvZ/cAkJ8IgACAPLV05yl1G7VU245FqnzJAH3+eDs90K6GfHx87B4A8hsBEACQJ0y938TFe/Tg5JU6dyFOTasFa+7QTmpTi3o/oKARAAEAue5ibIKenrFer32/1ar369Oymr58sr2qBBezewAoSARAAECuMvV+vccu05wNR6x6v1e6N9TbfZqoaBHq/QBPQQAEAOSaZbtOWd/nu+VohMqVCND0x9pqYIea1PsBHoYACADIMVPv9/HSvXpg8iqdvRCnxlWT6v3a1i5n9wDgSQiAAIAciY5L0HNfbdCr87YoIdGlXi2q6utB7RVSmno/wFMRAAEA2Xb43EX1GbdMs34/LD9fH/2rawO927cp9X6AhyMAAgCyZcWe0+o+cqk2HY5Q2RIB+vTRNnqkUy3q/QAvQAAEAGSJqff7JGyvBkxaqdNRsWoYEqQ5QzqqQ53ydg8Ano4ACAC4aqbe7/mv/9DwuUn1fj2bheibQR1UrUxxuwcAb0AABABclaPhF3Xv+OX6dt0h+fpI/7zrOr1/bzMVC6DeD/A2BEAAwJ9atfeMuo1cqg2HwlW6eBFNe6StHutcm3o/wEsRAAEAmTL1ftOW79N9E1fo1PlYXVclSHOHdFKnutT7Ad6MAAgAuCxT7/f3b//Qv/63WfGJLnVrGqJv/9peoWWp9wO8HQEQAHCJY+HRunfCCn21Jqne7+U76+ujfs1UPMDf7gHAmxEAAQDprNl3Rl1Nvd/BcwouVkRTH2mjJ7rUod4PKEQIgACAFNNX7ld/q94vRvUrl7Lq/TrXrWDPBVBYEAABAIqJT9BLM//QP2ZtUlyCS3c1rqKZT3VQ9XLU+wGFEQEQABzueES0+k9YoS9WHZQZ5f377fU16r7m1PsBhRgBEAAcbO3+s9b5/dYdOKegov6a8lBr/fUG6v2Awo4ACAAONWPVAfWbsFwnImN0baWSmjOkk26oV9GeC6AwIwACgMPExifqH7M26sWZG616v9sbVtbMpzqqZvkSdg8AhR0BEAAc5ERktPWtHtNXHrDq/Z6/7VqNvb+FSgZS7wc4CQEQABzi9wNJ9X5r9p9VqaL++nhgKw25qS71foADEQABwAG+Wn1Q945foeMRMbqmYlK93031K9lzATgNARAACrG4hET963+b9MK3fyjWffu2BpU0e3BH1aLeD3A0AiAAFFInI2M0YOJKTVu+35p+7tZrNe7+ltT7ASAAAkBhZL7Ht/uopVq174xKuQPfpAdbadjNdeXrS70fAAIgABQ636w9pL7jl+toeLRqVyih2UM66pYG1PsBSEUABIBCwtT7DZ+zWc9/vcE6198t11W06v3qVChp9wCAJARAACgETp+P0f2TVuqTZfus6advrqsJD7RSUNEi1jQApEUAtI0YMcI6F9YzzzxjtwCAd9h0OFzdR4Vp5d4zKhHgp/EPtNSzt15LvR+ATBEA3VavXq0JEyaoSZMmdgsAeIdZvx9S77HLdPjcRevULmbI9y8NK9tzAeDyHB8Az58/rwEDBmjixIkqU6aM3QoAni0+IVH/mbtFz365QTHxibqpflK9X91KpeweAJA5xwfAwYMH66677tItt9xitwCAZzsTFasHJ6/S5LC91vTQm66xTvMSXIx6PwBXx9EBcMaMGVq7dq1V/3c1YmJiFBERke4CAPnJ1PuZ7/Ndtvu0Ve837v4W+ttt9aj3A5Aljg2ABw8e1NNPP63p06eraNGiduuVmaAYHByccgkNDbXnAEDe+9/6w+ozLqner2a54po1uKNub1TFngsAV8/H5WbfdpTZs2fr7rvvlp+fn90iJSQkWEcC+/r6Wnv70s4zTJu5JDN7AE0IDA8PV1BQkN0KALnL1Pu9+eM2TVySNOR7Q70K+vDe5gouzpAvkB1m+2125Dh5++3YABgZGan9+5O+HzPZww8/rPr16+vvf/+7GjVqZLdmjhUIQF47GxWroV/8rqW7TlnTT91Qxxry9WPIF8g2tt8OHgIuVaqUFfLSXkqUKKFy5cpdVfgDgLy25UiEuo9eaoW/YkX8NPq+Fnrh9vqEPwA55vijgAHAE83744h1fr+DZy6qellT79dBdzWh3g9A7nDsEHBuYBcygNyWkOjS2/O3a9yi3dZ057rlNbJ/c5UuHmBNA8g5tt/sAQQAj3HuQqwe/mR1Svh78vra+uThNoQ/ALmOAAgAHmDbsQjr+3wX7zhp1fuZvX4v3XEd9X4A8gQBEAAK2Pcbj6rXmGU6cOaCqpUppm//2kHdmobYcwEg9xEAAaCAmHq/t37cpqemr9OF2AR1uqa85g7ppAYh1BQDyFsEQAAoAOEX4vTo1NUaszCp3u+JLqber7XKlKDeD0DeIwACQD7bcTxSPUYv1cLtJ1W0iK8+7NdML995nfz9eEsGkD94twGAfPTjpqO6e3SY9p2+oKqli+mbQR3Uo1lVey4A5A8CIADkg8REl979absGfbZOUbEJal+7nOYO7aRGVYPtHgCQfwiAAJDHIqLj9Pi0NRr56y5r+pGOtfTpo21Ulno/AAWEAAgAeWjXiUj1HBWmX7adUKC/r967p6n+1a0B9X4AChTvQACQRxZsOa6eo5dpz6kohQQXter9erWoZs8FgIJDAASAXGbq/d5fsMMa9j0fE6+2tcpqztBOalyNej8AnoEACAC5KDI6Tk98ulYf/rLTmn6oQ0199lhblS8ZaE0DgCcgAAJALtl98rx6jg7Tz1uPK8DfV+/0barh3RuqCPV+ADwM70oAkAt+NvV+o8LcITBKVYKL6usn26tPS+r9AHgmAiAA5ICp9/vol516bNoaRcbEq03NspozpJOahpa2ewCA5yEAAkA2mQM8Bn22Vu8t2GFNP9i+hlXvV6EU9X4APBsBEACyYe+pKOsr3X7aclwBfr56q3cT/adHI6v2DwA8He9UAJBFv207oe6jlmrnifOqFBSoL59sp3tah9pzAcDzEQAB4Cq5XC6N/m2XHpm6WpHR8WpZo4z1fb7Nq5exewCAdyAAAsBViIqJ11PT1+nt+dvdQVAa0La6vni8nSqWKmr3AADvQQAEgD+x71SUeo1Zph82HVMRPx+N6NVYr93dmHo/AF6Ldy8AsJmvbzOndElr4faker/txyNVPMBPM55or/5tqttzAcA7EQABwObn62Od0sWEQFPvN2bhLj38yWpFRMdb8+9vV8Oq+wMAb+fjfpNz2beRRREREQoODlZ4eLiCgoLsVgDezIQ/EwKvrVRSO46ft1ulYTdfo+durWdPAfBmbL/ZAwgA6fylYWWVKV4kXfh77tZrCX8AChUCIAC4mcGQL1cfUI/RS3X2QpzdKuskz8NurmtPAUDhQAAE4HjmFC/PfbVBf/92o6LjElWjXHGr3YS/2ITESw4MAQBvRwAE4GjbjkWo26ilmvX7YesgkE7XlNP+0xesYd8dr91hXScfGAIAhQUBEIAjmSHfGasOqMeoMO05GaXKQUXVp2U1Ld112gp9ycO+5poQCKCwIQACcJzzMfF65sv1enHmRsXEJ+qGehX0/dOdrRCYNvwlSw6BCYmcNAFA4cBpYHKAw8gB77P1aIQGT1+nPaeirCHf52+rpye71Jav+zYAZ2D7zR5AAA5hPut+vvKAeo4Os8JfleCi+vKJdvrrDXUIfwAchwAIoNAzQ75Pz1ivl2clDfneWK+CvhvWWa1qlrV7AICzEAABFGpbjkSo28ilmrPhiDXk+9Id9fXxwNYqWyLA7gEAzkMABFAomSHf6Sv3q+eYMO09FaWQ4KL66sl2evJ6hnwBwNEBcOzYsWrSpIlVAGou7du31w8//GDPBeCtIqPjNGzGev1j1ibFxifqpvoVrSHfljUY8gUAw9EBsFq1anrjjTe0Zs0a63LTTTepR48e2rx5s90DgLfZfCRc3UeFae6GI/L39dHLd9bXpAdbqQxDvgCQgtPAZFC2bFm9/fbbevTRR+2WzHEYOeA5koZ8D+g/87ZYe/3MkO/I+1qoZY0ydg8ASML2mxrAFAkJCZoxY4aioqKsoeDLiYmJsVaatBcABc8M+Q794nf9c3bSkO8t11W0TuxM+AOAy3N8ANy4caNKliypwMBADRo0SLNmzVKDBg3suemNGDHC+sSQfAkNDbXnACgomw6HW0f5zvvjqDXk+8+7rtPEB1updHGGfAEgM44fAo6NjdWBAwd07tw5ffvtt5o0aZIWLVp02RBo9gCaSzKzB9CEQIaAgfxn3ro+W3lAr87dotiERFUtXUwj72uuFtXZ6wfgysz22+lDwNQAZnDLLbeoTp06Gj9+vN2SOVYgoGBERMfppW836ruNR61pM+T7Tt+m7PUDcFXYfjMEfAmTh9Pu5QPgWZKHfE34Y8gXALLH0QHw5Zdf1pIlS7Rv3z6rFvAf//iHFi5cqAEDBtg9AHgK8+Fs2vJ96jVmmfafvmAN+X49qL0e61xbPj6c2BkAssLRAfD48eN64IEHVK9ePd18881auXKlfvzxR9166612DwCewAz5Dv58nf71v81Wvd+tDSrp+2Gd1Zx6PwDIFmoAc4AaAiDvbTwUboW/A2cuqIifj1684zo90rEme/0AZBvbb2oAAXgo89l06rJ96j12mRX+qpUxQ74d9GinWoQ/AMghAiAAjxN+MU5//Wyd/j0nacj3tgaV9N3QzmoWWtruAQDICQIgAI/yx6Fz6jpyiX7cfMwa8v13twYa/0BLBRcvYvcAAOQUARCARzBDvp+E7bWGfA+euWgN+X4zqIMe7siQLwDkNgIggAKXPOQ7fO4WxSW4dHvDyvpuWGc1ZcgXAPIEARBAgdpwMP2Q7/BuDTT2/hYKLsaQLwDkFQIggAJhhnwnL92rPuOShnxDyxbTt3/toIcY8gWAPEcABJDvwi/E6clP1+o/85KGfO9oVFnzhnZWk2oM+QJAfiAAAshX6w+e010jl+inLccV4Oer//RoqDEDGPIFgPxEAASQL8yQ78dL96rvuGU6dPaiqpctbg35Ptieb/UAgPxGAASQ58yQ7xOfrtWr9pDvnY0ra96wTmpcLdjuAQDITwRAAHnq9wNndedHS7QgzZDv6PtaKKgoQ74AUFAIgADyhBnynbRkj/qOW67D5y6qRrnimvkUQ74A4AkIgABy3bkLsXp82lr997utik906a7GVTR3aCc1qsqQLwB4AgIggFy17sBZ3fXRUv28NWnI99WejTTqvuYM+QKAByEAAsgVZsh34uI9usce8q1pD/k+0K4GQ74A4GEIgABy7GxUrB6bukavfZ805Nu1CUO+AODJCIAAcmTtfjPku0S/bDuhAH9f/bdnI43s31ylGPIFAI9FAASQLYmJLk1YvFv3jl+uI+HRqlW+hGY91UH3M+QLAB6PAAggy8yQ7+PT1uj177dZQ77dmoZozpCOahjCkC8AeAMCIIAsWbv/TLoh39fvbqyP+jVjyBcAvAgBEMBVMUO+4xft1j3jV1hDvrXLl9DspzrqvrbVGfIFAC9DAATwp85ExerRqas14odtSnAHwe5myHdoJzUICbJ7AAC8CQEQwBWt2Zc05Pvb9pMK9PfViF6N9WG/ZioZ6G/3AAB4GwIggMsyQ75jF+7WvRNW6GjykO/gjurfhiFfAPB2BEAAlzBDvo9MXa03f0wa8u3RLGnI97oqDPkCQGFAAASQzup9Z3Tnh0u00B7yfaNXY31wL0O+AFCYEAABWMyQ75iFu9Rvwgodi4hW7QpJQ779GPIFgEKHAAhAp8/H6OFPVuutH7dbQ753N6+quUMY8gWAwooACDjcqr1ndOdHS7RoR9KQ71u9m+i9e5qqBEO+AFBoEQABhzJDvqN/M0O+y3U8IkZ1KpTQ/4Z01D2tQxnyBYBCjgAIOJAZ8h04ZZXenr9d7hyoXs2ras6QTqpfmSFfAHACAiDgMCv3nLaGfJfsPKWiRXz1Vp8mepchXwBwFAIg4BBmyHfUrzvVf+IKa8j3moolrb1+97RiyBcAnIYACDjAKXvI952fdlhDvr1bVHOHv466tlIpuwcAwEkIgEAht8IM+X6YOuT7tj3kWzyAIV8AcCpHB8ARI0aodevWKlWqlCpWrKiePXtq+/bt9lzAu5nz+Y38Zafum7hCJyJjVNce8u3bKtTuAQBwKkcHwEWLFmnw4MFasWKFFixYoPj4eN12222KioqyewDe6aQ78A2cvErvLkga8u3bspp1iheGfAEAho/Lzb7teCdPnrT2BJpg2KVLF7s1cxEREQoODlZ4eLiCgjh9BjzDst2n9PSM9VYILFbET6/2bKQ+7gAIAEjC9psawHTMimCULVvWus4oJibGWmnSXgBPYYZ8P/x5p+6ftNIKf0lDvh0JfwCASxAAbWZH6HPPPadOnTqpUaNGdmt6pmbQfGJIvoSGUksFz2AC34OTV+r9n9MP+dZlyBcAcBkMAdtMLeB3332npUuXqlq1y+8xMXsAzSWZ2QNoQiBDwChIy3ad0tNfpg75/rdnI/Vmrx8AZMpsvxkChoYOHao5c+bot99+yzT8GYGBgdaKkvYCFBQz5PvBzzs04OOkId9rK5XU3KEdCX8AgD/l6ABodn4OGTJEM2fO1K+//qpatWrZcwDPdiIyWg+4g98HP+90r8fSva1C9b/BnXRNRYZ8AQB/ztEB0Az7fvbZZ/r888+tcwEeO3bMuly8eNHuAXiesF2ndOeHS7Vs92kVD/DT+/c21Zt9mqiY+zYAAFfD0TWAmX3/6ZQpU/TQQw/ZU5mjhgD5yQz5fvTLTn30a9Jev3qVSmn0gBbWd/oCAK4e228OAskRViDkFzPk+/QX67V8z2lrul/rUP27W0P2+gFANrD95iAQwOMt3WmGfJdY4c8M+X5wbzO90ZshXwBA9hEAAQ9lhnzfW7BDD0xeqVPnY1W/cinNHdpJPZtXtXsAAJA9BEDAA52IiNaASSusmj9TpNG/TXXNHtxRdSpQ7wcAyDkCIOBhluw8qTs/WqIVe86oRICfPuzXTCN6NVbRIgz5AgByBwEQ8BDxCYl696ftenDyKmvI97oqQdaQb49mDPkCAHIXARDwAMetId+VGvnrLmvI97621TXrqQ6qzZAvACAPEACBArZ4x0nrKN+Ve5OGfD/q31yv382QLwAg7xAAgQJihnzfmb9dA6es0umo1CHf7k1D7B4AAOQNAiBQAI6FR+u+iSs16rekId8BDPkCAPIRARDIZ4vMkO9HS7Rq3xmVDPTXyP7N9RpDvgCAfEQABPKJGfJ968dtGjh5lc5ExaqBPeTbjSFfAEA+IwAC+eBo+EX1n7hCYxbutqYfaFdDM5/qoFrlS1jTAADkJwIgkEveX7DD+uaOjBZuP6Gb3lmk1fvOWkO+o+5rrld7NmLIFwBQYAiAQC7x8/Wxvrs3OQSaId83f9ymh6as1sW4BFUoFah5QzupaxOGfAEABcvH5WbfRhZFREQoODhY4eHhCgoKslvhZCb8mRD4eOdaWn/wnLXXz2gWGqwZT7Rnrx8AeAC23+wBBHLVsJvrqmuTKpq4ZG9K+DPTswd3IvwBADwGARDIJafOx2jw9HWa98dRu0Uq4uejUfe1sKcAAPAMBEAgh0wVxdwNR3Tb+4v13caj8vFJajfhLy7BddkDQwAAKEgEQCAHTkbG6K+frdPQL363zu1XvmSA9c0ez916rXa+dqd1nfbAEAAAPAEBEMgGs9dv9u+Hdev7i/Tj5mPy9/VR+9pldep8rBX6TC2gYa4JgQAAT0MABLLoRES0Hp+2Vs98uV7nLsSpYUiQ5gzppDa1yqULf8mSQ2BCIgfcAwA8A6eByQEOI3cW81KZue6wXpm7WRHR8VaN37Cb6mrQDXXct/ksBQDegu03ewCBq3IsPFqPfLJaf/t6gxX+GlcNtr7Hd+jNdQl/AACvw5YLuAKz1++rNQetWr/ftp9UgDvsvXB7Pc16qoPqV2avLwDAOxEAgUwcOXdRA6es1gvf/KHI6Hg1DS2t74Z10lM3XCN/9voBALwYWzEgA7PX74tVB6zz+i3ecVIB/r566Y76+nZQe9WtVMruBQCA9yIAAmkcPHNBD3y8Si/N3KjzMfFqUb20vh/WWU9eX4e9fgCAQoMtGuCWmOjSpyv26/YPFmvprlMqWsRX/7zrOn09qIOuqVjS7gUAQOFAAITjHTh9QQMmrdT/m71JUbEJal2zjH54uose61xbfr7297oBAFCIEADhWGav3ydhe/WXDxZr+Z7TKlbET//u1kBfPtFetcqXsHsBAFD4EADhSPtORanfxBUaPneLLsYlqF3tsvrxmc56uGMt+bLXDwBQyBEA4Sjm69g+XrpXt3+4WKv2nlHxAD+92qOhPn+snWqUY68fAMAZCIBwjN0nz+ue8cv16rwtio5LVIc65TT/mS56oH1N9voBAByFAIhCz+z1m7h4j+78cInW7j+rkoH+ev3uxpr+WFuFli1u9wIAwDkIgCjUdp2IVJ9xy/Ta91sVE5+oznXLa/6zXXRf2+ry8WGvHwDAmRwdABcvXqxu3bopJCTECgOzZ8+258DbxSckauzC3brzo6X6/cA5lQr015u9G2vaI21UtXQxuxcAAM7k6AAYFRWlpk2batSoUXYLCoPtxyLVe+wyvfnjNsXGJ+qGehX003NddG9r9voBAGD4uMwXn8IKBrNmzVLPnj3tlj8XERGh4OBghYeHKygoyG5FQYlLSNT4Rbv10S+7FOu+HVTUX//q1lC9W1Ql+AEAUrD9pgYQhcTWoxG6e0yY3vlphxX+bq5fUQueu159WlYj/AEAkAEBMAtiYmKsTw1pLyhYZoj3g593qPuopdp02P2JrlgRvX9vU00a2EqVgoravQAAQFoEwCwYMWKEtcs4+RIaGmrPQUHYfCRcPUaHuQPgTsUluHRbg0pa8FwX3d2cvX4AAFwJATALXnrpJateIPly8OBBew7yk9nr995P29VjVJg19FumeBF91L+5xj/QUhVLsdcPAIA/QwDMgsDAQKtYNO0F+WvjoXBruPejX3cpPtGlOxtX1k/PXq/uTZNO5QMAAP6cowPg+fPntX79euti7N2717p94MABaxqeIyY+QW/P36aeY8K07VikypUI0Oj7WmjMgJaqUCrQ7gUAAK6Go08Ds3DhQt144432VKqBAwfqk08+sacyx2Hk+WP9wXP6v683aOeJ89Z0t6YhGt6tgcqVJPgBALKO7TfnAcwRVqC8FR2XoPd/3mF9j2+iey0tXzJA/+3ZSLc3qmL3AAAg69h+UwMID7V2/1nd+dESjV+UFP56NgvRgmevJ/wBAJALCIDwKBdjE/TfeVvUZ9wy7TkZpYqlAjXxwVb6oF9zlSkRYPcCAAA5QQCEx1i974y112/S0r0yhQm9W1Sz9vrd2qCS3QMAAOQGAiAK3IXYeL0yd7PuGb9ce09FqXJQUU1+qJXevaepgosXsXsBAIDcQgBEvnh/wQ599MtOeyrVij2n1X7Er5oSts/a63dPq2qa/2wX3VSfvX4AAOQVAiDyhZ+vj95LEwKjYuL1r/9tUr8JKxR+MU4lA/019ZE2eqtPU+v7fAEAQN7hNDA5wGHkWWPCnwmBfVpWs/b8HTp70WpvXDVYnz/eVqWKEvwAAHmP7Td7AJGPHupYU42qBumbtYdSwp850GPu0E6EPwAA8hEBEPni5y3Hdet7i7TpcITdIhXx87EO9AAAAPmLAIg8dfp8jIZ+8bsem7ZGxyNiVNo+qjfAz1dxCa7LHhgCAADyFgEQecKUlv5v/WHd8t4izd1wRL4+UquaZXTuQpyeu/Va7XjtDus67YEhAAAgfxAAkeuOhl/UY1PX6OkZ63XWHfjqVy6lfm2qa82+s1boG3ZzXaufuSYEAgCQ/wiAyDWJiS59vvKAbntvsX7ZdsIa5v2bO+DNGdJJFUoGpgt/yZJDYIL5wl8AAJAvOA1MDnAYeap9p6L04sw/tGLPGWu6efXSeqt3E9WtVMqaBgDAU7D9Zg8gcsjsuZu4eI9u/3CxFf6KFfHT/+vaQN8M6kD4AwDAQxEAkW3bj0Wq19hleu37rYqOS1THa8pp/jNd9GinWtY3fwAAAM9EAESWxcYn6oOfd6jryCXacPCcSgX6641ejfXZo21VvVxxuxcAAPBUBEBkiQl83UYudQfAndZ5/G65rpIWPHe9dZSvjw97/QAA8AYEQFyVi7EJeu27Lbp7TJi2H49UuRIBGtm/uSY+2FKVg4vavQAAgDcgAOJPLd99Wnd8uFgTl+yVOVtLz2Yh1l6/bk1D2OsHAIAXIgAiU5HRcXp51kb1n7hC+05fUOWgopr8UCt90K+5ypYIsHsBAABvQwDEZf267bhue3+xdWJn47621fXTc110U/1K1jQAAPBenAg6B7z5RJLvL9hhnaol4zdznImK1X0TV2jbsUhruka54nqjVxO1r1POmgYAwNtxImj2ADqWCX9pv4PXfA6Yu+GIOr7xqxX+TGXfE11q68enuxD+AAAoZNgDmAPe/gnChD8TAk3Q23MySj9vPW61myN8P36otZqFlramAQAoTNgDyB5AR3uscy11qFNOExbvSQl/7WqX1fKXbib8AQBQiBEAHSguIVGfrtivLm8t1LLdp+1WqYifj2Y80V4B/qwWAAAUZmzpHcSM9n/3x1Hd+t4i/b/Zm3TqfIyCixWx5gX4+Vrf7JFcEwgAAAovAqBDLNt1Sj1Hh2nw5+usc/qZOr8b61VQ+MU4PXfrtdrx2h3WddoDQwAAQOFEACzkNh8J14OTV+m+SSu14VC4SgT46Zlb6qp/m+r6bftJK/QlnwrGXBMCAQAo/DgKOAc84SiizM7nd/DMBT0+bU3K+fz83X0GtK2uITfVVYVSgZnezzDhLyHRpWfdYRAAgMKGo4AJgDniCStQ8qlckvfknT4fo5G/7tK05fus7+01ujcN0d9uu1Y1ypVIagAAwMEIgATAHPGUFSg5BJpTuvxxKFznY+Kt9hpli2v0gBZqVDXYmgYAAARAgxpAL2CGazOryfvg5x3u0HfOqu0zp3RJDn+9W1TTohduJPwBAIBLEAC9QMavbUv2t6/WuwPgTv289YSiYhPs1qRTurx7T1N7CgAAID2GgHMgr3Yhfzh/k5od+0bXl086gENVW+vb3S79fXVxDax2TNcWj9LyE/6ac66WEt0ZPqiov1qEllL07jBV8Q3X0cRgdbypm4beUj/p/leS6A6O+5dJ549LJStJNTq4Pxb42TPzQH7/vILghL+xsOM5BApWHr8GGQImAGrMmDF6++23dfToUTVs2FAffPCBOnfubM+9stxege4dv1z3R07SXednumNdot2aKsHlIz+f1KfrqKusll7zf/L381Hb7W8pxOeMPUc64p73e4MXdde9T9otl7FljvTj391/yBG7wS0oRLr9TalBd7shF+X3zysITvgbCzueQ6Bg5cNrkADo8AD45Zdf6oEHHrBCYMeOHTV+/HhNmjRJW7ZsUfXq1e1emcvtFWjuO4+qa+Q37mdF2hRQRL8XDVT12DgVd8+rHhevSvEJOu7vpwNF/JOmE0xIdD995hl03+e4X9p5CTLP7A8N3rp8CDQvsK8edN9w6Via+1W2HtPtnmm5u7HL759XEJzwNxZ2PIdAwcqn1yAB0OEBsG3btmrRooXGjh1rt0jXXXedevbsqREjRtgtmcvVFSg+Vnqtkju0Jeqf5ctqTskS7mfHnerM0+O+9nVfdz0fpXnu9kR7+t+nzuhud5sxy93+ivt+GedFBlRS0Itb0+86N7vWP2hkfbqaeZn79Tp/IenT1jMbc2eXe37/vILghL/xClyJSW/OZv297HXyHm373ETJ02Z+at/085T8mCl97flpHtvl/pc0kUkfe37K75f82Gn6pdwnMU76op9cUSf1Q4ni+qBs6ZTn8Okz53T7hYtS8fJy9f3Eeg6Tf4aR+jaa8fdI/TnWdfLvk3Lf5J+dfr6R6X0yfUz7+jJ/YzK7KaVP5vdJf9+MP8O45D4pfTI+dvr2S/snXRuXtmX2WMnX6X8/d4N9ZU+7Zfz5l/6M9NOX/IxL+hsZ+1z+93Q3JF1d0j/9tHHV98nQblqS/s/YnrbNunJL3+fPfkbyHVOm3TI+ZsbHMC3W/yn3TZLxsdP+nsm9rOfo6Aa5EmK1PaCIwooVk8v9GnQHFQ3P5fdRAqCDA2BsbKyKFy+ur7/+WnfffbfdKj399NNav369Fi1aZLekiomJsS7JzAoUGhqaOyvQ8tHS/Je10b3S3xdSOSn8ZWSeqjTt5kVxo9kouf1avFj6+7jn3eCeF+i+dpVwb7T8ApNnuF9cMXJdOKOL7v7LihW95H7tLkbL6l002H2/AKvZSH3hWleW5LZkaaeTb7kS3BvW2EhFy0fri7ofOcPPaxodI+sbiQNKyOXrf5nHTH1c87NT56b2TL2+tM24XLu5TuljllPyTftipMx338psftJt9//uEOiOgTrm735jyvA3lk9IkHm7cvmY465S52V8LOs6zV2NS+anuU6+nexKfdNK2578866mb7rrtH8jAOQh80Fs/sEjqux+L9XAeVKtqyvVygwB0L0lcmoAPHLkiKpWraqwsDB16NDBbpVef/11TZ06Vdu3b7dbUg0fPlyvvPKKPZUqV1ag7/9PWjVB04JK6u1yZe1GAHnBfHiyrq3/01+bfTlmz19G/okud4g39/O55H5pZZyXWd+r6XfJfex36yvdx7jS/OTf/mrvk/H6crcy7Wsvxz/rl7pEU2XWJ2N78q2UdvtG2sdMvZUks8dKuc7w/F9umaXeJ5O+dvOlP+vy/Y3U+yRfJ91K0yPp/5R+6ednfGwj+W/JrG/qn5pJP/tG2sfO+HP+7GckP0jG9rTL2Wq7eE4+4Qesod+fS176xQWTjx5X6+gYqffHUuM+dmv2EADdy9zpAXDZsmVq37693Sq99tpr+vTTT7Vt2za7JZUn7gF88ly4dXt86eB0e2TMvL+eO6cg90bLp0Yn+ZSokPqiu3BKPnsXK8LXRx+VKX3J/Z49c07BiYnyueaWpKOvMr5IzXW6tqSzCaW2pZln2iKPymfbdwr39dUb5cpc8vNePn1Wpc3Pa9BDCqpq/Qwfa0+ZeaSkvtbj2PdLN9/dlq6PxTfldlLf1NvuiaTbaR4/Zb67zeqTNOG+lf7vSuqbpi2l3X2/07ukZR/qjHv+sMoV0v2N5pPryGMnVN4M83V+Xj4Vr7Pak39W8mOmPF6a3yPt72ldu5dhkkzmJ0+nPFbSdbplktLn8vd137CvkudnfMwM/cxj279XZr+Hu0PS1SXz0/dL/llKebwr/d7JfdPf99LHtq9Tll0m9i6Rpna1Nj5/CQ1JFwJze+8DgMvIx9cgAdD9nujUAJidIeCMcnUFymYNYC+7BjBLdWcp9WpH3fcrno81gPn08wqCE/7Gwo7nEChY+fgaJAA6OAAa5iCQli1bWkcBJ2vQoIF69OiR/weBuGU8CtjUy4XGxsnsCA+NSzqy1xzpe7CIvzWddFRU8tPn4/7U5JthnltmR0ylHGmlrN0vu/L75xUEJ/yNhR3PIVCw8uk1SAB0eABMPg3MuHHjrGHgCRMmaOLEidq8ebNq1Khh98pcbq9AyecB7BY1053r7JU9jQT5yi/5yDsjqKp0+xtJty85Z5I970ovFPNCy879siu/f15BcMLfWNjxHAIFKx9egwRAhwdAw+z9e+utt6wTQTdq1Ejvv/++unTpYs+9sjxbgcxw8OqJ0pk9SdNVW0vB7pU/tK10cKUue2Z0s+s8O2dNz+79siu/f15BcMLfWNjxHAIFK49fgwRAAmCOsAIBAOB92H6787R9DQAAAIcgAAIAADgMARAAAMBhCIAAAAAOQwAEAABwGAIgAACAwxAAAQAAHIYACAAA4DAEQAAAAIfhm0BywJxBvHTp0jp48CDfBAIAgJcw3wQSGhqqc+fOWd8I4kQEwBw4dOiQtQIBAADvY3bgVKtWzZ5yFgJgDiQmJurIkSMqVaqUfHx87NacS/5kwp5FlkVaLIv0WB6pWBapWBbpsTxSpV0WZrsdGRmpkJAQ+fo6sxqOAOiBzErq9C+pTsaySMWySI/lkYplkYplkR7LIxXLIj0OAgEAAHAYAiAAAIDD+A13s2/Dg/j5+emGG26Qv7+/3eJcLItULIv0WB6pWBapWBbpsTxSsSxSUQMIAADgMAwBAwAAOAwBEAAAwGEIgAAAAA5DAAQAAHAYAmA+GDNmjGrVqqWiRYuqZcuWWrJkiT3n8r799ls1aNBAgYGB1vWsWbPsOUnMcTvm4G1zBvNixYpZRzRt3rzZnuvZsrIsJk6cqM6dO6tMmTLW5ZZbbtGqVavsuUkeeugh61tY0l7atWtnz/V8WVken3zyySV/q7lER0fbPZJkdX3zFFn5vc06f7llcdddd9k9vHfdWLx4sbp162a9vs3vPHv2bHtO5hYtWmQtM7PsateurXHjxtlzUnnjepHVZTFz5kzdeuutqlChgnWi3/bt22v+/Pn23CTmvTPtOmEulStXtud6tqwuj4ULF17yt5rLtm3b7B5J/myb44myuiwu935gLg0bNrR7ePe6kR0EwDz25Zdf6plnntE//vEP/f7771agueOOO3TgwAG7R3rLly/XvffeqwceeEAbNmywru+55x6tXLnS7iG99dZbeu+99zRq1CitXr3aWkHNm575WhtPltVlYd68+vfvr99++81aLtWrV9dtt92mw4cP2z2S3H777Tp69GjK5fvvv7fneLasLg/DbNTS/q3mYjboybLzmJ4gq7+32dCnXQabNm2yTu/Qt29fu0cSb1w3oqKi1LRpU+v1fTX27t2rO++801pmZtm9/PLLGjZsmLVRT+at60VWl4UJBea90DzPa9eu1Y033miFBPM3p2U2+mnXi40bN9pzPFtWl0ey7du3p/t769ata8+5um2OJ8rqsvjwww/TLQPzdXBly5a95D3DW9eNbDGngUHeadOmjWvQoEH2VJL69eu7XnzxRXsqPfcLz+XeaNlTSf7yl7+4+vXrZ91OTEx0uQOf64033rCmjejoaFdwcLDL/anfbvFMWV0WGcXHx7tKlSrlmjp1qt3icg0cONDVo0cPe8q7ZHV5TJkyxXqerySny7ig5PT3fv/996114/z583aLd68bycxb9KxZs+ypy3vhhResZZXWk08+6WrXrp095b3rRVpXsywup0GDBq5XXnnFnnK5/v3vf7vcwcGe8l5XszzcH56tfmfPnrVbLvVn2xxvkJ11w/T38fFx7du3z24pPOvG1WIPYB6KjY21PoWavVZpmelly5bZU+mZT2MZ+7tfjCn9zaf9Y8eOpetjdttff/31mT6mJ8jOssjowoULiouLsz61pWX2FFasWFHXXnutHn/8cZ04ccKe47myuzzcAUc1atRQtWrV1LVr13R7NnJjGReE3Pi9P/74Y7k3WCpRooTdksQb142syuw9Y82aNdbrxVvXi9zg/sBsjYxkfM/YuXOnNXRohsTNerNnzx57TuHUvHlzValSRTfffLM1opLWn21zCivznmHKisz7aVpOWjcIgHno1KlTSkhIUKVKleyWJGbahLjLMe1X6p98nZXH9ATZWRYZvfjii6patar1ok1mhrGmT5+uX3/9Ve+++641JH7TTTcpJibG7uGZsrM86tevb9UBzpkzR1988YU19NuxY0frDcvIjWVcEHL6e5u6UDME/Nhjj9ktSbx13cgqs4wut+zi4+OtZeut60VuMM+7GSo0Q5rJ2rZtq2nTplm1gabO2CyDDh066PTp03aPwsOEvgkTJljlAKZsol69elYINEPlyTJbfwrzumGGdn/44YdL3jOctG4YBMB8YApJ03K5XJe0pXU1/bP6mJ4iu7+3qXs0oce8iaWteTO1K6bwv1GjRlatj3lR79ixQ999953dw7NlZXmYAxjuv/9+q+7F1HB99dVX1p6tkSNH2j2SZHcZF7Ts/t7mk7x5/tu0aWO3JPH2dSMrLrfsjLTt2V2+3sq8X5iiflP/aPYCJzMfDHr37q3GjRtbHyaT14epU6da14WJCXxmz3eLFi2sA2LMgUDmNfHOO+/YPZI4bd0wH6RLly6tnj172i1JnLRuGATAPFS+fHmrMD3jJykzDJXxE1cyc0DHlfonH5GUlcf0BNlZFsnMm9Xrr7+un376SU2aNLFbL8984jW79JP3inmqnCyPZL6+vmrdunXK35obj1kQcvJ7m7KAGTNmXPJJ/nK8Zd3IqszeM8x3nZYrV85r14ucMKHv0UcftT4kpR0xuBxTNmA2+IVtvciM+SCZ9m/9s21OYWPC7eTJk62DXQICAuzWyyvs6wYBMA+ZlcucbmHBggV2SxIzbXYrX475lJaxvwk+yf1NXYJ5wabtY2p8zGkgMntMT5CdZWG8/fbbevXVV/Xjjz+qVatWdmvmzK56c3SX2dh7suwuj7TMG9n69etT/tbceMyCkJPf22zgzZCu2TP6Z7xl3ciqzN4zzOulSJEiXrteZJfZ82dO+fH555+nOy1QZsz6s3Xr1kK3XmTG1A2n/Vv/bJtT2Jht5a5du6wPCH+m0K8b7o0I8tCMGTNc7jdh18cff+zasmWL65lnnnG5P1WkHHnk/hSS7ki8sLAwl/vTunWUr3vFs67dn+RdK1assHu4rDZzNOjMmTNdGzdudPXv39/lXkFdERERdg/PlNVl8eabb7rcGy/XN9984zp69GjKJTIy0ppvrv/2t7+5li1b5tq7d691xJv7zcxVtWpVj18WRlaXx/Dhw13uIOzavXu3y/0m7nr44YetdWPlypV2jz9/TE+V1WWRrFOnTq57773XnkrlzeuG+d3N82su5i36vffes27v37/fmm+Wg1keyfbs2eMqXry469lnn7WWnVmGZlma100yb10vsros3KHPek2MHj063XvGuXPn7B4ua71YuHChtdzM+2rXrl2tI8g9fVkYWV0e5uh4c7Trjh07XJs2bbLmm/t9++23do+r2+Z4oqwui2TuD4uutm3b2lPpefO6kR0EwHxg3oxq1KhhhZkWLVq43J9A7Dku1/XXX2+driKtr7/+2lWvXj3rDducqiHti9Uwp4Ixh6tXrlzZFRgY6OrSpYsVBL1BVpaF6Wde2Bkv5m83Lly44LrttttcFSpUsJZV9erVrfsfOHDAmu8NsrI8zEbb/I2mr/mbzd9uAk5GV3pMT5bV18n27dut9eGnn36yW1J587qRfOqOjJfkv99cm+WRltloNW/e3Fp2NWvWdI0dO9aek8ob14usLgtz+0r9DfOBwXxgNutFSEiIq1evXq7Nmzfbcz1bVpeH+RBdp04dV9GiRV1lypSxPjB999139txUf7bN8UTZeZ2YDwLFihVzTZgwwW5Jz5vXjezwMf+5FxoAAAAcghpAAAAAhyEAAgAAOAwBEAAAwGEIgAAAAA5DAAQAAHAYAiAAAIDDEAABAAAchgAIAAA8yuLFi9WtWzeFhITIx8dHs2fPtudcneHDh1v3y3gpUaKE3QMEQAAA4FGioqLUtGlTjRo1ym7Jmueff15Hjx5Nd2nQoIH69u1r9wABEAAAeJQ77rhD//3vf9WrVy+7Jb3Y2Fi98MILqlq1qrVXr23btlq4cKE9VypZsqQqV66ccjl+/Li2bNmiRx991O4BAiAAAPAqDz/8sMLCwjRjxgz98ccf1p6922+/XTt37rR7pDdp0iRde+216ty5s90CAiAAAPAau3fv1hdffKGvv/7aCnR16tSxhnw7deqkKVOm2L1SxcTEaPr06ez9y4AACAAAvMa6devkcrmsPXpmqDf5smjRIiscZjRz5kxFRkbqwQcftFtgEAABAIDXSExMlJ+fn9auXav169enXLZu3aoPP/zQ7pXKDP927drVqgVEKgIgAADwGs2bN1dCQoJOnDiha665Jt0lY8jbu3evfvvtN4Z/L4MACAAAPMr58+dT9uwZJsiZ2wcOHLCGfgcMGGAN6ZrhXTNv9erVevPNN/X9999b/ZNNnjxZVapUsY4qRno+LjOQDgAA4CHMKV1uvPFGeyrVwIED9cknnyguLs46Tcy0adN0+PBhlStXTu3bt9crr7yixo0bW33NUHGNGjWsoPjaa69ZbUhFAAQAAHAYhoABAAAchgAIAADgMARAAAAAhyEAAgAAOAwBEAAAwGEIgAAAAA5DAAQAAHAYAiAAAIDDEAABAAAchgAIAADgMARAAAAAhyEAAgAAOAwBEAAAwFGk/w9TSv2lr6y8rQAAAABJRU5ErkJggg==\\\" width=\\\"640\\\">\"\n",
    "      ],\n",
    "      \"text/plain\": [\n",
    "       \"<IPython.core.display.HTML object>\"\n",
    "      ]\n",
    "     },\n",
    "     \"metadata\": {},\n",
    "     \"output_type\": \"display_data\"\n",
    "    },\n",
    "    {\n",
    "     \"data\": {\n",
    "      \"text/plain\": [\n",
    "       \"[<matplotlib.lines.Line2D at 0x1c0a3eed630>]\"\n",
    "      ]\n",
    "     },\n",
    "     \"execution_count\": 3,\n",
    "     \"metadata\": {},\n",
    "     \"output_type\": \"execute_result\"\n",
    "    }\n",
    "   ],\n",
    "   \"source\": [\n",
    "    \"%matplotlib notebook\\n\",\n",
    "    \"from time import time\\n\",\n",
    "    \"from random import random\\n\",\n",
    "    \"import matplotlib.pyplot as plt\\n\",\n",
    "    \"\\n\",\n",
    "    \"n = []\\n\",\n",
    "    \"t_sort = []\\n\",\n",
    "    \"t_reverse = []\\n\",\n",
    "    \"t_len = []\\n\",\n",
    "    \"for N in [2 ** k for k in range(15, 25)]:\\n\",\n",
    "    \"    n.append(N)\\n\",\n",
    "    \"    L = [random() for i in range(N)]\\n\",\n",
    "    \"    start_time = time()\\n\",\n",
    "    \"    L.sort()\\n\",\n",
    "    \"    end_time = time()\\n\",\n",
    "    \"    elapsed_time_sort = end_time - start_time\\n\",\n",
    "    \"    t_sort.append(elapsed_time_sort)\\n\",\n",
    "    \"    start_time = time()\\n\",\n",
    "    \"    L.reverse()\\n\",\n",
    "    \"    end_time = time()\\n\",\n",
    "    \"    elapsed_time_reverse = end_time - start_time\\n\",\n",
    "    \"    t_reverse.append(elapsed_time_reverse)\\n\",\n",
    "    \"    start_time = time()\\n\",\n",
    "    \"    len(L)\\n\",\n",
    "    \"    end_time = time()\\n\",\n",
    "    \"    elapsed_time_len = end_time - start_time\\n\",\n",
    "    \"    t_len.append(elapsed_time_reverse)\\n\",\n",
    "    \"    print(N, elapsed_time_sort, elapsed_time_reverse, elapsed_time_len)\\n\",\n",
    "    \"    \\n\",\n",
    "    \"plt.plot(n, t_sort, 'x-')\\n\",\n",
    "    \"plt.plot(n, t_reverse, 'o-')\\n\",\n",
    "    \"plt.plot(n, t_reverse, '.-')\"\n",
    "   ]\n",
    "  },\n",
    "  {\n",
    "   \"cell_type\": \"code\",\n",
    "   \"execution_count\": 4,\n",
    "   \"metadata\": {},\n",
    "   \"outputs\": [],\n",
    "   \"source\": [\n",
    "    \"# Problem 2\"\n",
    "   ]\n",
    "  },\n",
    "  {\n",
    "   \"cell_type\": \"code\",\n",
    "   \"execution_count\": 5,\n",
    "   \"metadata\": {},\n",
    "   \"outputs\": [],\n",
    "   \"source\": [\n",
    "    \"# 2^n > n^2 + 10 > 4n log n + 2n > 2^(log n) > log (n^10000) > 2^10\"\n",
    "   ]\n",
    "  },\n",
    "  {\n",
    "   \"cell_type\": \"code\",\n",
    "   \"execution_count\": 6,\n",
    "   \"metadata\": {},\n",
    "   \"outputs\": [],\n",
    "   \"source\": [\n",
    "    \"# Problem 3\"\n",
    "   ]\n",
    "  },\n",
    "  {\n",
    "   \"cell_type\": \"code\",\n",
    "   \"execution_count\": 7,\n",
    "   \"metadata\": {},\n",
    "   \"outputs\": [],\n",
    "   \"source\": [\n",
    "    \"# 1^2 + 2^2 + ... + n^2 = O(n^3) \"\n",
    "   ]\n",
    "  },\n",
    "  {\n",
    "   \"cell_type\": \"code\",\n",
    "   \"execution_count\": 8,\n",
    "   \"metadata\": {},\n",
    "   \"outputs\": [],\n",
    "   \"source\": [\n",
    "    \"# Problem 4\"\n",
    "   ]\n",
    "  },\n",
    "  {\n",
    "   \"cell_type\": \"code\",\n",
    "   \"execution_count\": 9,\n",
    "   \"metadata\": {},\n",
    "   \"outputs\": [],\n",
    "   \"source\": [\n",
    "    \"# Outer loop : O(log n), Inner loop : O(n) => O(n log n)\"\n",
    "   ]\n",
    "  }\n",
    " ],\n",
    " \"metadata\": {\n",
    "  \"kernelspec\": {\n",
    "   \"display_name\": \"Python 3\",\n",
    "   \"language\": \"python\",\n",
    "   \"name\": \"python3\"\n",
    "  },\n",
    "  \"language_info\": {\n",
    "   \"codemirror_mode\": {\n",
    "    \"name\": \"ipython\",\n",
    "    \"version\": 3\n",
    "   },\n",
    "   \"file_extension\": \".py\",\n",
    "   \"mimetype\": \"text/x-python\",\n",
    "   \"name\": \"python\",\n",
    "   \"nbconvert_exporter\": \"python\",\n",
    "   \"pygments_lexer\": \"ipython3\",\n",
    "   \"version\": \"3.7.3\"\n",
    "  }\n",
    " },\n",
    " \"nbformat\": 4,\n",
    " \"nbformat_minor\": 2\n",
    "}\n"
   ]
  },
  {
   "cell_type": "code",
   "execution_count": 6,
   "metadata": {},
   "outputs": [],
   "source": [
    "x = 2 #int\n",
    "y_float = 3.14 # float\n",
    "z = 1 + 2j # complex\n",
    "last_name = 'Kim' # str\n",
    "is_good = False # bool"
   ]
  },
  {
   "cell_type": "code",
   "execution_count": 7,
   "metadata": {},
   "outputs": [
    {
     "name": "stdout",
     "output_type": "stream",
     "text": [
      "2\n"
     ]
    }
   ],
   "source": [
    "print(x)"
   ]
  },
  {
   "cell_type": "code",
   "execution_count": 8,
   "metadata": {},
   "outputs": [
    {
     "name": "stdout",
     "output_type": "stream",
     "text": [
      "3.14\n"
     ]
    }
   ],
   "source": [
    "print(y_float)"
   ]
  },
  {
   "cell_type": "code",
   "execution_count": 9,
   "metadata": {},
   "outputs": [
    {
     "name": "stdout",
     "output_type": "stream",
     "text": [
      "2 3.14\n"
     ]
    }
   ],
   "source": [
    "print(x, y_float)"
   ]
  },
  {
   "cell_type": "code",
   "execution_count": 10,
   "metadata": {},
   "outputs": [
    {
     "name": "stdout",
     "output_type": "stream",
     "text": [
      "Kim False\n"
     ]
    }
   ],
   "source": [
    "print(last_name, is_good)"
   ]
  },
  {
   "cell_type": "code",
   "execution_count": 11,
   "metadata": {},
   "outputs": [
    {
     "data": {
      "text/plain": [
       "int"
      ]
     },
     "execution_count": 11,
     "metadata": {},
     "output_type": "execute_result"
    }
   ],
   "source": [
    "type(x)"
   ]
  },
  {
   "cell_type": "code",
   "execution_count": 12,
   "metadata": {},
   "outputs": [
    {
     "data": {
      "text/plain": [
       "str"
      ]
     },
     "execution_count": 12,
     "metadata": {},
     "output_type": "execute_result"
    }
   ],
   "source": [
    "type(last_name)"
   ]
  },
  {
   "cell_type": "code",
   "execution_count": 13,
   "metadata": {},
   "outputs": [],
   "source": [
    "# Variables are case sensitive"
   ]
  },
  {
   "cell_type": "code",
   "execution_count": 14,
   "metadata": {},
   "outputs": [],
   "source": [
    "Last_name = 'Park'"
   ]
  },
  {
   "cell_type": "code",
   "execution_count": 15,
   "metadata": {},
   "outputs": [
    {
     "name": "stdout",
     "output_type": "stream",
     "text": [
      "Kim Park\n"
     ]
    }
   ],
   "source": [
    "print(last_name, Last_name)"
   ]
  },
  {
   "cell_type": "code",
   "execution_count": 16,
   "metadata": {},
   "outputs": [],
   "source": [
    "# Variables must start with a letter or an underscore (_)"
   ]
  },
  {
   "cell_type": "code",
   "execution_count": 17,
   "metadata": {},
   "outputs": [],
   "source": [
    "_var = 3"
   ]
  },
  {
   "cell_type": "code",
   "execution_count": 18,
   "metadata": {},
   "outputs": [
    {
     "ename": "SyntaxError",
     "evalue": "invalid syntax (<ipython-input-18-051e534e26a5>, line 1)",
     "output_type": "error",
     "traceback": [
      "\u001b[0;36m  File \u001b[0;32m\"<ipython-input-18-051e534e26a5>\"\u001b[0;36m, line \u001b[0;32m1\u001b[0m\n\u001b[0;31m    var~ = 7\u001b[0m\n\u001b[0m       ^\u001b[0m\n\u001b[0;31mSyntaxError\u001b[0m\u001b[0;31m:\u001b[0m invalid syntax\n"
     ]
    }
   ],
   "source": [
    "var~ = 7"
   ]
  },
  {
   "cell_type": "code",
   "execution_count": 19,
   "metadata": {},
   "outputs": [],
   "source": [
    "var8 = 8"
   ]
  },
  {
   "cell_type": "code",
   "execution_count": 20,
   "metadata": {},
   "outputs": [
    {
     "ename": "SyntaxError",
     "evalue": "invalid syntax (<ipython-input-20-150faac8b41e>, line 1)",
     "output_type": "error",
     "traceback": [
      "\u001b[0;36m  File \u001b[0;32m\"<ipython-input-20-150faac8b41e>\"\u001b[0;36m, line \u001b[0;32m1\u001b[0m\n\u001b[0;31m    8var = 8\u001b[0m\n\u001b[0m       ^\u001b[0m\n\u001b[0;31mSyntaxError\u001b[0m\u001b[0;31m:\u001b[0m invalid syntax\n"
     ]
    }
   ],
   "source": [
    "8var = 8"
   ]
  },
  {
   "cell_type": "code",
   "execution_count": 21,
   "metadata": {},
   "outputs": [],
   "source": [
    "# We cannot use reserved words as a variable"
   ]
  },
  {
   "cell_type": "code",
   "execution_count": 22,
   "metadata": {},
   "outputs": [
    {
     "ename": "SyntaxError",
     "evalue": "can't assign to keyword (<ipython-input-22-a3ee883b1482>, line 1)",
     "output_type": "error",
     "traceback": [
      "\u001b[0;36m  File \u001b[0;32m\"<ipython-input-22-a3ee883b1482>\"\u001b[0;36m, line \u001b[0;32m1\u001b[0m\n\u001b[0;31m    False = 3\u001b[0m\n\u001b[0m             ^\u001b[0m\n\u001b[0;31mSyntaxError\u001b[0m\u001b[0;31m:\u001b[0m can't assign to keyword\n"
     ]
    }
   ],
   "source": [
    "False = 3"
   ]
  },
  {
   "cell_type": "code",
   "execution_count": 23,
   "metadata": {},
   "outputs": [
    {
     "name": "stdout",
     "output_type": "stream",
     "text": [
      "2\n"
     ]
    }
   ],
   "source": [
    "print(x)"
   ]
  },
  {
   "cell_type": "code",
   "execution_count": 24,
   "metadata": {},
   "outputs": [],
   "source": [
    "x_float = float(x)"
   ]
  },
  {
   "cell_type": "code",
   "execution_count": 25,
   "metadata": {},
   "outputs": [
    {
     "name": "stdout",
     "output_type": "stream",
     "text": [
      "2.0\n"
     ]
    }
   ],
   "source": [
    "print(x_float)"
   ]
  },
  {
   "cell_type": "code",
   "execution_count": 26,
   "metadata": {},
   "outputs": [],
   "source": [
    "x_str = '2'"
   ]
  },
  {
   "cell_type": "code",
   "execution_count": 27,
   "metadata": {},
   "outputs": [],
   "source": [
    "x_int = int(x_str)"
   ]
  },
  {
   "cell_type": "code",
   "execution_count": 28,
   "metadata": {},
   "outputs": [
    {
     "name": "stdout",
     "output_type": "stream",
     "text": [
      "2\n"
     ]
    }
   ],
   "source": [
    "print(x_int)"
   ]
  },
  {
   "cell_type": "code",
   "execution_count": 29,
   "metadata": {},
   "outputs": [],
   "source": [
    "x_str = '1z3'"
   ]
  },
  {
   "cell_type": "code",
   "execution_count": 30,
   "metadata": {},
   "outputs": [
    {
     "ename": "ValueError",
     "evalue": "invalid literal for int() with base 10: '1z3'",
     "output_type": "error",
     "traceback": [
      "\u001b[0;31m---------------------------------------------------------------------------\u001b[0m",
      "\u001b[0;31mValueError\u001b[0m                                Traceback (most recent call last)",
      "\u001b[0;32m<ipython-input-30-79a1570e0c9c>\u001b[0m in \u001b[0;36m<module>\u001b[0;34m\u001b[0m\n\u001b[0;32m----> 1\u001b[0;31m \u001b[0mx_int\u001b[0m \u001b[0;34m=\u001b[0m \u001b[0mint\u001b[0m\u001b[0;34m(\u001b[0m\u001b[0mx_str\u001b[0m\u001b[0;34m)\u001b[0m\u001b[0;34m\u001b[0m\u001b[0;34m\u001b[0m\u001b[0m\n\u001b[0m",
      "\u001b[0;31mValueError\u001b[0m: invalid literal for int() with base 10: '1z3'"
     ]
    }
   ],
   "source": [
    "x_int = int(x_str)"
   ]
  },
  {
   "cell_type": "code",
   "execution_count": 31,
   "metadata": {},
   "outputs": [],
   "source": [
    "# Strings are surrounded by either single or double quotation marks"
   ]
  },
  {
   "cell_type": "code",
   "execution_count": 32,
   "metadata": {},
   "outputs": [],
   "source": [
    "city = 'Seoul'"
   ]
  },
  {
   "cell_type": "code",
   "execution_count": 33,
   "metadata": {},
   "outputs": [],
   "source": [
    "country = \"Korea\""
   ]
  },
  {
   "cell_type": "code",
   "execution_count": 34,
   "metadata": {},
   "outputs": [
    {
     "name": "stdout",
     "output_type": "stream",
     "text": [
      "<class 'str'> Seoul <class 'str'> Korea\n"
     ]
    }
   ],
   "source": [
    "print(type(city), city, type(country), country)"
   ]
  },
  {
   "cell_type": "code",
   "execution_count": 35,
   "metadata": {},
   "outputs": [],
   "source": [
    "# Concanate"
   ]
  },
  {
   "cell_type": "code",
   "execution_count": 36,
   "metadata": {},
   "outputs": [
    {
     "name": "stdout",
     "output_type": "stream",
     "text": [
      "Seoul is the capital of Korea\n"
     ]
    }
   ],
   "source": [
    "print(city + ' is the capital of ' + country)"
   ]
  },
  {
   "cell_type": "code",
   "execution_count": 37,
   "metadata": {},
   "outputs": [],
   "source": [
    "city = 'Tokyo'"
   ]
  },
  {
   "cell_type": "code",
   "execution_count": 38,
   "metadata": {},
   "outputs": [],
   "source": [
    "country = 'Japan'"
   ]
  },
  {
   "cell_type": "code",
   "execution_count": 39,
   "metadata": {},
   "outputs": [
    {
     "name": "stdout",
     "output_type": "stream",
     "text": [
      "Tokyo is the capital of Japan\n"
     ]
    }
   ],
   "source": [
    "print(city + ' is the capital of ' + country)"
   ]
  },
  {
   "cell_type": "code",
   "execution_count": 40,
   "metadata": {},
   "outputs": [],
   "source": [
    "s = 'hello world'"
   ]
  },
  {
   "cell_type": "code",
   "execution_count": 41,
   "metadata": {},
   "outputs": [],
   "source": [
    "# capitalize"
   ]
  },
  {
   "cell_type": "code",
   "execution_count": 42,
   "metadata": {},
   "outputs": [
    {
     "name": "stdout",
     "output_type": "stream",
     "text": [
      "Hello world\n"
     ]
    }
   ],
   "source": [
    "print(s.capitalize())"
   ]
  },
  {
   "cell_type": "code",
   "execution_count": 43,
   "metadata": {},
   "outputs": [],
   "source": [
    "# make all uppercase"
   ]
  },
  {
   "cell_type": "code",
   "execution_count": 44,
   "metadata": {},
   "outputs": [
    {
     "name": "stdout",
     "output_type": "stream",
     "text": [
      "HELLO WORLD\n"
     ]
    }
   ],
   "source": [
    "print(s.upper())"
   ]
  },
  {
   "cell_type": "code",
   "execution_count": 45,
   "metadata": {},
   "outputs": [],
   "source": [
    "# get length"
   ]
  },
  {
   "cell_type": "code",
   "execution_count": 46,
   "metadata": {},
   "outputs": [
    {
     "name": "stdout",
     "output_type": "stream",
     "text": [
      "11\n"
     ]
    }
   ],
   "source": [
    "print(len(s))"
   ]
  },
  {
   "cell_type": "code",
   "execution_count": 47,
   "metadata": {},
   "outputs": [],
   "source": [
    "# replace"
   ]
  },
  {
   "cell_type": "code",
   "execution_count": 48,
   "metadata": {},
   "outputs": [
    {
     "name": "stdout",
     "output_type": "stream",
     "text": [
      "hello everyone\n"
     ]
    }
   ],
   "source": [
    "print(s.replace('world', 'everyone'))"
   ]
  },
  {
   "cell_type": "code",
   "execution_count": 49,
   "metadata": {},
   "outputs": [],
   "source": [
    "# count"
   ]
  },
  {
   "cell_type": "code",
   "execution_count": 50,
   "metadata": {},
   "outputs": [
    {
     "name": "stdout",
     "output_type": "stream",
     "text": [
      "3\n"
     ]
    }
   ],
   "source": [
    "print(s.count('l'))"
   ]
  },
  {
   "cell_type": "code",
   "execution_count": 51,
   "metadata": {},
   "outputs": [],
   "source": [
    "# find position"
   ]
  },
  {
   "cell_type": "code",
   "execution_count": 52,
   "metadata": {},
   "outputs": [
    {
     "name": "stdout",
     "output_type": "stream",
     "text": [
      "1\n"
     ]
    }
   ],
   "source": [
    "print(s.find('e'))"
   ]
  },
  {
   "cell_type": "code",
   "execution_count": 53,
   "metadata": {},
   "outputs": [],
   "source": [
    "# A list is a collection which is ordered and changeable"
   ]
  },
  {
   "cell_type": "code",
   "execution_count": 54,
   "metadata": {},
   "outputs": [],
   "source": [
    "numbers = [2,3,5,7,11]"
   ]
  },
  {
   "cell_type": "code",
   "execution_count": 55,
   "metadata": {},
   "outputs": [
    {
     "data": {
      "text/plain": [
       "list"
      ]
     },
     "execution_count": 55,
     "metadata": {},
     "output_type": "execute_result"
    }
   ],
   "source": [
    "type(numbers)"
   ]
  },
  {
   "cell_type": "code",
   "execution_count": 58,
   "metadata": {},
   "outputs": [],
   "source": [
    "courses = ['calculus', 'linear algebra', 'differential equation']"
   ]
  },
  {
   "cell_type": "code",
   "execution_count": 59,
   "metadata": {},
   "outputs": [
    {
     "data": {
      "text/plain": [
       "list"
      ]
     },
     "execution_count": 59,
     "metadata": {},
     "output_type": "execute_result"
    }
   ],
   "source": [
    "type(courses)"
   ]
  },
  {
   "cell_type": "code",
   "execution_count": 60,
   "metadata": {},
   "outputs": [],
   "source": [
    "cities = list(('Seoul', 'New York', 'Paris', 'Moscow'))"
   ]
  },
  {
   "cell_type": "code",
   "execution_count": 61,
   "metadata": {},
   "outputs": [
    {
     "data": {
      "text/plain": [
       "list"
      ]
     },
     "execution_count": 61,
     "metadata": {},
     "output_type": "execute_result"
    }
   ],
   "source": [
    "type(cities)"
   ]
  },
  {
   "cell_type": "code",
   "execution_count": 62,
   "metadata": {},
   "outputs": [
    {
     "name": "stdout",
     "output_type": "stream",
     "text": [
      "[2, 3, 5, 7, 11] ['calculus', 'linear algebra', 'differential equation'] ['Seoul', 'New York', 'Paris', 'Moscow']\n"
     ]
    }
   ],
   "source": [
    "print(numbers, courses, cities)"
   ]
  },
  {
   "cell_type": "code",
   "execution_count": 63,
   "metadata": {},
   "outputs": [],
   "source": [
    "mixed = [1, 'abc', 3.4]"
   ]
  },
  {
   "cell_type": "code",
   "execution_count": 64,
   "metadata": {},
   "outputs": [
    {
     "data": {
      "text/plain": [
       "list"
      ]
     },
     "execution_count": 64,
     "metadata": {},
     "output_type": "execute_result"
    }
   ],
   "source": [
    "type(mixed)"
   ]
  },
  {
   "cell_type": "code",
   "execution_count": 65,
   "metadata": {},
   "outputs": [],
   "source": [
    "# Get a value"
   ]
  },
  {
   "cell_type": "code",
   "execution_count": 66,
   "metadata": {},
   "outputs": [
    {
     "name": "stdout",
     "output_type": "stream",
     "text": [
      "linear algebra\n"
     ]
    }
   ],
   "source": [
    "print(courses[1])"
   ]
  },
  {
   "cell_type": "code",
   "execution_count": 67,
   "metadata": {},
   "outputs": [],
   "source": [
    "# Get length"
   ]
  },
  {
   "cell_type": "code",
   "execution_count": 68,
   "metadata": {},
   "outputs": [
    {
     "name": "stdout",
     "output_type": "stream",
     "text": [
      "5\n"
     ]
    }
   ],
   "source": [
    "print(len(numbers))"
   ]
  },
  {
   "cell_type": "code",
   "execution_count": 69,
   "metadata": {},
   "outputs": [],
   "source": [
    "# append"
   ]
  },
  {
   "cell_type": "code",
   "execution_count": 70,
   "metadata": {},
   "outputs": [],
   "source": [
    "courses.append('information architecture')"
   ]
  },
  {
   "cell_type": "code",
   "execution_count": 71,
   "metadata": {},
   "outputs": [
    {
     "name": "stdout",
     "output_type": "stream",
     "text": [
      "['calculus', 'linear algebra', 'differential equation', 'information architecture']\n"
     ]
    }
   ],
   "source": [
    "print(courses)"
   ]
  },
  {
   "cell_type": "code",
   "execution_count": 72,
   "metadata": {},
   "outputs": [],
   "source": [
    "# remove from list"
   ]
  },
  {
   "cell_type": "code",
   "execution_count": 73,
   "metadata": {},
   "outputs": [],
   "source": [
    "courses.remove('calculus')"
   ]
  },
  {
   "cell_type": "code",
   "execution_count": 74,
   "metadata": {},
   "outputs": [
    {
     "name": "stdout",
     "output_type": "stream",
     "text": [
      "['linear algebra', 'differential equation', 'information architecture']\n"
     ]
    }
   ],
   "source": [
    "print(courses)"
   ]
  },
  {
   "cell_type": "code",
   "execution_count": 75,
   "metadata": {},
   "outputs": [
    {
     "ename": "ValueError",
     "evalue": "list.remove(x): x not in list",
     "output_type": "error",
     "traceback": [
      "\u001b[0;31m---------------------------------------------------------------------------\u001b[0m",
      "\u001b[0;31mValueError\u001b[0m                                Traceback (most recent call last)",
      "\u001b[0;32m<ipython-input-75-478d607f5e4e>\u001b[0m in \u001b[0;36m<module>\u001b[0;34m\u001b[0m\n\u001b[0;32m----> 1\u001b[0;31m \u001b[0mcourses\u001b[0m\u001b[0;34m.\u001b[0m\u001b[0mremove\u001b[0m\u001b[0;34m(\u001b[0m\u001b[0;34m'english'\u001b[0m\u001b[0;34m)\u001b[0m\u001b[0;34m\u001b[0m\u001b[0;34m\u001b[0m\u001b[0m\n\u001b[0m",
      "\u001b[0;31mValueError\u001b[0m: list.remove(x): x not in list"
     ]
    }
   ],
   "source": [
    "courses.remove('english')"
   ]
  },
  {
   "cell_type": "code",
   "execution_count": 76,
   "metadata": {},
   "outputs": [],
   "source": [
    "# change value"
   ]
  },
  {
   "cell_type": "code",
   "execution_count": 77,
   "metadata": {},
   "outputs": [],
   "source": [
    "numbers[0] = 1"
   ]
  },
  {
   "cell_type": "code",
   "execution_count": 78,
   "metadata": {},
   "outputs": [
    {
     "name": "stdout",
     "output_type": "stream",
     "text": [
      "[1, 3, 5, 7, 11]\n"
     ]
    }
   ],
   "source": [
    "print(numbers)"
   ]
  },
  {
   "cell_type": "code",
   "execution_count": 79,
   "metadata": {},
   "outputs": [],
   "source": [
    "# A tuple is a collection which is ordered and unchangeable"
   ]
  },
  {
   "cell_type": "code",
   "execution_count": 80,
   "metadata": {},
   "outputs": [],
   "source": [
    "numbers_tuple = (2,3,5,7,11)"
   ]
  },
  {
   "cell_type": "code",
   "execution_count": 81,
   "metadata": {},
   "outputs": [
    {
     "data": {
      "text/plain": [
       "tuple"
      ]
     },
     "execution_count": 81,
     "metadata": {},
     "output_type": "execute_result"
    }
   ],
   "source": [
    "type(numbers_tuple)"
   ]
  },
  {
   "cell_type": "code",
   "execution_count": 82,
   "metadata": {},
   "outputs": [],
   "source": [
    "number = (1)"
   ]
  },
  {
   "cell_type": "code",
   "execution_count": 83,
   "metadata": {},
   "outputs": [
    {
     "data": {
      "text/plain": [
       "int"
      ]
     },
     "execution_count": 83,
     "metadata": {},
     "output_type": "execute_result"
    }
   ],
   "source": [
    "type(number)"
   ]
  },
  {
   "cell_type": "code",
   "execution_count": 84,
   "metadata": {},
   "outputs": [],
   "source": [
    "number = (1,)"
   ]
  },
  {
   "cell_type": "code",
   "execution_count": 85,
   "metadata": {},
   "outputs": [
    {
     "data": {
      "text/plain": [
       "tuple"
      ]
     },
     "execution_count": 85,
     "metadata": {},
     "output_type": "execute_result"
    }
   ],
   "source": [
    "type(number)"
   ]
  },
  {
   "cell_type": "code",
   "execution_count": 86,
   "metadata": {},
   "outputs": [],
   "source": [
    "# cannot change values"
   ]
  },
  {
   "cell_type": "code",
   "execution_count": 87,
   "metadata": {},
   "outputs": [
    {
     "ename": "TypeError",
     "evalue": "'tuple' object does not support item assignment",
     "output_type": "error",
     "traceback": [
      "\u001b[0;31m---------------------------------------------------------------------------\u001b[0m",
      "\u001b[0;31mTypeError\u001b[0m                                 Traceback (most recent call last)",
      "\u001b[0;32m<ipython-input-87-73925f14fc67>\u001b[0m in \u001b[0;36m<module>\u001b[0;34m\u001b[0m\n\u001b[0;32m----> 1\u001b[0;31m \u001b[0mnumbers_tuple\u001b[0m\u001b[0;34m[\u001b[0m\u001b[0;36m0\u001b[0m\u001b[0;34m]\u001b[0m \u001b[0;34m=\u001b[0m \u001b[0;36m1\u001b[0m\u001b[0;34m\u001b[0m\u001b[0;34m\u001b[0m\u001b[0m\n\u001b[0m",
      "\u001b[0;31mTypeError\u001b[0m: 'tuple' object does not support item assignment"
     ]
    }
   ],
   "source": [
    "numbers_tuple[0] = 1"
   ]
  },
  {
   "cell_type": "code",
   "execution_count": 88,
   "metadata": {},
   "outputs": [
    {
     "ename": "AttributeError",
     "evalue": "'tuple' object has no attribute 'append'",
     "output_type": "error",
     "traceback": [
      "\u001b[0;31m---------------------------------------------------------------------------\u001b[0m",
      "\u001b[0;31mAttributeError\u001b[0m                            Traceback (most recent call last)",
      "\u001b[0;32m<ipython-input-88-79b724e1dac4>\u001b[0m in \u001b[0;36m<module>\u001b[0;34m\u001b[0m\n\u001b[0;32m----> 1\u001b[0;31m \u001b[0mnumbers_tuple\u001b[0m\u001b[0;34m.\u001b[0m\u001b[0mappend\u001b[0m\u001b[0;34m(\u001b[0m\u001b[0;36m13\u001b[0m\u001b[0;34m)\u001b[0m\u001b[0;34m\u001b[0m\u001b[0;34m\u001b[0m\u001b[0m\n\u001b[0m",
      "\u001b[0;31mAttributeError\u001b[0m: 'tuple' object has no attribute 'append'"
     ]
    }
   ],
   "source": [
    "numbers_tuple.append(13)"
   ]
  },
  {
   "cell_type": "code",
   "execution_count": 89,
   "metadata": {},
   "outputs": [
    {
     "ename": "AttributeError",
     "evalue": "'tuple' object has no attribute 'remove'",
     "output_type": "error",
     "traceback": [
      "\u001b[0;31m---------------------------------------------------------------------------\u001b[0m",
      "\u001b[0;31mAttributeError\u001b[0m                            Traceback (most recent call last)",
      "\u001b[0;32m<ipython-input-89-82a10fb0053b>\u001b[0m in \u001b[0;36m<module>\u001b[0;34m\u001b[0m\n\u001b[0;32m----> 1\u001b[0;31m \u001b[0mnumbers_tuple\u001b[0m\u001b[0;34m.\u001b[0m\u001b[0mremove\u001b[0m\u001b[0;34m(\u001b[0m\u001b[0;36m3\u001b[0m\u001b[0;34m)\u001b[0m\u001b[0;34m\u001b[0m\u001b[0;34m\u001b[0m\u001b[0m\n\u001b[0m",
      "\u001b[0;31mAttributeError\u001b[0m: 'tuple' object has no attribute 'remove'"
     ]
    }
   ],
   "source": [
    "numbers_tuple.remove(3)"
   ]
  },
  {
   "cell_type": "code",
   "execution_count": 90,
   "metadata": {},
   "outputs": [
    {
     "name": "stdout",
     "output_type": "stream",
     "text": [
      "5\n"
     ]
    }
   ],
   "source": [
    "print(len(numbers_tuple))"
   ]
  },
  {
   "cell_type": "code",
   "execution_count": 91,
   "metadata": {},
   "outputs": [],
   "source": [
    "# A set is a collection which is unordered and unindexed"
   ]
  },
  {
   "cell_type": "code",
   "execution_count": 92,
   "metadata": {},
   "outputs": [],
   "source": [
    "fruits_set = {'Apples', 'Oranges', 'Mango'}"
   ]
  },
  {
   "cell_type": "code",
   "execution_count": 93,
   "metadata": {},
   "outputs": [
    {
     "data": {
      "text/plain": [
       "set"
      ]
     },
     "execution_count": 93,
     "metadata": {},
     "output_type": "execute_result"
    }
   ],
   "source": [
    "type(fruits_set)"
   ]
  },
  {
   "cell_type": "code",
   "execution_count": 94,
   "metadata": {},
   "outputs": [
    {
     "name": "stdout",
     "output_type": "stream",
     "text": [
      "{'Apples', 'Mango', 'Oranges'}\n"
     ]
    }
   ],
   "source": [
    "print(fruits_set)"
   ]
  },
  {
   "cell_type": "code",
   "execution_count": 95,
   "metadata": {},
   "outputs": [],
   "source": [
    "fruits_set.add('Grape')"
   ]
  },
  {
   "cell_type": "code",
   "execution_count": 97,
   "metadata": {},
   "outputs": [
    {
     "name": "stdout",
     "output_type": "stream",
     "text": [
      "{'Apples', 'Mango', 'Oranges', 'Grape'}\n"
     ]
    }
   ],
   "source": [
    "print(fruits_set)"
   ]
  },
  {
   "cell_type": "code",
   "execution_count": 98,
   "metadata": {},
   "outputs": [],
   "source": [
    "fruits_set.remove('Apples')"
   ]
  },
  {
   "cell_type": "code",
   "execution_count": 99,
   "metadata": {},
   "outputs": [
    {
     "name": "stdout",
     "output_type": "stream",
     "text": [
      "{'Mango', 'Oranges', 'Grape'}\n"
     ]
    }
   ],
   "source": [
    "print(fruits_set)"
   ]
  },
  {
   "cell_type": "code",
   "execution_count": 100,
   "metadata": {},
   "outputs": [
    {
     "name": "stdout",
     "output_type": "stream",
     "text": [
      "3\n"
     ]
    }
   ],
   "source": [
    "print(len(fruits_set))"
   ]
  },
  {
   "cell_type": "code",
   "execution_count": 101,
   "metadata": {},
   "outputs": [],
   "source": [
    "# duplicate members"
   ]
  },
  {
   "cell_type": "code",
   "execution_count": 102,
   "metadata": {},
   "outputs": [],
   "source": [
    "numbers_list = [1,2,3,4,5,1]"
   ]
  },
  {
   "cell_type": "code",
   "execution_count": 103,
   "metadata": {},
   "outputs": [],
   "source": [
    "numbers_tuple = (1,2,3,4,5,1)"
   ]
  },
  {
   "cell_type": "code",
   "execution_count": 104,
   "metadata": {},
   "outputs": [],
   "source": [
    "numbers_set = {1,2,3,4,5,1}"
   ]
  },
  {
   "cell_type": "code",
   "execution_count": 105,
   "metadata": {},
   "outputs": [
    {
     "name": "stdout",
     "output_type": "stream",
     "text": [
      "[1, 2, 3, 4, 5, 1] (1, 2, 3, 4, 5, 1) {1, 2, 3, 4, 5}\n"
     ]
    }
   ],
   "source": [
    "print(numbers_list, numbers_tuple, numbers_set)"
   ]
  },
  {
   "cell_type": "code",
   "execution_count": 106,
   "metadata": {},
   "outputs": [],
   "source": [
    "numbers_list.append(1)"
   ]
  },
  {
   "cell_type": "code",
   "execution_count": 107,
   "metadata": {},
   "outputs": [],
   "source": [
    "numbers_set.add(1)"
   ]
  },
  {
   "cell_type": "code",
   "execution_count": 108,
   "metadata": {},
   "outputs": [
    {
     "name": "stdout",
     "output_type": "stream",
     "text": [
      "[1, 2, 3, 4, 5, 1, 1]\n"
     ]
    }
   ],
   "source": [
    "print(numbers_list)"
   ]
  },
  {
   "cell_type": "code",
   "execution_count": 109,
   "metadata": {},
   "outputs": [
    {
     "name": "stdout",
     "output_type": "stream",
     "text": [
      "{1, 2, 3, 4, 5}\n"
     ]
    }
   ],
   "source": [
    "print(numbers_set)"
   ]
  },
  {
   "cell_type": "code",
   "execution_count": 110,
   "metadata": {},
   "outputs": [],
   "source": [
    "# A dict is a collection which is unordered, changeable and indexed"
   ]
  },
  {
   "cell_type": "code",
   "execution_count": 111,
   "metadata": {},
   "outputs": [],
   "source": [
    "# create a dict"
   ]
  },
  {
   "cell_type": "code",
   "execution_count": 112,
   "metadata": {},
   "outputs": [],
   "source": [
    "area_code = {'Seoul':'02', 'Busan':'051', 'Daejon':'042', 'Ulsan':'052'}"
   ]
  },
  {
   "cell_type": "code",
   "execution_count": 113,
   "metadata": {},
   "outputs": [
    {
     "data": {
      "text/plain": [
       "dict"
      ]
     },
     "execution_count": 113,
     "metadata": {},
     "output_type": "execute_result"
    }
   ],
   "source": [
    "type(area_code)"
   ]
  },
  {
   "cell_type": "code",
   "execution_count": 114,
   "metadata": {},
   "outputs": [
    {
     "name": "stdout",
     "output_type": "stream",
     "text": [
      "{'Seoul': '02', 'Busan': '051', 'Daejon': '042', 'Ulsan': '052'}\n"
     ]
    }
   ],
   "source": [
    "print(area_code)"
   ]
  },
  {
   "cell_type": "code",
   "execution_count": 115,
   "metadata": {},
   "outputs": [
    {
     "name": "stdout",
     "output_type": "stream",
     "text": [
      "02\n"
     ]
    }
   ],
   "source": [
    "print(area_code['Seoul'])"
   ]
  },
  {
   "cell_type": "code",
   "execution_count": 116,
   "metadata": {},
   "outputs": [],
   "source": [
    "area_code['Daegu'] = '053'"
   ]
  },
  {
   "cell_type": "code",
   "execution_count": 117,
   "metadata": {},
   "outputs": [
    {
     "name": "stdout",
     "output_type": "stream",
     "text": [
      "{'Seoul': '02', 'Busan': '051', 'Daejon': '042', 'Ulsan': '052', 'Daegu': '053'}\n"
     ]
    }
   ],
   "source": [
    "print(area_code)"
   ]
  },
  {
   "cell_type": "code",
   "execution_count": 118,
   "metadata": {},
   "outputs": [
    {
     "name": "stdout",
     "output_type": "stream",
     "text": [
      "dict_keys(['Seoul', 'Busan', 'Daejon', 'Ulsan', 'Daegu'])\n"
     ]
    }
   ],
   "source": [
    "print(area_code.keys())"
   ]
  },
  {
   "cell_type": "code",
   "execution_count": 119,
   "metadata": {},
   "outputs": [
    {
     "name": "stdout",
     "output_type": "stream",
     "text": [
      "dict_values(['02', '051', '042', '052', '053'])\n"
     ]
    }
   ],
   "source": [
    "print(area_code.values())"
   ]
  },
  {
   "cell_type": "code",
   "execution_count": 120,
   "metadata": {},
   "outputs": [
    {
     "data": {
      "text/plain": [
       "dict_keys"
      ]
     },
     "execution_count": 120,
     "metadata": {},
     "output_type": "execute_result"
    }
   ],
   "source": [
    "type(area_code.keys())"
   ]
  },
  {
   "cell_type": "code",
   "execution_count": 121,
   "metadata": {},
   "outputs": [],
   "source": [
    "keys_list = list(area_code.keys())"
   ]
  },
  {
   "cell_type": "code",
   "execution_count": 122,
   "metadata": {},
   "outputs": [
    {
     "name": "stdout",
     "output_type": "stream",
     "text": [
      "<class 'list'> ['Seoul', 'Busan', 'Daejon', 'Ulsan', 'Daegu']\n"
     ]
    }
   ],
   "source": [
    "print(type(keys_list), keys_list)"
   ]
  },
  {
   "cell_type": "code",
   "execution_count": 123,
   "metadata": {},
   "outputs": [],
   "source": [
    "# remove item"
   ]
  },
  {
   "cell_type": "code",
   "execution_count": 124,
   "metadata": {},
   "outputs": [],
   "source": [
    "del(area_code['Busan'])"
   ]
  },
  {
   "cell_type": "code",
   "execution_count": 125,
   "metadata": {},
   "outputs": [
    {
     "name": "stdout",
     "output_type": "stream",
     "text": [
      "{'Seoul': '02', 'Daejon': '042', 'Ulsan': '052', 'Daegu': '053'}\n"
     ]
    }
   ],
   "source": [
    "print(area_code)"
   ]
  },
  {
   "cell_type": "code",
   "execution_count": 126,
   "metadata": {},
   "outputs": [
    {
     "name": "stdout",
     "output_type": "stream",
     "text": [
      "4\n"
     ]
    }
   ],
   "source": [
    "print(len(area_code))"
   ]
  },
  {
   "cell_type": "code",
   "execution_count": 127,
   "metadata": {},
   "outputs": [],
   "source": [
    "# if/else conditions are used to decide to do something based on something being true or false"
   ]
  },
  {
   "cell_type": "code",
   "execution_count": 128,
   "metadata": {},
   "outputs": [],
   "source": [
    "x = 3"
   ]
  },
  {
   "cell_type": "code",
   "execution_count": 129,
   "metadata": {},
   "outputs": [],
   "source": [
    "y = 2"
   ]
  },
  {
   "cell_type": "code",
   "execution_count": 130,
   "metadata": {},
   "outputs": [],
   "source": [
    "# comparison operstors (>, <, >=, <=)"
   ]
  },
  {
   "cell_type": "code",
   "execution_count": 131,
   "metadata": {},
   "outputs": [
    {
     "name": "stdout",
     "output_type": "stream",
     "text": [
      "x is greater than y\n"
     ]
    }
   ],
   "source": [
    "if x > y:\n",
    "    print('x is greater than y')"
   ]
  },
  {
   "cell_type": "code",
   "execution_count": 132,
   "metadata": {},
   "outputs": [],
   "source": [
    "# if / else"
   ]
  },
  {
   "cell_type": "code",
   "execution_count": 133,
   "metadata": {},
   "outputs": [
    {
     "name": "stdout",
     "output_type": "stream",
     "text": [
      "x is greater than or equal to y\n"
     ]
    }
   ],
   "source": [
    "if x < y:\n",
    "    print('x is less than y')\n",
    "else:\n",
    "    print('x is greater than or equal to y')"
   ]
  },
  {
   "cell_type": "code",
   "execution_count": 134,
   "metadata": {},
   "outputs": [],
   "source": [
    "# elif"
   ]
  },
  {
   "cell_type": "code",
   "execution_count": 135,
   "metadata": {},
   "outputs": [
    {
     "name": "stdout",
     "output_type": "stream",
     "text": [
      "x is greater than y\n"
     ]
    }
   ],
   "source": [
    "if x < y:\n",
    "    print('x is less than y')\n",
    "elif x > y:\n",
    "    print('x is greater than y')\n",
    "else:\n",
    "    print('x is equal to y')"
   ]
  },
  {
   "cell_type": "code",
   "execution_count": 136,
   "metadata": {},
   "outputs": [],
   "source": [
    "# nested if"
   ]
  },
  {
   "cell_type": "code",
   "execution_count": 137,
   "metadata": {},
   "outputs": [
    {
     "name": "stdout",
     "output_type": "stream",
     "text": [
      "x is greater than 2 and less than or equal to 10\n"
     ]
    }
   ],
   "source": [
    "if x > 2:\n",
    "    if x <= 10:\n",
    "        print('x is greater than 2 and less than or equal to 10')"
   ]
  },
  {
   "cell_type": "code",
   "execution_count": 138,
   "metadata": {},
   "outputs": [],
   "source": [
    "# logical operators (and, or, not)"
   ]
  },
  {
   "cell_type": "code",
   "execution_count": 139,
   "metadata": {},
   "outputs": [],
   "source": [
    "# and"
   ]
  },
  {
   "cell_type": "code",
   "execution_count": 140,
   "metadata": {},
   "outputs": [
    {
     "name": "stdout",
     "output_type": "stream",
     "text": [
      "x is greater than 2 and less than or equal to 10\n"
     ]
    }
   ],
   "source": [
    "if x > 2 and x <= 10:\n",
    "    print('x is greater than 2 and less than or equal to 10')"
   ]
  },
  {
   "cell_type": "code",
   "execution_count": 141,
   "metadata": {},
   "outputs": [],
   "source": [
    "# or"
   ]
  },
  {
   "cell_type": "code",
   "execution_count": 143,
   "metadata": {},
   "outputs": [
    {
     "name": "stdout",
     "output_type": "stream",
     "text": [
      "x is greater than 2 or less than or equal to -1\n"
     ]
    }
   ],
   "source": [
    "if x > 2 or x <= -1:\n",
    "    print('x is greater than 2 or less than or equal to -1')"
   ]
  },
  {
   "cell_type": "code",
   "execution_count": 144,
   "metadata": {},
   "outputs": [],
   "source": [
    "# not"
   ]
  },
  {
   "cell_type": "code",
   "execution_count": 145,
   "metadata": {},
   "outputs": [
    {
     "name": "stdout",
     "output_type": "stream",
     "text": [
      "x is greater than y\n"
     ]
    }
   ],
   "source": [
    "if not(x <= y):\n",
    "    print('x is greater than y')"
   ]
  },
  {
   "cell_type": "code",
   "execution_count": 146,
   "metadata": {},
   "outputs": [],
   "source": [
    "# equality operator (==, !=)"
   ]
  },
  {
   "cell_type": "code",
   "execution_count": 147,
   "metadata": {},
   "outputs": [],
   "source": [
    "if x == y:\n",
    "    print('x is equal to y')"
   ]
  },
  {
   "cell_type": "code",
   "execution_count": 148,
   "metadata": {},
   "outputs": [
    {
     "name": "stdout",
     "output_type": "stream",
     "text": [
      "x is not equal to y\n"
     ]
    }
   ],
   "source": [
    "if x != y:\n",
    "    print('x is not equal to y')"
   ]
  },
  {
   "cell_type": "code",
   "execution_count": 149,
   "metadata": {},
   "outputs": [],
   "source": [
    "# Memgership operator (in, not in)"
   ]
  },
  {
   "cell_type": "code",
   "execution_count": 150,
   "metadata": {},
   "outputs": [],
   "source": [
    "numbers = [1,2,3,4,5]"
   ]
  },
  {
   "cell_type": "code",
   "execution_count": 151,
   "metadata": {},
   "outputs": [
    {
     "name": "stdout",
     "output_type": "stream",
     "text": [
      "3\n"
     ]
    }
   ],
   "source": [
    "print(x)"
   ]
  },
  {
   "cell_type": "code",
   "execution_count": 152,
   "metadata": {},
   "outputs": [
    {
     "name": "stdout",
     "output_type": "stream",
     "text": [
      "x is a member of numbers\n"
     ]
    }
   ],
   "source": [
    "if x in numbers:\n",
    "    print('x is a member of numbers')"
   ]
  },
  {
   "cell_type": "code",
   "execution_count": 153,
   "metadata": {},
   "outputs": [],
   "source": [
    "# not in"
   ]
  },
  {
   "cell_type": "code",
   "execution_count": 154,
   "metadata": {},
   "outputs": [],
   "source": [
    "if x not in numbers:\n",
    "    print('x is not a member of numbers')"
   ]
  },
  {
   "cell_type": "code",
   "execution_count": 155,
   "metadata": {},
   "outputs": [
    {
     "name": "stdout",
     "output_type": "stream",
     "text": [
      "2\n"
     ]
    }
   ],
   "source": [
    "print(numbers[1])"
   ]
  },
  {
   "cell_type": "code",
   "execution_count": 156,
   "metadata": {},
   "outputs": [
    {
     "name": "stdout",
     "output_type": "stream",
     "text": [
      "[2, 3]\n"
     ]
    }
   ],
   "source": [
    "print(numbers[1:3])"
   ]
  },
  {
   "cell_type": "code",
   "execution_count": 157,
   "metadata": {},
   "outputs": [
    {
     "name": "stdout",
     "output_type": "stream",
     "text": [
      "[1, 3, 5]\n"
     ]
    }
   ],
   "source": [
    "print(numbers[0:5:2])"
   ]
  },
  {
   "cell_type": "code",
   "execution_count": 158,
   "metadata": {},
   "outputs": [],
   "source": [
    "# arithmetic operators"
   ]
  },
  {
   "cell_type": "code",
   "execution_count": 159,
   "metadata": {},
   "outputs": [
    {
     "name": "stdout",
     "output_type": "stream",
     "text": [
      "3 2 5 1\n"
     ]
    }
   ],
   "source": [
    "print(x, y, x + y, x - y)"
   ]
  },
  {
   "cell_type": "code",
   "execution_count": 160,
   "metadata": {},
   "outputs": [
    {
     "name": "stdout",
     "output_type": "stream",
     "text": [
      "3 2 6 1.5\n"
     ]
    }
   ],
   "source": [
    "print(x, y, x * y, x / y)"
   ]
  },
  {
   "cell_type": "code",
   "execution_count": 161,
   "metadata": {},
   "outputs": [
    {
     "name": "stdout",
     "output_type": "stream",
     "text": [
      "3 2 1 1\n"
     ]
    }
   ],
   "source": [
    "print(x, y, x // y, x % y)"
   ]
  },
  {
   "cell_type": "code",
   "execution_count": 162,
   "metadata": {},
   "outputs": [
    {
     "name": "stdout",
     "output_type": "stream",
     "text": [
      "3 2 9\n"
     ]
    }
   ],
   "source": [
    "print(x, y, x ** y)"
   ]
  },
  {
   "cell_type": "code",
   "execution_count": 164,
   "metadata": {},
   "outputs": [],
   "source": [
    "# while loop"
   ]
  },
  {
   "cell_type": "code",
   "execution_count": 166,
   "metadata": {},
   "outputs": [],
   "source": [
    "a = 1"
   ]
  },
  {
   "cell_type": "code",
   "execution_count": 167,
   "metadata": {},
   "outputs": [],
   "source": [
    "b = 1"
   ]
  },
  {
   "cell_type": "code",
   "execution_count": 168,
   "metadata": {},
   "outputs": [],
   "source": [
    "a += 2"
   ]
  },
  {
   "cell_type": "code",
   "execution_count": 169,
   "metadata": {},
   "outputs": [],
   "source": [
    "b = b + 2"
   ]
  },
  {
   "cell_type": "code",
   "execution_count": 170,
   "metadata": {},
   "outputs": [
    {
     "name": "stdout",
     "output_type": "stream",
     "text": [
      "3 3\n"
     ]
    }
   ],
   "source": [
    "print(a, b)"
   ]
  },
  {
   "cell_type": "code",
   "execution_count": 171,
   "metadata": {},
   "outputs": [],
   "source": [
    "count = 0"
   ]
  },
  {
   "cell_type": "code",
   "execution_count": 172,
   "metadata": {},
   "outputs": [
    {
     "name": "stdout",
     "output_type": "stream",
     "text": [
      "0\n",
      "1\n",
      "2\n",
      "3\n",
      "4\n",
      "5\n",
      "6\n",
      "7\n",
      "8\n",
      "9\n"
     ]
    }
   ],
   "source": [
    "while count < 10:\n",
    "    print(count)\n",
    "    count += 1"
   ]
  },
  {
   "cell_type": "code",
   "execution_count": 173,
   "metadata": {},
   "outputs": [],
   "source": [
    "# for loop"
   ]
  },
  {
   "cell_type": "code",
   "execution_count": 174,
   "metadata": {},
   "outputs": [],
   "source": [
    "flowers = ['rose', 'lily', 'tulip', 'daisy', 'iris']"
   ]
  },
  {
   "cell_type": "code",
   "execution_count": 175,
   "metadata": {},
   "outputs": [
    {
     "name": "stdout",
     "output_type": "stream",
     "text": [
      "rose is beautiful\n",
      "lily is beautiful\n",
      "tulip is beautiful\n",
      "daisy is beautiful\n",
      "iris is beautiful\n"
     ]
    }
   ],
   "source": [
    "for flower in flowers:\n",
    "    print(flower + ' is beautiful')"
   ]
  },
  {
   "cell_type": "code",
   "execution_count": 176,
   "metadata": {},
   "outputs": [],
   "source": [
    "# break"
   ]
  },
  {
   "cell_type": "code",
   "execution_count": 177,
   "metadata": {},
   "outputs": [
    {
     "name": "stdout",
     "output_type": "stream",
     "text": [
      "rose is beautiful\n",
      "lily is beautiful\n",
      "tulip is beautiful\n"
     ]
    }
   ],
   "source": [
    "for flower in flowers:\n",
    "    print(flower + ' is beautiful')\n",
    "    if (flower == 'tulip'):\n",
    "        break"
   ]
  },
  {
   "cell_type": "code",
   "execution_count": 179,
   "metadata": {},
   "outputs": [
    {
     "name": "stdout",
     "output_type": "stream",
     "text": [
      "rose is beautiful\n",
      "tulip is beautiful\n",
      "daisy is beautiful\n",
      "iris is beautiful\n"
     ]
    }
   ],
   "source": [
    "for flower in flowers:\n",
    "    if flower == 'lily':\n",
    "        continue\n",
    "    print(flower + ' is beautiful')"
   ]
  },
  {
   "cell_type": "code",
   "execution_count": 180,
   "metadata": {},
   "outputs": [],
   "source": [
    "# index"
   ]
  },
  {
   "cell_type": "code",
   "execution_count": 184,
   "metadata": {},
   "outputs": [
    {
     "data": {
      "text/plain": [
       "range(0, 10)"
      ]
     },
     "execution_count": 184,
     "metadata": {},
     "output_type": "execute_result"
    }
   ],
   "source": [
    "range(10)"
   ]
  },
  {
   "cell_type": "code",
   "execution_count": 183,
   "metadata": {},
   "outputs": [
    {
     "name": "stdout",
     "output_type": "stream",
     "text": [
      "range(1, 10)\n"
     ]
    }
   ],
   "source": [
    "print(range(1,10))"
   ]
  },
  {
   "cell_type": "code",
   "execution_count": 185,
   "metadata": {},
   "outputs": [
    {
     "name": "stdout",
     "output_type": "stream",
     "text": [
      "0 rose\n",
      "1 lily\n",
      "2 tulip\n",
      "3 daisy\n",
      "4 iris\n"
     ]
    }
   ],
   "source": [
    "for i in range(len(flowers)):\n",
    "    print(i, flowers[i])"
   ]
  },
  {
   "cell_type": "code",
   "execution_count": 186,
   "metadata": {},
   "outputs": [],
   "source": [
    "mixed_list = [1, 'str', 3.14]"
   ]
  },
  {
   "cell_type": "code",
   "execution_count": 187,
   "metadata": {},
   "outputs": [
    {
     "name": "stdout",
     "output_type": "stream",
     "text": [
      "<class 'int'> 1\n",
      "<class 'str'> str\n",
      "<class 'float'> 3.14\n"
     ]
    }
   ],
   "source": [
    "for element in mixed_list:\n",
    "    print(type(element), element)"
   ]
  },
  {
   "cell_type": "code",
   "execution_count": 188,
   "metadata": {},
   "outputs": [],
   "source": [
    "# function"
   ]
  },
  {
   "cell_type": "code",
   "execution_count": 189,
   "metadata": {},
   "outputs": [],
   "source": [
    "def sum(a, b):\n",
    "    total = a + b\n",
    "    return total"
   ]
  },
  {
   "cell_type": "code",
   "execution_count": 190,
   "metadata": {},
   "outputs": [
    {
     "name": "stdout",
     "output_type": "stream",
     "text": [
      "3\n"
     ]
    }
   ],
   "source": [
    "print(sum(1,2))"
   ]
  },
  {
   "cell_type": "code",
   "execution_count": 191,
   "metadata": {},
   "outputs": [
    {
     "name": "stdout",
     "output_type": "stream",
     "text": [
      "3\n"
     ]
    }
   ],
   "source": [
    "print(sum(5,-2))"
   ]
  },
  {
   "cell_type": "code",
   "execution_count": 192,
   "metadata": {},
   "outputs": [
    {
     "name": "stdout",
     "output_type": "stream",
     "text": [
      "5.53\n"
     ]
    }
   ],
   "source": [
    "print(sum(1.3,4.23))"
   ]
  },
  {
   "cell_type": "code",
   "execution_count": 193,
   "metadata": {},
   "outputs": [
    {
     "name": "stdout",
     "output_type": "stream",
     "text": [
      "aaabbb\n"
     ]
    }
   ],
   "source": [
    "print(sum('aaa', 'bbb'))"
   ]
  },
  {
   "cell_type": "code",
   "execution_count": 194,
   "metadata": {},
   "outputs": [
    {
     "ename": "TypeError",
     "evalue": "can only concatenate str (not \"int\") to str",
     "output_type": "error",
     "traceback": [
      "\u001b[0;31m---------------------------------------------------------------------------\u001b[0m",
      "\u001b[0;31mTypeError\u001b[0m                                 Traceback (most recent call last)",
      "\u001b[0;32m<ipython-input-194-0a7a13eea42d>\u001b[0m in \u001b[0;36m<module>\u001b[0;34m\u001b[0m\n\u001b[0;32m----> 1\u001b[0;31m \u001b[0mprint\u001b[0m\u001b[0;34m(\u001b[0m\u001b[0msum\u001b[0m\u001b[0;34m(\u001b[0m\u001b[0;34m'aaa'\u001b[0m\u001b[0;34m,\u001b[0m \u001b[0;36m1\u001b[0m\u001b[0;34m)\u001b[0m\u001b[0;34m)\u001b[0m\u001b[0;34m\u001b[0m\u001b[0;34m\u001b[0m\u001b[0m\n\u001b[0m",
      "\u001b[0;32m<ipython-input-189-cff8df7734aa>\u001b[0m in \u001b[0;36msum\u001b[0;34m(a, b)\u001b[0m\n\u001b[1;32m      1\u001b[0m \u001b[0;32mdef\u001b[0m \u001b[0msum\u001b[0m\u001b[0;34m(\u001b[0m\u001b[0ma\u001b[0m\u001b[0;34m,\u001b[0m \u001b[0mb\u001b[0m\u001b[0;34m)\u001b[0m\u001b[0;34m:\u001b[0m\u001b[0;34m\u001b[0m\u001b[0;34m\u001b[0m\u001b[0m\n\u001b[0;32m----> 2\u001b[0;31m     \u001b[0mtotal\u001b[0m \u001b[0;34m=\u001b[0m \u001b[0ma\u001b[0m \u001b[0;34m+\u001b[0m \u001b[0mb\u001b[0m\u001b[0;34m\u001b[0m\u001b[0;34m\u001b[0m\u001b[0m\n\u001b[0m\u001b[1;32m      3\u001b[0m     \u001b[0;32mreturn\u001b[0m \u001b[0mtotal\u001b[0m\u001b[0;34m\u001b[0m\u001b[0;34m\u001b[0m\u001b[0m\n",
      "\u001b[0;31mTypeError\u001b[0m: can only concatenate str (not \"int\") to str"
     ]
    }
   ],
   "source": [
    "print(sum('aaa', 1))"
   ]
  },
  {
   "cell_type": "code",
   "execution_count": 195,
   "metadata": {},
   "outputs": [],
   "source": [
    "# immutable input"
   ]
  },
  {
   "cell_type": "code",
   "execution_count": 196,
   "metadata": {},
   "outputs": [],
   "source": [
    "def update_value(a):\n",
    "    a += 2\n",
    "    print(a)\n",
    "    "
   ]
  },
  {
   "cell_type": "code",
   "execution_count": 197,
   "metadata": {},
   "outputs": [],
   "source": [
    "x = 3"
   ]
  },
  {
   "cell_type": "code",
   "execution_count": 198,
   "metadata": {},
   "outputs": [
    {
     "name": "stdout",
     "output_type": "stream",
     "text": [
      "5\n"
     ]
    }
   ],
   "source": [
    "update_value(x)"
   ]
  },
  {
   "cell_type": "code",
   "execution_count": 199,
   "metadata": {},
   "outputs": [
    {
     "name": "stdout",
     "output_type": "stream",
     "text": [
      "3\n"
     ]
    }
   ],
   "source": [
    "print(x)"
   ]
  },
  {
   "cell_type": "code",
   "execution_count": 200,
   "metadata": {},
   "outputs": [],
   "source": [
    "# mutable input"
   ]
  },
  {
   "cell_type": "code",
   "execution_count": 201,
   "metadata": {},
   "outputs": [],
   "source": [
    "def update_list(l):\n",
    "    l[0] += 2\n",
    "    print(l)"
   ]
  },
  {
   "cell_type": "code",
   "execution_count": 202,
   "metadata": {},
   "outputs": [],
   "source": [
    "input_list = [1,2,3,4,5]"
   ]
  },
  {
   "cell_type": "code",
   "execution_count": 203,
   "metadata": {},
   "outputs": [
    {
     "name": "stdout",
     "output_type": "stream",
     "text": [
      "[3, 2, 3, 4, 5]\n"
     ]
    }
   ],
   "source": [
    "update_list(input_list)"
   ]
  },
  {
   "cell_type": "code",
   "execution_count": 204,
   "metadata": {},
   "outputs": [
    {
     "name": "stdout",
     "output_type": "stream",
     "text": [
      "[3, 2, 3, 4, 5]\n"
     ]
    }
   ],
   "source": [
    "print(input_list)"
   ]
  },
  {
   "cell_type": "code",
   "execution_count": 205,
   "metadata": {},
   "outputs": [],
   "source": [
    "# default value"
   ]
  },
  {
   "cell_type": "code",
   "execution_count": 206,
   "metadata": {},
   "outputs": [],
   "source": [
    "def update_list2(l, val = 2):\n",
    "    l[0] += val\n",
    "    print(l)"
   ]
  },
  {
   "cell_type": "code",
   "execution_count": 207,
   "metadata": {},
   "outputs": [
    {
     "name": "stdout",
     "output_type": "stream",
     "text": [
      "[11, 2, 3]\n"
     ]
    }
   ],
   "source": [
    "update_list2([1,2,3],10)"
   ]
  },
  {
   "cell_type": "code",
   "execution_count": 208,
   "metadata": {},
   "outputs": [
    {
     "name": "stdout",
     "output_type": "stream",
     "text": [
      "[3, 2, 3]\n"
     ]
    }
   ],
   "source": [
    "update_list2([1,2,3])"
   ]
  },
  {
   "cell_type": "code",
   "execution_count": 209,
   "metadata": {},
   "outputs": [],
   "source": [
    "# input\n"
   ]
  },
  {
   "cell_type": "code",
   "execution_count": 210,
   "metadata": {},
   "outputs": [
    {
     "name": "stdout",
     "output_type": "stream",
     "text": [
      "In what year were you born?2019\n"
     ]
    }
   ],
   "source": [
    "year = int(input('In what year were you born?'))"
   ]
  },
  {
   "cell_type": "code",
   "execution_count": 211,
   "metadata": {},
   "outputs": [
    {
     "name": "stdout",
     "output_type": "stream",
     "text": [
      "2019\n"
     ]
    }
   ],
   "source": [
    "print(year)"
   ]
  },
  {
   "cell_type": "code",
   "execution_count": 213,
   "metadata": {},
   "outputs": [],
   "source": [
    "x=1\n",
    "y=2"
   ]
  },
  {
   "cell_type": "code",
   "execution_count": 214,
   "metadata": {},
   "outputs": [
    {
     "name": "stdout",
     "output_type": "stream",
     "text": [
      "sum of 1 and 2 is  3\n"
     ]
    }
   ],
   "source": [
    "print(f'sum of {x} and {y} is ', x + y)"
   ]
  },
  {
   "cell_type": "code",
   "execution_count": 216,
   "metadata": {},
   "outputs": [
    {
     "name": "stdout",
     "output_type": "stream",
     "text": [
      "sum of 1 and 2 is 3\n"
     ]
    }
   ],
   "source": [
    "print('sum of {} and {} is {}'.format(x, y, x+y))"
   ]
  },
  {
   "cell_type": "code",
   "execution_count": 217,
   "metadata": {},
   "outputs": [],
   "source": [
    "# module"
   ]
  },
  {
   "cell_type": "code",
   "execution_count": 218,
   "metadata": {},
   "outputs": [],
   "source": [
    "import random"
   ]
  },
  {
   "cell_type": "code",
   "execution_count": 219,
   "metadata": {},
   "outputs": [
    {
     "name": "stdout",
     "output_type": "stream",
     "text": [
      "0.40813620696241504\n"
     ]
    }
   ],
   "source": [
    "print(random.random())"
   ]
  },
  {
   "cell_type": "code",
   "execution_count": 220,
   "metadata": {},
   "outputs": [
    {
     "name": "stdout",
     "output_type": "stream",
     "text": [
      "0.15489053024410726\n"
     ]
    }
   ],
   "source": [
    "print(random.random())"
   ]
  },
  {
   "cell_type": "code",
   "execution_count": 221,
   "metadata": {},
   "outputs": [],
   "source": [
    "from random import random"
   ]
  },
  {
   "cell_type": "code",
   "execution_count": 222,
   "metadata": {},
   "outputs": [
    {
     "name": "stdout",
     "output_type": "stream",
     "text": [
      "0.45295801780658806\n"
     ]
    }
   ],
   "source": [
    "print(random())"
   ]
  },
  {
   "cell_type": "code",
   "execution_count": 223,
   "metadata": {},
   "outputs": [],
   "source": [
    "import math"
   ]
  },
  {
   "cell_type": "code",
   "execution_count": 224,
   "metadata": {},
   "outputs": [
    {
     "name": "stdout",
     "output_type": "stream",
     "text": [
      "3.141592653589793\n"
     ]
    }
   ],
   "source": [
    "print(math.pi)"
   ]
  },
  {
   "cell_type": "code",
   "execution_count": 225,
   "metadata": {},
   "outputs": [],
   "source": [
    "from math import pi"
   ]
  },
  {
   "cell_type": "code",
   "execution_count": 226,
   "metadata": {},
   "outputs": [
    {
     "name": "stdout",
     "output_type": "stream",
     "text": [
      "3.141592653589793\n"
     ]
    }
   ],
   "source": [
    "print(pi)"
   ]
  },
  {
   "cell_type": "code",
   "execution_count": 228,
   "metadata": {},
   "outputs": [],
   "source": [
    "# comprehension syntax"
   ]
  },
  {
   "cell_type": "code",
   "execution_count": 229,
   "metadata": {},
   "outputs": [],
   "source": [
    "squares1 = []"
   ]
  },
  {
   "cell_type": "code",
   "execution_count": 230,
   "metadata": {},
   "outputs": [],
   "source": [
    "for k in range(1,11):\n",
    "    squares1.append(k ** 2)"
   ]
  },
  {
   "cell_type": "code",
   "execution_count": 231,
   "metadata": {},
   "outputs": [
    {
     "name": "stdout",
     "output_type": "stream",
     "text": [
      "[1, 4, 9, 16, 25, 36, 49, 64, 81, 100]\n"
     ]
    }
   ],
   "source": [
    "print(squares1)"
   ]
  },
  {
   "cell_type": "code",
   "execution_count": 232,
   "metadata": {},
   "outputs": [],
   "source": [
    "squares2 = [k ** 2 for k in range(1,11)]"
   ]
  },
  {
   "cell_type": "code",
   "execution_count": 233,
   "metadata": {},
   "outputs": [
    {
     "name": "stdout",
     "output_type": "stream",
     "text": [
      "[1, 4, 9, 16, 25, 36, 49, 64, 81, 100]\n"
     ]
    }
   ],
   "source": [
    "print(squares2)"
   ]
  },
  {
   "cell_type": "code",
   "execution_count": 234,
   "metadata": {},
   "outputs": [],
   "source": [
    "squares_odd = [k ** 2 for k in range(1,11) if k % 2 == 1]"
   ]
  },
  {
   "cell_type": "code",
   "execution_count": 235,
   "metadata": {},
   "outputs": [
    {
     "name": "stdout",
     "output_type": "stream",
     "text": [
      "[1, 9, 25, 49, 81]\n"
     ]
    }
   ],
   "source": [
    "print(squares_odd)"
   ]
  },
  {
   "cell_type": "code",
   "execution_count": 236,
   "metadata": {},
   "outputs": [],
   "source": [
    "squares1 = []\n",
    "for k in range(1,11):\n",
    "    if k % 2 == 1:\n",
    "        squares1.append(k ** 2)"
   ]
  },
  {
   "cell_type": "code",
   "execution_count": 237,
   "metadata": {},
   "outputs": [
    {
     "name": "stdout",
     "output_type": "stream",
     "text": [
      "[1, 9, 25, 49, 81]\n"
     ]
    }
   ],
   "source": [
    "print(squares1)"
   ]
  },
  {
   "cell_type": "code",
   "execution_count": 4,
   "metadata": {},
   "outputs": [
    {
     "name": "stdout",
     "output_type": "stream",
     "text": [
      "Welcome to the GPA calculator.\n",
      "Please enter all your letter grades, one per line.\n",
      "Enter a blank line to designate the end.\n",
      "\n",
      "Come back later!\n"
     ]
    }
   ],
   "source": [
    "print('Welcome to the GPA calculator.')\n",
    "print('Please enter all your letter grades, one per line.')\n",
    "print('Enter a blank line to designate the end.')\n",
    "# map from letter grade to point value\n",
    "points = {'A+':4.3, 'A':4.0, 'A-':3.67, 'B+':3.33, 'B':3.0, 'B-':2.67,\n",
    "          'C+':2.33, 'C':2.0, 'C-':1.67, 'D+':1.33, 'D':1.0, 'F':0.0}\n",
    "num_courses = 0\n",
    "total_points = 0\n",
    "done = False\n",
    "while not done:\n",
    "  grade = input()                          # read line from user\n",
    "  if grade == '':                          # empty line was entered\n",
    "    done = True\n",
    "  elif grade not in points:                # unrecognized grade entered\n",
    "    print(\"Unknown grade '{0}' being ignored\".format(grade))\n",
    "  else:\n",
    "    num_courses += 1\n",
    "    total_points += points[grade]\n",
    "if num_courses > 0:                        # avoid division by zero\n",
    "  print('Your GPA is {0:.3}'.format(total_points / num_courses))\n",
    "else:\n",
    "  print('Come back later!')"
   ]
  },
  {
   "cell_type": "code",
   "execution_count": null,
   "metadata": {},
   "outputs": [],
   "source": []
  }
 ],
 "metadata": {
  "kernelspec": {
   "display_name": "Python 3",
   "language": "python",
   "name": "python3"
  },
  "language_info": {
   "codemirror_mode": {
    "name": "ipython",
    "version": 3
   },
   "file_extension": ".py",
   "mimetype": "text/x-python",
   "name": "python",
   "nbconvert_exporter": "python",
   "pygments_lexer": "ipython3",
   "version": "3.6.0"
  }
 },
 "nbformat": 4,
 "nbformat_minor": 4
}
