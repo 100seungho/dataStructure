{
 "cells": [
  {
   "cell_type": "code",
   "execution_count": 1,
   "metadata": {},
   "outputs": [
    {
     "data": {
      "text/plain": [
       "'\\nProblem 1. We want to write a program that \\ntakes a list and makes a new list of \\nonly the first and last elements of the given list. \\nPlease complete the commented line. \\n'"
      ]
     },
     "execution_count": 1,
     "metadata": {},
     "output_type": "execute_result"
    }
   ],
   "source": [
    "'''\n",
    "Problem 1. We want to write a program that \n",
    "takes a list and makes a new list of \n",
    "only the first and last elements of the given list. \n",
    "Please complete the commented line. \n",
    "'''"
   ]
  },
  {
   "cell_type": "code",
   "execution_count": 16,
   "metadata": {},
   "outputs": [],
   "source": [
    "def extract_first_and_last(L):\n",
    "    first = 0\n",
    "    last = len(L)-1\n",
    "    return [L[first], L[last]]"
   ]
  },
  {
   "cell_type": "code",
   "execution_count": 13,
   "metadata": {},
   "outputs": [],
   "source": [
    "numbers = [1,2,3,4,5]"
   ]
  },
  {
   "cell_type": "code",
   "execution_count": 17,
   "metadata": {},
   "outputs": [
    {
     "name": "stdout",
     "output_type": "stream",
     "text": [
      "[1, 5]\n"
     ]
    }
   ],
   "source": [
    "print(extract_first_and_last(numbers))"
   ]
  },
  {
   "cell_type": "code",
   "execution_count": 18,
   "metadata": {},
   "outputs": [
    {
     "data": {
      "text/plain": [
       "'\\nProblem 2. Write a short Python function, is odd(n), \\nthat takes one integer value and returns True \\nif n is an odd number and False otherwise.\\n'"
      ]
     },
     "execution_count": 18,
     "metadata": {},
     "output_type": "execute_result"
    }
   ],
   "source": [
    "'''\n",
    "Problem 2. Write a short Python function, is odd(n), \n",
    "that takes one integer value and returns True \n",
    "if n is an odd number and False otherwise.\n",
    "'''"
   ]
  },
  {
   "cell_type": "code",
   "execution_count": 30,
   "metadata": {},
   "outputs": [],
   "source": [
    "def is_odd(n):\n",
    "    if type(n) == int and (n % 2) == 1:\n",
    "        return True\n",
    "    else:\n",
    "        return False"
   ]
  },
  {
   "cell_type": "code",
   "execution_count": 31,
   "metadata": {},
   "outputs": [
    {
     "name": "stdout",
     "output_type": "stream",
     "text": [
      "False\n",
      "True\n",
      "False\n",
      "False\n"
     ]
    }
   ],
   "source": [
    "print(is_odd(\"String\"))\n",
    "print(is_odd(3))\n",
    "print(is_odd(2))\n",
    "print(is_odd(3.0))"
   ]
  },
  {
   "cell_type": "code",
   "execution_count": 36,
   "metadata": {},
   "outputs": [
    {
     "data": {
      "text/plain": [
       "'\\nProblem 3. Write a short Python function, sum of squares(n), \\nthat takes a positive integer n and returns the sum of the squares \\nof all the positive integers smaller than n.\\n'"
      ]
     },
     "execution_count": 36,
     "metadata": {},
     "output_type": "execute_result"
    }
   ],
   "source": [
    "'''\n",
    "Problem 3. Write a short Python function, sum of squares(n), \n",
    "that takes a positive integer n and returns the sum of the squares \n",
    "of all the positive integers smaller than n.\n",
    "'''\n"
   ]
  },
  {
   "cell_type": "code",
   "execution_count": 41,
   "metadata": {},
   "outputs": [],
   "source": [
    "def sum_of_squares(n):\n",
    "    _sum = 0\n",
    "    while n > 0 and type(n) == int:\n",
    "        _sum += n - 1\n",
    "        n -= 1\n",
    "    return(_sum)"
   ]
  },
  {
   "cell_type": "code",
   "execution_count": 42,
   "metadata": {},
   "outputs": [
    {
     "name": "stdout",
     "output_type": "stream",
     "text": [
      "10\n",
      "6\n",
      "3\n",
      "1\n",
      "0\n"
     ]
    }
   ],
   "source": [
    "print(sum_of_squares(5))\n",
    "print(sum_of_squares(4))\n",
    "print(sum_of_squares(3))\n",
    "print(sum_of_squares(2))\n",
    "print(sum_of_squares(1))"
   ]
  },
  {
   "cell_type": "code",
   "execution_count": 43,
   "metadata": {},
   "outputs": [
    {
     "data": {
      "text/plain": [
       "'\\nProblem 4. Write a short Python function that generates \\na dictionary that contains a number between 1 and n \\nin the form (x, x3). For example, if n = 5, \\nthe expected output will be {1 : 1, 2 : 8, 3 : 27, 4 : 64, 5 : 125}.\\n'"
      ]
     },
     "execution_count": 43,
     "metadata": {},
     "output_type": "execute_result"
    }
   ],
   "source": [
    "'''\n",
    "Problem 4. Write a short Python function that generates \n",
    "a dictionary that contains a number between 1 and n \n",
    "in the form (x, x3). For example, if n = 5, \n",
    "the expected output will be {1 : 1, 2 : 8, 3 : 27, 4 : 64, 5 : 125}.\n",
    "'''"
   ]
  },
  {
   "cell_type": "code",
   "execution_count": 44,
   "metadata": {},
   "outputs": [],
   "source": [
    "def gen_dict(n):\n",
    "    _dict = {}\n",
    "    while n > 0 and type(n) == int:\n",
    "        _dict[n] = n**3\n",
    "        n -= 1\n",
    "    return(_dict)"
   ]
  },
  {
   "cell_type": "code",
   "execution_count": 46,
   "metadata": {},
   "outputs": [
    {
     "name": "stdout",
     "output_type": "stream",
     "text": [
      "{3: 27, 2: 8, 1: 1}\n",
      "{5: 125, 4: 64, 3: 27, 2: 8, 1: 1}\n"
     ]
    }
   ],
   "source": [
    "print(gen_dict(3))\n",
    "print(gen_dict(5))"
   ]
  },
  {
   "cell_type": "code",
   "execution_count": null,
   "metadata": {},
   "outputs": [],
   "source": []
  }
 ],
 "metadata": {
  "kernelspec": {
   "display_name": "Python 3",
   "language": "python",
   "name": "python3"
  },
  "language_info": {
   "codemirror_mode": {
    "name": "ipython",
    "version": 3
   },
   "file_extension": ".py",
   "mimetype": "text/x-python",
   "name": "python",
   "nbconvert_exporter": "python",
   "pygments_lexer": "ipython3",
   "version": "3.7.3"
  }
 },
 "nbformat": 4,
 "nbformat_minor": 2
}
