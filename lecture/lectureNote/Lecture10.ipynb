{
 "cells": [
  {
   "cell_type": "markdown",
   "metadata": {},
   "source": [
    "# Lecture 10\n",
    "______________________________________________________________________\n",
    "# Heap and Binary Search Tree\n",
    "## Heap\n",
    "- complete 하다.\n",
    "- parent Node는 children보다 작다\n",
    "\n",
    "**이게 왜 중요할까?**\n",
    "\n",
    "## Priority Queue\n",
    "- 줄을 서지만 각각의 사람이 랭킹이 있어서 제일 앞에 있는 사람보다 높은 사람이 오면 새로 온 사람이 제일 앞 자리로 가게 된다. **ex) 프린터 우선출력, 노래방 우선예약**\n",
    "- **heap을 이용해서 이를 구현한다.** (_heap은 sorting에도 쓰인다._)\n",
    "\n",
    "### The Priority Queue ADT\n",
    "- 여러가지 Abstract Data Type이 있다.\n",
    "- `P.add(k, v)`: `k`를 우선순위로 본다. $O(logN)$ or $O(h)$\n",
    "- `P.min()`: 랭크가 가장 작은 것. 제일 앞에 있는 것 $O(1)$\n",
    "- `P.remove_min()`: dequeue라고 보면 됨. $O(logN)$ or $O(h)$\n",
    "- `P.is_empty()`\n",
    "- `len(P)`"
   ]
  },
  {
   "cell_type": "markdown",
   "metadata": {},
   "source": [
    "# heapq\n",
    "_____"
   ]
  },
  {
   "cell_type": "code",
   "execution_count": 83,
   "metadata": {},
   "outputs": [],
   "source": [
    "import heapq"
   ]
  },
  {
   "cell_type": "code",
   "execution_count": 84,
   "metadata": {},
   "outputs": [],
   "source": [
    "heap = []"
   ]
  },
  {
   "cell_type": "code",
   "execution_count": 85,
   "metadata": {},
   "outputs": [],
   "source": [
    "heapq.heappush(heap, 19)"
   ]
  },
  {
   "cell_type": "code",
   "execution_count": 86,
   "metadata": {},
   "outputs": [
    {
     "name": "stdout",
     "output_type": "stream",
     "text": [
      "[19]\n"
     ]
    }
   ],
   "source": [
    "print(heap)"
   ]
  },
  {
   "cell_type": "code",
   "execution_count": 87,
   "metadata": {},
   "outputs": [],
   "source": [
    "heapq.heappush(heap, 9)"
   ]
  },
  {
   "cell_type": "code",
   "execution_count": 88,
   "metadata": {},
   "outputs": [
    {
     "name": "stdout",
     "output_type": "stream",
     "text": [
      "[9, 19]\n"
     ]
    }
   ],
   "source": [
    "print(heap)"
   ]
  },
  {
   "cell_type": "code",
   "execution_count": 89,
   "metadata": {},
   "outputs": [],
   "source": [
    "heapq.heappush(heap, 4)"
   ]
  },
  {
   "cell_type": "code",
   "execution_count": 90,
   "metadata": {},
   "outputs": [
    {
     "name": "stdout",
     "output_type": "stream",
     "text": [
      "[4, 19, 9]\n"
     ]
    }
   ],
   "source": [
    "print(heap)"
   ]
  },
  {
   "cell_type": "code",
   "execution_count": 91,
   "metadata": {},
   "outputs": [],
   "source": [
    "heapq.heappush(heap, 10)"
   ]
  },
  {
   "cell_type": "code",
   "execution_count": 92,
   "metadata": {},
   "outputs": [
    {
     "name": "stdout",
     "output_type": "stream",
     "text": [
      "[4, 10, 9, 19]\n"
     ]
    }
   ],
   "source": [
    "print(heap)"
   ]
  },
  {
   "cell_type": "code",
   "execution_count": 93,
   "metadata": {},
   "outputs": [],
   "source": [
    "heapq.heappush(heap, 11)"
   ]
  },
  {
   "cell_type": "code",
   "execution_count": 94,
   "metadata": {},
   "outputs": [
    {
     "name": "stdout",
     "output_type": "stream",
     "text": [
      "[4, 10, 9, 19, 11]\n"
     ]
    }
   ],
   "source": [
    "print(heap)"
   ]
  },
  {
   "cell_type": "code",
   "execution_count": 95,
   "metadata": {},
   "outputs": [],
   "source": [
    "heapq.heappush(heap, 8)"
   ]
  },
  {
   "cell_type": "code",
   "execution_count": 96,
   "metadata": {},
   "outputs": [
    {
     "name": "stdout",
     "output_type": "stream",
     "text": [
      "[4, 10, 8, 19, 11, 9]\n"
     ]
    }
   ],
   "source": [
    "print(heap)"
   ]
  },
  {
   "cell_type": "code",
   "execution_count": 97,
   "metadata": {},
   "outputs": [
    {
     "data": {
      "text/plain": [
       "4"
      ]
     },
     "execution_count": 97,
     "metadata": {},
     "output_type": "execute_result"
    }
   ],
   "source": [
    "# 빼기\n",
    "heapq.heappop(heap)"
   ]
  },
  {
   "cell_type": "code",
   "execution_count": 98,
   "metadata": {},
   "outputs": [
    {
     "name": "stdout",
     "output_type": "stream",
     "text": [
      "[8, 10, 9, 19, 11]\n"
     ]
    }
   ],
   "source": [
    "print(heap)"
   ]
  },
  {
   "cell_type": "code",
   "execution_count": 99,
   "metadata": {},
   "outputs": [
    {
     "data": {
      "text/plain": [
       "8"
      ]
     },
     "execution_count": 99,
     "metadata": {},
     "output_type": "execute_result"
    }
   ],
   "source": [
    "heapq.heappop(heap)"
   ]
  },
  {
   "cell_type": "code",
   "execution_count": 100,
   "metadata": {},
   "outputs": [
    {
     "name": "stdout",
     "output_type": "stream",
     "text": [
      "[9, 10, 11, 19]\n"
     ]
    }
   ],
   "source": [
    "print(heap)"
   ]
  },
  {
   "cell_type": "code",
   "execution_count": 101,
   "metadata": {},
   "outputs": [
    {
     "data": {
      "text/plain": [
       "9"
      ]
     },
     "execution_count": 101,
     "metadata": {},
     "output_type": "execute_result"
    }
   ],
   "source": [
    "heapq.heappop(heap)"
   ]
  },
  {
   "cell_type": "code",
   "execution_count": 102,
   "metadata": {},
   "outputs": [
    {
     "name": "stdout",
     "output_type": "stream",
     "text": [
      "[10, 19, 11]\n"
     ]
    }
   ],
   "source": [
    "print(heap)"
   ]
  },
  {
   "cell_type": "code",
   "execution_count": 103,
   "metadata": {},
   "outputs": [
    {
     "data": {
      "text/plain": [
       "10"
      ]
     },
     "execution_count": 103,
     "metadata": {},
     "output_type": "execute_result"
    }
   ],
   "source": [
    "heapq.heappop(heap)"
   ]
  },
  {
   "cell_type": "code",
   "execution_count": 104,
   "metadata": {},
   "outputs": [
    {
     "name": "stdout",
     "output_type": "stream",
     "text": [
      "[11, 19]\n"
     ]
    }
   ],
   "source": [
    "print(heap)"
   ]
  },
  {
   "cell_type": "code",
   "execution_count": 105,
   "metadata": {},
   "outputs": [
    {
     "data": {
      "text/plain": [
       "11"
      ]
     },
     "execution_count": 105,
     "metadata": {},
     "output_type": "execute_result"
    }
   ],
   "source": [
    "heapq.heappop(heap)"
   ]
  },
  {
   "cell_type": "code",
   "execution_count": 106,
   "metadata": {},
   "outputs": [
    {
     "data": {
      "text/plain": [
       "19"
      ]
     },
     "execution_count": 106,
     "metadata": {},
     "output_type": "execute_result"
    }
   ],
   "source": [
    "heapq.heappop(heap)"
   ]
  },
  {
   "cell_type": "code",
   "execution_count": 107,
   "metadata": {},
   "outputs": [
    {
     "name": "stdout",
     "output_type": "stream",
     "text": [
      "[]\n"
     ]
    }
   ],
   "source": [
    "print(heap)"
   ]
  },
  {
   "cell_type": "code",
   "execution_count": 108,
   "metadata": {},
   "outputs": [
    {
     "ename": "IndexError",
     "evalue": "index out of range",
     "output_type": "error",
     "traceback": [
      "\u001b[0;31m---------------------------------------------------------------------------\u001b[0m",
      "\u001b[0;31mIndexError\u001b[0m                                Traceback (most recent call last)",
      "\u001b[0;32m<ipython-input-108-f09c97e0fb8a>\u001b[0m in \u001b[0;36m<module>\u001b[0;34m\u001b[0m\n\u001b[0;32m----> 1\u001b[0;31m \u001b[0mheapq\u001b[0m\u001b[0;34m.\u001b[0m\u001b[0mheappop\u001b[0m\u001b[0;34m(\u001b[0m\u001b[0mheap\u001b[0m\u001b[0;34m)\u001b[0m\u001b[0;34m\u001b[0m\u001b[0m\n\u001b[0m",
      "\u001b[0;31mIndexError\u001b[0m: index out of range"
     ]
    }
   ],
   "source": [
    "heapq.heappop(heap)"
   ]
  },
  {
   "cell_type": "markdown",
   "metadata": {},
   "source": [
    "# Binary Search Tree\n",
    "___\n",
    "- search\n",
    "- insert\n",
    "- delete\n",
    "\n",
    "## Search"
   ]
  },
  {
   "cell_type": "code",
   "execution_count": 109,
   "metadata": {},
   "outputs": [
    {
     "name": "stdout",
     "output_type": "stream",
     "text": [
      "\n",
      "    ______8\n",
      "   /       \\\n",
      "  3__       10___\n",
      " /   \\           \\\n",
      "1     6          _14\n",
      "     / \\        /\n",
      "    4   7      13\n",
      "\n"
     ]
    }
   ],
   "source": [
    "from binarytree import build, Node\n",
    "values = [8, 3, 10, 1, 6, None, 14, None, None, 4, 7, None, None, 13]\n",
    "root = build(values)\n",
    "print(root)"
   ]
  },
  {
   "cell_type": "code",
   "execution_count": 110,
   "metadata": {},
   "outputs": [
    {
     "data": {
      "text/plain": [
       "{'height': 3,\n",
       " 'size': 9,\n",
       " 'is_max_heap': False,\n",
       " 'is_min_heap': False,\n",
       " 'is_perfect': False,\n",
       " 'is_strict': False,\n",
       " 'is_complete': False,\n",
       " 'leaf_count': 4,\n",
       " 'min_node_value': 1,\n",
       " 'max_node_value': 14,\n",
       " 'min_leaf_depth': 2,\n",
       " 'max_leaf_depth': 3,\n",
       " 'is_bst': True,\n",
       " 'is_balanced': False,\n",
       " 'is_symmetric': False}"
      ]
     },
     "execution_count": 110,
     "metadata": {},
     "output_type": "execute_result"
    }
   ],
   "source": [
    "root.properties"
   ]
  },
  {
   "cell_type": "code",
   "execution_count": 111,
   "metadata": {},
   "outputs": [],
   "source": [
    "def bst_search(root, key):\n",
    "    if root is None:\n",
    "        return root\n",
    "    if root.value == key:\n",
    "        return root\n",
    "    if root.value < key:\n",
    "        return bst_search(root.right, key)\n",
    "    return bst_search(root.left, key)"
   ]
  },
  {
   "cell_type": "code",
   "execution_count": 112,
   "metadata": {},
   "outputs": [
    {
     "data": {
      "text/plain": [
       "Node(10)"
      ]
     },
     "execution_count": 112,
     "metadata": {},
     "output_type": "execute_result"
    }
   ],
   "source": [
    "bst_search(root, 10)"
   ]
  },
  {
   "cell_type": "code",
   "execution_count": 113,
   "metadata": {},
   "outputs": [],
   "source": [
    "bst_search(root, 20)"
   ]
  },
  {
   "cell_type": "markdown",
   "metadata": {},
   "source": [
    "## insert\n",
    "**insert를 할 때는 search가 기본이다. 적절한 parent를 찾아서 집어넣어야 한다.**"
   ]
  },
  {
   "cell_type": "code",
   "execution_count": 116,
   "metadata": {},
   "outputs": [],
   "source": [
    "\n",
    "def bst_insert(root, node):\n",
    "    if root is None:\n",
    "        root = node\n",
    "    else: \n",
    "        if root.value < node.value:\n",
    "            if root.right is None:\n",
    "                root.right = node\n",
    "            else:\n",
    "                bst_insert(root.right, node)\n",
    "        else:\n",
    "            if root.left is None:\n",
    "                root.left = node\n",
    "            else:\n",
    "                bst_insert(root.left, node)    "
   ]
  },
  {
   "cell_type": "code",
   "execution_count": 117,
   "metadata": {},
   "outputs": [],
   "source": [
    "# 이미 존재하는 값을 넣었을 때 추가\n",
    "def bst_insert(root, node):\n",
    "    if root is None:\n",
    "        root = node\n",
    "    else:\n",
    "        if root.value == node.value:\n",
    "            print('already exists')\n",
    "            return\n",
    "        if root.value < node.value:\n",
    "            if root.right is None:\n",
    "                root.right = node\n",
    "            else:\n",
    "                bst_insert(root.right, node)\n",
    "        else:\n",
    "            if root.left is None:\n",
    "                root.left = node\n",
    "            else:\n",
    "                bst_insert(root.left, node)    "
   ]
  },
  {
   "cell_type": "code",
   "execution_count": 118,
   "metadata": {},
   "outputs": [
    {
     "name": "stdout",
     "output_type": "stream",
     "text": [
      "already exists\n"
     ]
    }
   ],
   "source": [
    "bst_insert(root, Node(8))"
   ]
  },
  {
   "cell_type": "code",
   "execution_count": 76,
   "metadata": {},
   "outputs": [
    {
     "name": "stdout",
     "output_type": "stream",
     "text": [
      "\n",
      "    ______8\n",
      "   /       \\\n",
      "  3__       10___\n",
      " /   \\           \\\n",
      "1     6          _14\n",
      "     / \\        /\n",
      "    4   7      13\n",
      "\n"
     ]
    }
   ],
   "source": [
    "print(root)"
   ]
  },
  {
   "cell_type": "code",
   "execution_count": 77,
   "metadata": {},
   "outputs": [],
   "source": [
    "bst_insert(root, Node(20))"
   ]
  },
  {
   "cell_type": "code",
   "execution_count": 78,
   "metadata": {},
   "outputs": [
    {
     "name": "stdout",
     "output_type": "stream",
     "text": [
      "\n",
      "    ______8\n",
      "   /       \\\n",
      "  3__       10___\n",
      " /   \\           \\\n",
      "1     6          _14\n",
      "     / \\        /   \\\n",
      "    4   7      13    20\n",
      "\n"
     ]
    }
   ],
   "source": [
    "print(root)"
   ]
  },
  {
   "cell_type": "code",
   "execution_count": 79,
   "metadata": {},
   "outputs": [],
   "source": [
    "bst_insert(root, Node(5))"
   ]
  },
  {
   "cell_type": "code",
   "execution_count": 80,
   "metadata": {},
   "outputs": [
    {
     "name": "stdout",
     "output_type": "stream",
     "text": [
      "\n",
      "    ________8\n",
      "   /         \\\n",
      "  3____       10___\n",
      " /     \\           \\\n",
      "1     __6          _14\n",
      "     /   \\        /   \\\n",
      "    4     7      13    20\n",
      "     \\\n",
      "      5\n",
      "\n"
     ]
    }
   ],
   "source": [
    "print(root)"
   ]
  },
  {
   "cell_type": "code",
   "execution_count": 81,
   "metadata": {},
   "outputs": [],
   "source": [
    "bst_insert(root, Node(2))"
   ]
  },
  {
   "cell_type": "code",
   "execution_count": 82,
   "metadata": {},
   "outputs": [
    {
     "name": "stdout",
     "output_type": "stream",
     "text": [
      "\n",
      "      ________8\n",
      "     /         \\\n",
      "  __3____       10___\n",
      " /       \\           \\\n",
      "1       __6          _14\n",
      " \\     /   \\        /   \\\n",
      "  2   4     7      13    20\n",
      "       \\\n",
      "        5\n",
      "\n"
     ]
    }
   ],
   "source": [
    "print(root)"
   ]
  },
  {
   "cell_type": "markdown",
   "metadata": {},
   "source": [
    "## Deletion of a Key"
   ]
  },
  {
   "cell_type": "code",
   "execution_count": 114,
   "metadata": {},
   "outputs": [],
   "source": [
    "# 지울 node보다 큰 것 중에 제일 작은 걸 찾기 위한 함수\n",
    "def minValueNode(node):\n",
    "    current = node\n",
    "    while current.left is not None:\n",
    "        current = current.left\n",
    "        \n",
    "    return current"
   ]
  },
  {
   "cell_type": "code",
   "execution_count": 115,
   "metadata": {},
   "outputs": [],
   "source": [
    "# 지울 node보다 작은 것 중에 제일 큰 걸 찾기 위한 함수\n",
    "def maxValueNode(node):\n",
    "    curent = node\n",
    "    while current.right is not None:\n",
    "        current = current.right\n",
    "        \n",
    "    return current"
   ]
  },
  {
   "cell_type": "code",
   "execution_count": 124,
   "metadata": {},
   "outputs": [],
   "source": [
    "def bst_delete(root, key):\n",
    "    if root is None:\n",
    "        return root\n",
    "    \n",
    "    if key < root.value:\n",
    "        root.left = bst_delete(root.left, key)\n",
    "    elif key > root.value:\n",
    "        root.right = bst_delete(root.right, key)\n",
    "    else:\n",
    "        if root.left is None:\n",
    "            temp = root.right\n",
    "            root = None\n",
    "            return temp\n",
    "        elif root.right is None:\n",
    "            temp = root.left\n",
    "            root = None\n",
    "            return temp\n",
    "        \n",
    "        temp = minValueNode(root.right)\n",
    "        root.value = temp.value\n",
    "        root.right = bst_delete(root.right, temp.value)\n",
    "    return root"
   ]
  },
  {
   "cell_type": "code",
   "execution_count": 120,
   "metadata": {},
   "outputs": [
    {
     "name": "stdout",
     "output_type": "stream",
     "text": [
      "\n",
      "    ______8\n",
      "   /       \\\n",
      "  3__       10___\n",
      " /   \\           \\\n",
      "1     6          _14\n",
      "     / \\        /\n",
      "    4   7      13\n",
      "\n"
     ]
    }
   ],
   "source": [
    "print(root)"
   ]
  },
  {
   "cell_type": "code",
   "execution_count": 121,
   "metadata": {},
   "outputs": [
    {
     "data": {
      "text/plain": [
       "Node(8)"
      ]
     },
     "execution_count": 121,
     "metadata": {},
     "output_type": "execute_result"
    }
   ],
   "source": [
    "bst_delete(root, 10)"
   ]
  },
  {
   "cell_type": "code",
   "execution_count": 122,
   "metadata": {},
   "outputs": [
    {
     "name": "stdout",
     "output_type": "stream",
     "text": [
      "\n",
      "    ______8___\n",
      "   /          \\\n",
      "  3__         _14\n",
      " /   \\       /\n",
      "1     6     13\n",
      "     / \\\n",
      "    4   7\n",
      "\n"
     ]
    }
   ],
   "source": [
    "print(root)"
   ]
  },
  {
   "cell_type": "code",
   "execution_count": 125,
   "metadata": {},
   "outputs": [
    {
     "data": {
      "text/plain": [
       "Node(8)"
      ]
     },
     "execution_count": 125,
     "metadata": {},
     "output_type": "execute_result"
    }
   ],
   "source": [
    "bst_delete(root, 3)"
   ]
  },
  {
   "cell_type": "code",
   "execution_count": 126,
   "metadata": {},
   "outputs": [
    {
     "name": "stdout",
     "output_type": "stream",
     "text": [
      "\n",
      "    ______8___\n",
      "   /          \\\n",
      "  4__         _14\n",
      " /   \\       /\n",
      "1     6     13\n",
      "     / \\\n",
      "    4   7\n",
      "\n"
     ]
    }
   ],
   "source": [
    "print(root)"
   ]
  },
  {
   "cell_type": "code",
   "execution_count": null,
   "metadata": {},
   "outputs": [],
   "source": [
    "def bst_delete_predecessor(root, key):\n",
    "    if root is None:\n",
    "        return root\n",
    "    \n",
    "    if key < root.value:\n",
    "        root.left = bst_delete(root.left, key)\n",
    "    elif key > root.value:\n",
    "        root.right = bst_delete(root.right, key)\n",
    "    else:\n",
    "        if root.left is None:\n",
    "            temp = root.right\n",
    "            root = None\n",
    "            return temp\n",
    "        elif root.right is None:\n",
    "            temp = root.left\n",
    "            root = None\n",
    "            return temp\n",
    "        \n",
    "        temp = minValueNode(root.left)\n",
    "        root.value = temp.value\n",
    "        root.right = bst_delete(root.left, temp.value)\n",
    "    return root"
   ]
  }
 ],
 "metadata": {
  "kernelspec": {
   "display_name": "Python 3",
   "language": "python",
   "name": "python3"
  },
  "language_info": {
   "codemirror_mode": {
    "name": "ipython",
    "version": 3
   },
   "file_extension": ".py",
   "mimetype": "text/x-python",
   "name": "python",
   "nbconvert_exporter": "python",
   "pygments_lexer": "ipython3",
   "version": "3.6.0"
  }
 },
 "nbformat": 4,
 "nbformat_minor": 4
}
