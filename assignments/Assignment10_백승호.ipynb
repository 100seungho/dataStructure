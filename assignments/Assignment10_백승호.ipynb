{
 "cells": [
  {
   "cell_type": "markdown",
   "metadata": {},
   "source": [
    "# Assignment 10\n",
    "## Problem 1. \n",
    "Write a Pandas program to calculate the mean score for qualiﬁed students in DataFrame. Use the following data:\n",
    "\n",
    "```\n",
    "exam data = {’name’: [’Anastasia’, ’Dima’, ’Katherine’, ’James’, ’Emily’, ’Michael’, ’Matthew’, ’Laura’, ’Kevin’, ’Jonas’], ’score’: [12.5, 9, 16.5, 17.3, 9, 20, 14.5, 25.1, 8, 19], ’attempts’: [1, 3, 2, 3, 2, 3, 1, 1, 2, 1], ’qualify’: [’yes’, ’no’, ’yes’, ’no’, ’no’, ’yes’, ’yes’, ’no’, ’no’, ’yes’]}\n",
    "\n",
    "labels = [’a’, ’b’, ’c’, ’d’, ’e’, ’f’, ’g’, ’h’, ’i’, ’j’]\n",
    "```"
   ]
  },
  {
   "cell_type": "code",
   "execution_count": 5,
   "metadata": {},
   "outputs": [],
   "source": [
    "import pandas as pd"
   ]
  },
  {
   "cell_type": "code",
   "execution_count": 13,
   "metadata": {},
   "outputs": [],
   "source": [
    "data = {'name': ['Anastasia', 'Dima', 'Katherine', 'James', 'Emily', 'Michael', 'Matthew', 'Laura', 'Kevin', 'Jonas'], 'score':[12.5, 9, 16.5, 17.3, 9, 20, 14.5, 25.1, 8, 19], 'attempts': [1,3,2,3,2,3,1,1,2,1], 'qualify':['yes', 'no', 'yes', 'no', 'no', 'yes', 'yes', 'no', 'no', 'yes']}\n",
    "labels = ['a', 'b', 'c', 'd', 'e', 'f', 'g', 'h', 'i', 'j']"
   ]
  },
  {
   "cell_type": "code",
   "execution_count": 15,
   "metadata": {},
   "outputs": [],
   "source": [
    "df = pd.DataFrame(data, columns = ['name', 'score', 'attempts', 'qualify'], index = labels)"
   ]
  },
  {
   "cell_type": "code",
   "execution_count": 20,
   "metadata": {},
   "outputs": [],
   "source": [
    "groupedby_qualify = df.groupby('qualify')"
   ]
  },
  {
   "cell_type": "code",
   "execution_count": 21,
   "metadata": {},
   "outputs": [
    {
     "data": {
      "text/plain": [
       "qualify\n",
       "no     13.68\n",
       "yes    16.50\n",
       "Name: score, dtype: float64"
      ]
     },
     "execution_count": 21,
     "metadata": {},
     "output_type": "execute_result"
    }
   ],
   "source": [
    "groupedby_qualify['score'].agg('mean')"
   ]
  },
  {
   "cell_type": "markdown",
   "metadata": {},
   "source": [
    "# Problem 2.\n",
    "Suppose you have the following list of numbers to sort: [19, 1, 9, 7, 3, 10, 13, 15, 8, 12] What list represents the partially sorted list after three complete passes of bubble sort?"
   ]
  },
  {
   "cell_type": "markdown",
   "metadata": {},
   "source": [
    "**[1, 3, 7, 9, 10, 8, 12, 13, 15, 19]**"
   ]
  },
  {
   "cell_type": "markdown",
   "metadata": {},
   "source": [
    "## Problem 3.\n",
    "Given the following list of numbers [14, 17, 13, 15, 19, 10, 3, 16, 9, 12]. What is the list after the ﬁrst partitioning according to the quicksort algorithm?"
   ]
  },
  {
   "cell_type": "markdown",
   "metadata": {},
   "source": [
    "**[13, 10, 3, 9, 12, 14, 17, 15, 19, 16]**"
   ]
  },
  {
   "cell_type": "markdown",
   "metadata": {},
   "source": [
    "## Problem 4.\n",
    "Given an array of integers, create a Python function that uses the bubble sort algorithm and returns an array of the squares of each number in sorted non-decreasing order.\n",
    "\n",
    "Example:\n",
    "\n",
    "• [-1, 3, 0, 10, -4] → [0, 1, 9, 16, 100]"
   ]
  },
  {
   "cell_type": "code",
   "execution_count": 44,
   "metadata": {},
   "outputs": [],
   "source": [
    "def BubbleSort(L):\n",
    "    n = len(L)\n",
    "    for i in range(n):\n",
    "        for j in range(0, n - i - 1):\n",
    "            if L[j] > L[j + 1]:\n",
    "                L[j], L[j + 1] = L[j + 1], L[j]\n",
    "    return L\n",
    "\n",
    "def Square(x):\n",
    "    return x ** 2\n",
    "\n",
    "def Func(L):\n",
    "    squaredList = list(map(Square, L))\n",
    "    return BubbleSort(squaredList)\n",
    "\n",
    "L = [-1,3,0,10,-4]"
   ]
  },
  {
   "cell_type": "code",
   "execution_count": 45,
   "metadata": {},
   "outputs": [
    {
     "data": {
      "text/plain": [
       "[0, 1, 9, 16, 100]"
      ]
     },
     "execution_count": 45,
     "metadata": {},
     "output_type": "execute_result"
    }
   ],
   "source": [
    "Func(L)"
   ]
  }
 ],
 "metadata": {
  "kernelspec": {
   "display_name": "Python 3",
   "language": "python",
   "name": "python3"
  },
  "language_info": {
   "codemirror_mode": {
    "name": "ipython",
    "version": 3
   },
   "file_extension": ".py",
   "mimetype": "text/x-python",
   "name": "python",
   "nbconvert_exporter": "python",
   "pygments_lexer": "ipython3",
   "version": "3.6.0"
  }
 },
 "nbformat": 4,
 "nbformat_minor": 4
}
