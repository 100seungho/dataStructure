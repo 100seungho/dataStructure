{
 "cells": [
  {
   "cell_type": "markdown",
   "metadata": {},
   "source": [
    "# Assignment 3\n",
    "2015-11011\n",
    "의류학과 백승호\n",
    "\n",
    "## Problem1. \n",
    "Draw the recursion trace for the computation of `power(2,18)`, using the repeated squaring algorithm, as implemented in the following code fragment:  "
   ]
  },
  {
   "cell_type": "code",
   "execution_count": 85,
   "metadata": {},
   "outputs": [],
   "source": [
    "def power(x, n):\n",
    "    if n == 0:\n",
    "        return 1\n",
    "    else:\n",
    "        partial = power(x, n//2)\n",
    "        result = partial * partial \n",
    "        if n % 2 == 1:\n",
    "            result *= x\n",
    "        return result"
   ]
  },
  {
   "cell_type": "markdown",
   "metadata": {},
   "source": [
    "|-- $power(2,18)$"
   ]
  },
  {
   "cell_type": "markdown",
   "metadata": {},
   "source": [
    "|--|-- `power(2,9)`"
   ]
  },
  {
   "cell_type": "markdown",
   "metadata": {},
   "source": [
    "|--|--|-- $power(2,4)$"
   ]
  },
  {
   "cell_type": "markdown",
   "metadata": {},
   "source": [
    "|--|--|--|-- `power(2,2)`"
   ]
  },
  {
   "cell_type": "markdown",
   "metadata": {},
   "source": [
    "|--|--|--|--|-- *power(2,1)*"
   ]
  },
  {
   "cell_type": "markdown",
   "metadata": {},
   "source": [
    "|--|--|--|--|--|-- `power(2,0)`"
   ]
  },
  {
   "cell_type": "markdown",
   "metadata": {},
   "source": [
    "|--|--|--|--|--|-- `return 1`"
   ]
  },
  {
   "cell_type": "markdown",
   "metadata": {},
   "source": [
    "|--|--|--|--|-- return 1 * 1 * 2 = 2"
   ]
  },
  {
   "cell_type": "markdown",
   "metadata": {},
   "source": [
    "|--|--|--|-- `return 2 * 2 = 4`"
   ]
  },
  {
   "cell_type": "markdown",
   "metadata": {},
   "source": [
    "|--|--|-- _return 4 * 4 = 16_"
   ]
  },
  {
   "cell_type": "markdown",
   "metadata": {},
   "source": [
    "|--|-- `return 2 * 16 * 16 = 512`"
   ]
  },
  {
   "cell_type": "markdown",
   "metadata": {},
   "source": [
    "|-- _return 512 * 512 = 262,144_"
   ]
  },
  {
   "cell_type": "markdown",
   "metadata": {},
   "source": [
    "## Problem2.\n",
    "Describe a recursive function for computing the n th Harmonic number,\n",
    "$H_n = \\sum_{i=1}^n{1}/{i}.$"
   ]
  },
  {
   "cell_type": "code",
   "execution_count": 51,
   "metadata": {},
   "outputs": [],
   "source": [
    "def harmony(n):\n",
    "    if n == 1:\n",
    "        return 1\n",
    "    else:\n",
    "        return 1/n + harmony(n-1)"
   ]
  },
  {
   "cell_type": "markdown",
   "metadata": {},
   "source": [
    "## Problem3.\n",
    "Give a big-Oh characterization, in terms of N, of the running time of the following code fragment: "
   ]
  },
  {
   "cell_type": "code",
   "execution_count": 8,
   "metadata": {},
   "outputs": [],
   "source": [
    "def fun(n):\n",
    "    if n <= 0:\n",
    "        return 1\n",
    "    else:\n",
    "        return 1 + fun(n//3)"
   ]
  },
  {
   "cell_type": "markdown",
   "metadata": {},
   "source": [
    "- number of function calls: $O(log_3n)$\n",
    "- number of operations in each activation: $O(1)$"
   ]
  },
  {
   "cell_type": "markdown",
   "metadata": {},
   "source": [
    "## Problem4.\n",
    " We want to develop a nonrecursive implementation of the version of power from the code fragment in Problem 1. Please complete the commented line: "
   ]
  },
  {
   "cell_type": "code",
   "execution_count": 204,
   "metadata": {},
   "outputs": [],
   "source": [
    "def power2(x,n):\n",
    "    res = 1\n",
    "    while n > 0:\n",
    "        if (n % 2 == 1):\n",
    "            res *= x\n",
    "        n = n // 2\n",
    "        x = x * x\n",
    "    return res"
   ]
  }
 ],
 "metadata": {
  "kernelspec": {
   "display_name": "Python 3",
   "language": "python",
   "name": "python3"
  },
  "language_info": {
   "codemirror_mode": {
    "name": "ipython",
    "version": 3
   },
   "file_extension": ".py",
   "mimetype": "text/x-python",
   "name": "python",
   "nbconvert_exporter": "python",
   "pygments_lexer": "ipython3",
   "version": "3.6.0"
  }
 },
 "nbformat": 4,
 "nbformat_minor": 4
}
