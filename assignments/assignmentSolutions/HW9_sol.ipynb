{
 "cells": [
  {
   "cell_type": "code",
   "execution_count": 1,
   "metadata": {},
   "outputs": [],
   "source": [
    "# Problem 1"
   ]
  },
  {
   "cell_type": "code",
   "execution_count": null,
   "metadata": {},
   "outputs": [],
   "source": [
    "# (1,D), (3, J), (4, B), (5, A), (2, H), (6, L)"
   ]
  },
  {
   "cell_type": "code",
   "execution_count": 1,
   "metadata": {},
   "outputs": [],
   "source": [
    "# Problem 2"
   ]
  },
  {
   "cell_type": "code",
   "execution_count": 3,
   "metadata": {},
   "outputs": [],
   "source": [
    "from binarytree import build, Node\n",
    "values = [20, 15, 25, 10, 18, None, None, None, 12, 17, 19, None, None, None, None, None, None, None, None, 16]\n",
    "root = build(values)"
   ]
  },
  {
   "cell_type": "code",
   "execution_count": 4,
   "metadata": {},
   "outputs": [
    {
     "name": "stdout",
     "output_type": "stream",
     "text": [
      "\n",
      "        _____________20\n",
      "       /               \\\n",
      "  ____15______          25\n",
      " /            \\\n",
      "10            _18\n",
      "  \\          /   \\\n",
      "   12      _17    19\n",
      "          /\n",
      "         16\n",
      "\n"
     ]
    }
   ],
   "source": [
    "print(root)"
   ]
  },
  {
   "cell_type": "code",
   "execution_count": 5,
   "metadata": {},
   "outputs": [
    {
     "name": "stdout",
     "output_type": "stream",
     "text": [
      "15\n"
     ]
    }
   ],
   "source": [
    "def bst_min(root):\n",
    "    current = root\n",
    "    while current.left is not None:\n",
    "        current = current.left\n",
    "    return current\n",
    "def bst_max(root):\n",
    "    current = root\n",
    "    while current.right is not None:\n",
    "        current = current.right\n",
    "    return current\n",
    "\n",
    "print(bst_max(root).value - bst_min(root).value)"
   ]
  },
  {
   "cell_type": "code",
   "execution_count": 2,
   "metadata": {},
   "outputs": [],
   "source": [
    "# Problem 3"
   ]
  },
  {
   "cell_type": "code",
   "execution_count": 3,
   "metadata": {},
   "outputs": [
    {
     "data": {
      "text/plain": [
       "'\\n        _______27______\\n       /                 ____17            ____45___\\n /      \\\\          /         11       24       30         _58\\n  \\\\        \\\\        \\\\       /\\n   13       26       40    48\\n'"
      ]
     },
     "execution_count": 3,
     "metadata": {},
     "output_type": "execute_result"
    }
   ],
   "source": [
    "'''\n",
    "        _______27______\n",
    "       /               \\\n",
    "  ____17            ____45___\n",
    " /      \\          /         \\\n",
    "11       24       30         _58\n",
    "  \\        \\        \\       /\n",
    "   13       26       40    48\n",
    "'''"
   ]
  },
  {
   "cell_type": "code",
   "execution_count": 4,
   "metadata": {},
   "outputs": [],
   "source": [
    "# Problem 4"
   ]
  },
  {
   "cell_type": "code",
   "execution_count": 5,
   "metadata": {},
   "outputs": [
    {
     "data": {
      "text/plain": [
       "'\\nPrecedessor\\n        _____________20\\n       /                 ____12______          25\\n /            10            _18\\n             /              _17    19\\n          /\\n         16\\n'"
      ]
     },
     "execution_count": 5,
     "metadata": {},
     "output_type": "execute_result"
    }
   ],
   "source": [
    "'''\n",
    "Precedessor\n",
    "        _____________20\n",
    "       /               \\\n",
    "  ____12______          25\n",
    " /            \\\n",
    "10            _18\n",
    "             /   \\\n",
    "           _17    19\n",
    "          /\n",
    "         16\n",
    "'''"
   ]
  },
  {
   "cell_type": "code",
   "execution_count": 6,
   "metadata": {},
   "outputs": [
    {
     "data": {
      "text/plain": [
       "'\\nSuccessor\\n        _____________20\\n       /                 ____16______          25\\n /            10            _18\\n  \\\\          /      12       17    19\\n'"
      ]
     },
     "execution_count": 6,
     "metadata": {},
     "output_type": "execute_result"
    }
   ],
   "source": [
    "'''\n",
    "Successor\n",
    "        _____________20\n",
    "       /               \\\n",
    "  ____16______          25\n",
    " /            \\\n",
    "10            _18\n",
    "  \\          /   \\\n",
    "   12       17    19\n",
    "'''"
   ]
  },
  {
   "cell_type": "code",
   "execution_count": null,
   "metadata": {},
   "outputs": [],
   "source": []
  }
 ],
 "metadata": {
  "kernelspec": {
   "display_name": "Python 3",
   "language": "python",
   "name": "python3"
  },
  "language_info": {
   "codemirror_mode": {
    "name": "ipython",
    "version": 3
   },
   "file_extension": ".py",
   "mimetype": "text/x-python",
   "name": "python",
   "nbconvert_exporter": "python",
   "pygments_lexer": "ipython3",
   "version": "3.7.4"
  }
 },
 "nbformat": 4,
 "nbformat_minor": 2
}
