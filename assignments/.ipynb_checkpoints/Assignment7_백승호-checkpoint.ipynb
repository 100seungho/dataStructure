{
 "cells": [
  {
   "cell_type": "markdown",
   "metadata": {},
   "source": [
    "# Assignment7_백승호\n",
    "## Problem 1.\n",
    "Write a program to print each line of a file in reverse order.\n",
    "\n",
    "_Hint: A stack would be helpful_"
   ]
  },
  {
   "cell_type": "code",
   "execution_count": 109,
   "metadata": {},
   "outputs": [],
   "source": [
    "fp = open('revers.txt', 'w')"
   ]
  },
  {
   "cell_type": "code",
   "execution_count": 110,
   "metadata": {},
   "outputs": [],
   "source": [
    "import queue"
   ]
  },
  {
   "cell_type": "code",
   "execution_count": 111,
   "metadata": {},
   "outputs": [
    {
     "data": {
      "text/plain": [
       "18"
      ]
     },
     "execution_count": 111,
     "metadata": {},
     "output_type": "execute_result"
    }
   ],
   "source": [
    "fp.write('This is 1st line.\\n')"
   ]
  },
  {
   "cell_type": "code",
   "execution_count": 112,
   "metadata": {},
   "outputs": [
    {
     "data": {
      "text/plain": [
       "18"
      ]
     },
     "execution_count": 112,
     "metadata": {},
     "output_type": "execute_result"
    }
   ],
   "source": [
    "fp.write('This is 2nd line.\\n')"
   ]
  },
  {
   "cell_type": "code",
   "execution_count": 113,
   "metadata": {},
   "outputs": [
    {
     "data": {
      "text/plain": [
       "18"
      ]
     },
     "execution_count": 113,
     "metadata": {},
     "output_type": "execute_result"
    }
   ],
   "source": [
    "fp.write('This is 3rd line.\\n')"
   ]
  },
  {
   "cell_type": "code",
   "execution_count": 114,
   "metadata": {},
   "outputs": [],
   "source": [
    "fp.close()"
   ]
  },
  {
   "cell_type": "code",
   "execution_count": 115,
   "metadata": {},
   "outputs": [],
   "source": [
    "fp = open('revers.txt', 'r')"
   ]
  },
  {
   "cell_type": "code",
   "execution_count": 116,
   "metadata": {},
   "outputs": [
    {
     "name": "stdout",
     "output_type": "stream",
     "text": [
      "This is 1st line.\n",
      "This is 2nd line.\n",
      "This is 3rd line.\n",
      "\n"
     ]
    }
   ],
   "source": [
    "print(fp.read())"
   ]
  },
  {
   "cell_type": "code",
   "execution_count": 117,
   "metadata": {},
   "outputs": [],
   "source": [
    "def go_reverse(file_name):\n",
    "    import queue\n",
    "    S = queue.LifoQueue()\n",
    "    with open(file_name) as fp:\n",
    "        for line in fp:\n",
    "            S.put(line)\n",
    "    while not S.empty():\n",
    "        print(S.get())"
   ]
  },
  {
   "cell_type": "code",
   "execution_count": 118,
   "metadata": {},
   "outputs": [
    {
     "name": "stdout",
     "output_type": "stream",
     "text": [
      "This is 3rd line.\n",
      "\n",
      "This is 2nd line.\n",
      "\n",
      "This is 1st line.\n",
      "\n"
     ]
    }
   ],
   "source": [
    "go_reverse('revers.txt')"
   ]
  },
  {
   "cell_type": "markdown",
   "metadata": {},
   "source": [
    "## Problem 2.\n",
    "Assume that all values in dictionary D are integers. Write a Python program to sum all the items in D. Example:\n",
    "- {'a':10, 'b':24} -> 34"
   ]
  },
  {
   "cell_type": "code",
   "execution_count": 121,
   "metadata": {},
   "outputs": [],
   "source": [
    "def sum_items(d):\n",
    "    sum = 0\n",
    "    for i in d: \n",
    "        sum = sum + d[i]\n",
    "    return sum"
   ]
  },
  {
   "cell_type": "code",
   "execution_count": 122,
   "metadata": {},
   "outputs": [
    {
     "data": {
      "text/plain": [
       "34"
      ]
     },
     "execution_count": 122,
     "metadata": {},
     "output_type": "execute_result"
    }
   ],
   "source": [
    "D = {'a':10, 'b':24}\n",
    "sum_items(D)"
   ]
  },
  {
   "cell_type": "markdown",
   "metadata": {},
   "source": [
    "## Problem 3.\n",
    "Create a function that returns the frequency distribution of a list. This function should return a dictionary object, where the keys are the unique elements and the values are the frequency in which those elements occur. If given an empty list, return an empty object.\n",
    "Example:\n",
    "- [1,2,3,2,1] -> {1:2, 2:2, 3:1}\n",
    "- ['blue', 'yellow', 'yellow', 'red', 'yellow', 'blue'] -> {'blue':2, 'yellow':3, 'red':1}"
   ]
  },
  {
   "cell_type": "code",
   "execution_count": 139,
   "metadata": {},
   "outputs": [],
   "source": [
    "def get_frequency(L): # L is the input list\n",
    "    D = {}\n",
    "    for i in L:\n",
    "        if i not in D.keys():\n",
    "            D[i] = 0\n",
    "            D[i] += 1\n",
    "        else:\n",
    "            D[i] += 1\n",
    "    return D"
   ]
  },
  {
   "cell_type": "code",
   "execution_count": 140,
   "metadata": {},
   "outputs": [],
   "source": [
    "L = [1,2,3,2,1]"
   ]
  },
  {
   "cell_type": "code",
   "execution_count": 141,
   "metadata": {},
   "outputs": [
    {
     "data": {
      "text/plain": [
       "{1: 2, 2: 2, 3: 1}"
      ]
     },
     "execution_count": 141,
     "metadata": {},
     "output_type": "execute_result"
    }
   ],
   "source": [
    "get_frequency(L)"
   ]
  },
  {
   "cell_type": "markdown",
   "metadata": {},
   "source": [
    "## Problem 4.\n",
    "Write a Python program to combine dictionaries adding values for common keys.\n",
    "- [{'a':1,'b':2}, {’b’:5, ’c’:7}, {’a’:2, ’d’:10}] → {’a’:3, ’b’:7, ’c’:7, ’d’:10}`\n"
   ]
  },
  {
   "cell_type": "code",
   "execution_count": 129,
   "metadata": {},
   "outputs": [],
   "source": [
    "def merge_dictionary(L): # L is the input list of dictionaries\n",
    "    # implement this function\n",
    "    D = {}\n",
    "    for d in L:\n",
    "        for d_key in d:\n",
    "            if d_key not in D.keys():\n",
    "                D[d_key] = d[d_key]\n",
    "            else:\n",
    "                D[d_key] += d[d_key]    \n",
    "    return D"
   ]
  },
  {
   "cell_type": "code",
   "execution_count": 131,
   "metadata": {},
   "outputs": [],
   "source": [
    "sample = [{'a':1,'b':2}, {'b':5, 'c':7}, {'a':2, 'd':10}]"
   ]
  },
  {
   "cell_type": "code",
   "execution_count": 132,
   "metadata": {},
   "outputs": [
    {
     "data": {
      "text/plain": [
       "{'a': 3, 'b': 7, 'c': 7, 'd': 10}"
      ]
     },
     "execution_count": 132,
     "metadata": {},
     "output_type": "execute_result"
    }
   ],
   "source": [
    "merge_dictionary(sample)"
   ]
  },
  {
   "cell_type": "code",
   "execution_count": null,
   "metadata": {},
   "outputs": [],
   "source": []
  }
 ],
 "metadata": {
  "kernelspec": {
   "display_name": "Python 3",
   "language": "python",
   "name": "python3"
  },
  "language_info": {
   "codemirror_mode": {
    "name": "ipython",
    "version": 3
   },
   "file_extension": ".py",
   "mimetype": "text/x-python",
   "name": "python",
   "nbconvert_exporter": "python",
   "pygments_lexer": "ipython3",
   "version": "3.6.0"
  }
 },
 "nbformat": 4,
 "nbformat_minor": 4
}
