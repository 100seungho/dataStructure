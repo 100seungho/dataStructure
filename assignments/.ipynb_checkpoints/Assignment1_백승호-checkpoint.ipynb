{
 "cells": [
  {
   "cell_type": "markdown",
   "metadata": {},
   "source": [
    "# Problem 1. \n",
    "We want to write a program that takes a list and makes a new list of only the first and last elements of the given list. Please complete the commented line. "
   ]
  },
  {
   "cell_type": "code",
   "execution_count": 16,
   "metadata": {},
   "outputs": [],
   "source": [
    "def extract_first_and_last(L):\n",
    "    first = 0\n",
    "    last = len(L)-1\n",
    "    return [L[first], L[last]]"
   ]
  },
  {
   "cell_type": "code",
   "execution_count": 13,
   "metadata": {},
   "outputs": [],
   "source": [
    "numbers = [1,2,3,4,5]"
   ]
  },
  {
   "cell_type": "code",
   "execution_count": 17,
   "metadata": {},
   "outputs": [
    {
     "name": "stdout",
     "output_type": "stream",
     "text": [
      "[1, 5]\n"
     ]
    }
   ],
   "source": [
    "print(extract_first_and_last(numbers))"
   ]
  },
  {
   "cell_type": "markdown",
   "metadata": {},
   "source": [
    "## Problem 2.\n",
    "Write a short Python function, is odd(n), that takes one integer value and returns True if n is an odd number and False otherwise."
   ]
  },
  {
   "cell_type": "code",
   "execution_count": 30,
   "metadata": {},
   "outputs": [],
   "source": [
    "def is_odd(n):\n",
    "    if type(n) == int and (n % 2) == 1:\n",
    "        return True\n",
    "    else:\n",
    "        return False"
   ]
  },
  {
   "cell_type": "code",
   "execution_count": 31,
   "metadata": {},
   "outputs": [
    {
     "name": "stdout",
     "output_type": "stream",
     "text": [
      "False\n",
      "True\n",
      "False\n",
      "False\n"
     ]
    }
   ],
   "source": [
    "print(is_odd(\"String\"))\n",
    "print(is_odd(3))\n",
    "print(is_odd(2))\n",
    "print(is_odd(3.0))"
   ]
  },
  {
   "cell_type": "markdown",
   "metadata": {},
   "source": [
    "## Problem 3. \n",
    "Write a short Python function, sum of squares(n), that takes a positive integer n and returns the sum of the squares of all the positive integers smaller than n.\n"
   ]
  },
  {
   "cell_type": "code",
   "execution_count": 1,
   "metadata": {},
   "outputs": [],
   "source": [
    "def sum_of_squares(n):\n",
    "    _sum = 0\n",
    "    while n > 0 and type(n) == int:\n",
    "        _sum += (n - 1)**2\n",
    "        n -= 1\n",
    "    return(_sum)"
   ]
  },
  {
   "cell_type": "code",
   "execution_count": 2,
   "metadata": {},
   "outputs": [
    {
     "name": "stdout",
     "output_type": "stream",
     "text": [
      "30\n",
      "14\n",
      "5\n",
      "1\n",
      "0\n"
     ]
    }
   ],
   "source": [
    "print(sum_of_squares(5))\n",
    "print(sum_of_squares(4))\n",
    "print(sum_of_squares(3))\n",
    "print(sum_of_squares(2))\n",
    "print(sum_of_squares(1))"
   ]
  },
  {
   "cell_type": "markdown",
   "metadata": {},
   "source": [
    "## Problem 4.\n",
    "Write a short Python function that generates a dictionary that contains a number between 1 and n in the form (x, x3). For example, if n = 5, the expected output will be {1 : 1, 2 : 8, 3 : 27, 4 : 64, 5 : 125}."
   ]
  },
  {
   "cell_type": "code",
   "execution_count": 44,
   "metadata": {},
   "outputs": [],
   "source": [
    "def gen_dict(n):\n",
    "    _dict = {}\n",
    "    while n > 0 and type(n) == int:\n",
    "        _dict[n] = n ** 3\n",
    "        n -= 1\n",
    "    return(_dict)"
   ]
  },
  {
   "cell_type": "code",
   "execution_count": 46,
   "metadata": {},
   "outputs": [
    {
     "name": "stdout",
     "output_type": "stream",
     "text": [
      "{3: 27, 2: 8, 1: 1}\n",
      "{5: 125, 4: 64, 3: 27, 2: 8, 1: 1}\n"
     ]
    }
   ],
   "source": [
    "print(gen_dict(3))\n",
    "print(gen_dict(5))"
   ]
  },
  {
   "cell_type": "code",
   "execution_count": 1,
   "metadata": {},
   "outputs": [],
   "source": [
    "def dict_cubed_alter(n):\n",
    "    return {i:i ** 3 for i in range(1, n+1)}"
   ]
  },
  {
   "cell_type": "code",
   "execution_count": 2,
   "metadata": {},
   "outputs": [
    {
     "name": "stdout",
     "output_type": "stream",
     "text": [
      "{1: 1, 2: 8, 3: 27, 4: 64, 5: 125}\n"
     ]
    }
   ],
   "source": [
    "print(dict_cubed_alter(5))"
   ]
  },
  {
   "cell_type": "code",
   "execution_count": null,
   "metadata": {},
   "outputs": [],
   "source": []
  }
 ],
 "metadata": {
  "kernelspec": {
   "display_name": "Python 3",
   "language": "python",
   "name": "python3"
  },
  "language_info": {
   "codemirror_mode": {
    "name": "ipython",
    "version": 3
   },
   "file_extension": ".py",
   "mimetype": "text/x-python",
   "name": "python",
   "nbconvert_exporter": "python",
   "pygments_lexer": "ipython3",
   "version": "3.6.0"
  }
 },
 "nbformat": 4,
 "nbformat_minor": 4
}
