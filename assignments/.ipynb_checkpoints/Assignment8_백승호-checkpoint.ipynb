{
 "cells": [
  {
   "cell_type": "markdown",
   "metadata": {},
   "source": [
    "# Assignment 8\n",
    "의류학과 백승호, 2015-11011\n",
    "## Problem 1.\n",
    "**The following questions refer to the tree on page 10 of the lecture note 9:**\n",
    "\n",
    "1. Which node is the root?\n",
    "\n",
    "    A: `Electronics R' Us`\n",
    "    \n",
    "2. What are the internal nodes?\n",
    "\n",
    "    A: `Electronics R' Us`, `Sales`, `International`, `Overseas`, `Manufacturing`\n",
    "\n",
    "3. What are the siblings of node TV?\n",
    "\n",
    "    A: `CD`, `Tuner`\n",
    "    \n",
    "4. What is the depth of node International?\n",
    "\n",
    "    A: 2\n",
    "\n",
    "5. What is the height of the tree?\n",
    "\n",
    "    A: 4\n"
   ]
  },
  {
   "cell_type": "markdown",
   "metadata": {},
   "source": [
    "## Problem2. \n",
    "**A tree T has 10 internal nodes. If every internal node in T has exactly 3 children, what is the number of external nodes?**\n",
    "\n",
    "A: 7"
   ]
  },
  {
   "cell_type": "markdown",
   "metadata": {},
   "source": [
    "# Problem3.\n",
    "Assume that all values in a binary tree T are integers. Write a Python program for ﬁnding the sum of all elements in a binary tree."
   ]
  },
  {
   "cell_type": "code",
   "execution_count": 46,
   "metadata": {},
   "outputs": [],
   "source": [
    "class Node:\n",
    "    def __init__(self, value, left = None, right = None):\n",
    "        self.value = value\n",
    "        self.left = left\n",
    "        self.right = right\n",
    "        \n",
    "def sum_BT(root): # root is the root node for T\n",
    "    # implement this function\n",
    "    if root is None:\n",
    "        return 0\n",
    "    return root.value + sum_BT(root.left) + sum_BT(root.right)\n"
   ]
  },
  {
   "cell_type": "code",
   "execution_count": 47,
   "metadata": {},
   "outputs": [],
   "source": [
    "root = Node(1)\n",
    "root.left = Node(2)\n",
    "root.right = Node(3)\n",
    "root.left.right = Node(4)"
   ]
  },
  {
   "cell_type": "code",
   "execution_count": 48,
   "metadata": {},
   "outputs": [
    {
     "data": {
      "text/plain": [
       "10"
      ]
     },
     "execution_count": 48,
     "metadata": {},
     "output_type": "execute_result"
    }
   ],
   "source": [
    "sum_BT(root)"
   ]
  },
  {
   "cell_type": "markdown",
   "metadata": {},
   "source": [
    "# Problem 4. \n",
    "Draw a binary tree T that simultaneously satisfies the following:\n",
    "\n",
    "- Each internal node of T stores a single character.\n",
    "- A preorder traversal of T yields EXAMFUN.\n",
    "- An inorder traversal of T yields MAFXUEN."
   ]
  },
  {
   "cell_type": "code",
   "execution_count": 50,
   "metadata": {},
   "outputs": [],
   "source": [
    "root = Node('E')\n",
    "root.left = Node('X')\n",
    "root.right = Node('N')\n",
    "root.left.left = Node('A')\n",
    "root.left.right = Node('U')\n",
    "root.left.left.left = Node('M')\n",
    "root.left.left.right = Node('F')"
   ]
  },
  {
   "cell_type": "code",
   "execution_count": null,
   "metadata": {},
   "outputs": [],
   "source": [
    "'''\n",
    "        E\n",
    "       / \\\n",
    "      X   N\n",
    "     / \\ \n",
    "    A   U\n",
    "   / \\\n",
    "  M   F\n",
    "'''"
   ]
  },
  {
   "cell_type": "code",
   "execution_count": 39,
   "metadata": {},
   "outputs": [],
   "source": [
    "def preorder(root):\n",
    "    if root is None:\n",
    "        return\n",
    "    print(root.value)\n",
    "    preorder(root.left)\n",
    "    preorder(root.right)"
   ]
  },
  {
   "cell_type": "code",
   "execution_count": 40,
   "metadata": {},
   "outputs": [
    {
     "name": "stdout",
     "output_type": "stream",
     "text": [
      "E\n",
      "X\n",
      "A\n",
      "M\n",
      "F\n",
      "U\n",
      "N\n"
     ]
    }
   ],
   "source": [
    "preorder(root)"
   ]
  },
  {
   "cell_type": "code",
   "execution_count": 41,
   "metadata": {},
   "outputs": [],
   "source": [
    "def inorder(root):\n",
    "    if root is None:\n",
    "        return\n",
    "    inorder(root.left)\n",
    "    print(root.value)\n",
    "    inorder(root.right)"
   ]
  },
  {
   "cell_type": "code",
   "execution_count": 42,
   "metadata": {},
   "outputs": [
    {
     "name": "stdout",
     "output_type": "stream",
     "text": [
      "M\n",
      "A\n",
      "F\n",
      "X\n",
      "U\n",
      "E\n",
      "N\n"
     ]
    }
   ],
   "source": [
    "inorder(root)"
   ]
  },
  {
   "cell_type": "code",
   "execution_count": null,
   "metadata": {},
   "outputs": [],
   "source": []
  }
 ],
 "metadata": {
  "kernelspec": {
   "display_name": "Python 3",
   "language": "python",
   "name": "python3"
  },
  "language_info": {
   "codemirror_mode": {
    "name": "ipython",
    "version": 3
   },
   "file_extension": ".py",
   "mimetype": "text/x-python",
   "name": "python",
   "nbconvert_exporter": "python",
   "pygments_lexer": "ipython3",
   "version": "3.6.0"
  }
 },
 "nbformat": 4,
 "nbformat_minor": 4
}
