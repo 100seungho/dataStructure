{
 "cells": [
  {
   "cell_type": "code",
   "execution_count": 3,
   "metadata": {},
   "outputs": [],
   "source": [
    "import pandas as pd"
   ]
  },
  {
   "cell_type": "code",
   "execution_count": 4,
   "metadata": {},
   "outputs": [],
   "source": [
    "albas = pd.read_csv('alba.csv')"
   ]
  },
  {
   "cell_type": "code",
   "execution_count": 5,
   "metadata": {},
   "outputs": [
    {
     "name": "stdout",
     "output_type": "stream",
     "text": [
      "                        name                         description geo  \\\n",
      "0               송파 장지 서울복합물류    내일가능#당일지급#152,300원#초보가능#하루가능#야간풀  서울   \n",
      "1               송파 장지 서울복합물류    내일가능#당일지급#152,300원#초보가능#하루가능#야간풀  서울   \n",
      "2               송파 장지 서울복합물류    내일가능#당일지급#152,300원#초보가능#하루가능#야간풀  서울   \n",
      "3                      레고코리아        [레고/단기] 이마트 경산점 레고 판촉(일급 8만)  대구   \n",
      "4                  굿프랜드로지스틱스     당일지급/10만원/주5일근무/한달단기/물류센터 상품 분류  경기   \n",
      "...                      ...                                 ...  ..   \n",
      "16527  배민라이더스#배달대행#동반가능#전액주급  [대구] 배민라이더스 # 최대 47만원지원 # 전액주급 # 한  대구   \n",
      "16528      에메랄드 위스키 (럭셔리모던바)           ++럭셔리모던BAR 매니저,직원,알바大모집++  서울   \n",
      "16529             주식회사 타우컴퍼니      [단기/아르바이트]안양 모델하우스 행사 진행요원 모집중  경기   \n",
      "16530                   대한물류      평일주말 최대16만원 교육2시간 시급지급/택배상하차,분  대전   \n",
      "16531           (사)한국감정평가사협회              한국감정평가사협회 심사팀 아르바이트 모집  서울   \n",
      "\n",
      "      geo_specific paytype    money         time  \\\n",
      "0              광진구      일급   152300  17:30~05:30   \n",
      "1              강북구      일급   152300  17:30~05:30   \n",
      "2              송파구      일급   152300  17:30~05:30   \n",
      "3               전체      일급    80000  13:00~21:00   \n",
      "4              성남시      일급   100000  09:30~20:30   \n",
      "...            ...     ...      ...          ...   \n",
      "16527           중구      주급  1000000  11:00~23:00   \n",
      "16528          강서구      월급  4000000         시간협의   \n",
      "16529          안양시      시급     8350  09:00~17:00   \n",
      "16530           중구      일급   160000  19:00~07:30   \n",
      "16531          서초구      일급    75000  09:00~18:00   \n",
      "\n",
      "                                                     url employ_type  \\\n",
      "0      http://www.albamon.com//recruit/view/gi?AL_GI_...        [알바]   \n",
      "1      http://www.albamon.com//recruit/view/gi?AL_GI_...        [알바]   \n",
      "2      http://www.albamon.com//recruit/view/gi?AL_GI_...        [알바]   \n",
      "3      http://www.albamon.com//recruit/view/gi?AL_GI_...        [알바]   \n",
      "4      http://www.albamon.com//recruit/view/gi?AL_GI_...        [알바]   \n",
      "...                                                  ...         ...   \n",
      "16527  http://www.albamon.com//recruit/view/gi?AL_GI_...         NaN   \n",
      "16528  http://www.albamon.com//recruit/view/gi?AL_GI_...         NaN   \n",
      "16529  http://www.albamon.com//recruit/view/gi?AL_GI_...         NaN   \n",
      "16530  http://www.albamon.com//recruit/view/gi?AL_GI_...         NaN   \n",
      "16531  http://www.albamon.com//recruit/view/gi?AL_GI_...         NaN   \n",
      "\n",
      "                                  work_cat  ...         lon     geo_x  \\\n",
      "0      [유통·판매 기타, 포장·품질검사, 입출고·창고관리\\n초보가능]  ...  127.123878  322703.0   \n",
      "1      [유통·판매 기타, 포장·품질검사, 입출고·창고관리\\n초보가능]  ...  127.123878  322703.0   \n",
      "2      [유통·판매 기타, 포장·품질검사, 입출고·창고관리\\n초보가능]  ...  127.123878  322703.0   \n",
      "3          [이벤트·행사스텝, 유통점·마트, 판촉도우미\\n초보가능]  ...    0.000000       0.0   \n",
      "4        [편의점, 유통·판매 기타, 세븐일레븐\\n브랜드\\n초보가능]  ...  127.169174  326672.0   \n",
      "...                                    ...  ...         ...       ...   \n",
      "16527                                  NaN  ...         NaN       NaN   \n",
      "16528                                  NaN  ...         NaN       NaN   \n",
      "16529                                  NaN  ...         NaN       NaN   \n",
      "16530                                  NaN  ...         NaN       NaN   \n",
      "16531                                  NaN  ...         NaN       NaN   \n",
      "\n",
      "          geo_y employ_type1  employ_type2  work_big_cat  work_cat1  \\\n",
      "0      541697.0           알바           NaN         유통·판매   유통·판매 기타   \n",
      "1      541697.0           알바           NaN         유통·판매   유통·판매 기타   \n",
      "2      541697.0           알바           NaN         유통·판매   유통·판매 기타   \n",
      "3           0.0           알바           NaN           서비스   이벤트·행사스텝   \n",
      "4      537452.0           알바           NaN         유통·판매        편의점   \n",
      "...         ...          ...           ...           ...        ...   \n",
      "16527       NaN          NaN           NaN           NaN        NaN   \n",
      "16528       NaN          NaN           NaN           NaN        NaN   \n",
      "16529       NaN          NaN           NaN           NaN        NaN   \n",
      "16530       NaN          NaN           NaN           NaN        NaN   \n",
      "16531       NaN          NaN           NaN           NaN        NaN   \n",
      "\n",
      "       work_cat2 work_cat3 work_cat4  \n",
      "0        포장·품질검사  입출고·창고관리       NaN  \n",
      "1        포장·품질검사  입출고·창고관리       NaN  \n",
      "2        포장·품질검사  입출고·창고관리       NaN  \n",
      "3         유통점·마트     판촉도우미       NaN  \n",
      "4       유통·판매 기타     세븐일레븐       NaN  \n",
      "...          ...       ...       ...  \n",
      "16527        NaN       NaN       NaN  \n",
      "16528        NaN       NaN       NaN  \n",
      "16529        NaN       NaN       NaN  \n",
      "16530        NaN       NaN       NaN  \n",
      "16531        NaN       NaN       NaN  \n",
      "\n",
      "[16532 rows x 25 columns]\n"
     ]
    }
   ],
   "source": [
    "print(albas)"
   ]
  },
  {
   "cell_type": "code",
   "execution_count": 6,
   "metadata": {},
   "outputs": [
    {
     "data": {
      "text/plain": [
       "Index(['name', 'description', 'geo', 'geo_specific', 'paytype', 'money',\n",
       "       'time', 'url', 'employ_type', 'work_cat', 'employed_time_cat',\n",
       "       'total_worktime', 'nightshift', 'juso', 'lat', 'lon', 'geo_x', 'geo_y',\n",
       "       'employ_type1', 'employ_type2', 'work_big_cat', 'work_cat1',\n",
       "       'work_cat2', 'work_cat3', 'work_cat4'],\n",
       "      dtype='object')"
      ]
     },
     "execution_count": 6,
     "metadata": {},
     "output_type": "execute_result"
    }
   ],
   "source": [
    "albas.columns"
   ]
  },
  {
   "cell_type": "code",
   "execution_count": 14,
   "metadata": {},
   "outputs": [
    {
     "data": {
      "text/plain": [
       "0                      ['유통·판매 기타', '포장·품질검사', '입출고·창고관리']\n",
       "1                      ['유통·판매 기타', '포장·품질검사', '입출고·창고관리']\n",
       "2                      ['유통·판매 기타', '포장·품질검사', '입출고·창고관리']\n",
       "3        ['입출고·창고관리', '쇼핑몰·소셜커머스·홈쇼핑', '상하차·소화물 분류', '쿠팡']\n",
       "4                ['유통·판매 기타', '입출고·창고관리', '쇼핑몰·소셜커머스·홈쇼핑']\n",
       "                               ...                        \n",
       "14505                                       ['사이트·콘텐츠 운영']\n",
       "14506                                   ['유통점·마트', '농협유통']\n",
       "14507                                   ['유통점·마트', '농협유통']\n",
       "14508                    ['유통점·마트', '유통·판매 기타', '백화점·면세점']\n",
       "14509                                                  NaN\n",
       "Name: type, Length: 14510, dtype: object"
      ]
     },
     "execution_count": 14,
     "metadata": {},
     "output_type": "execute_result"
    }
   ],
   "source": [
    "albas.type"
   ]
  },
  {
   "cell_type": "code",
   "execution_count": 20,
   "metadata": {},
   "outputs": [],
   "source": [
    "split = albas.type.str.replace(\"'\",\"\")"
   ]
  },
  {
   "cell_type": "code",
   "execution_count": 21,
   "metadata": {},
   "outputs": [
    {
     "data": {
      "text/plain": [
       "0                      ['유통·판매 기타', '포장·품질검사', '입출고·창고관리']\n",
       "1                      ['유통·판매 기타', '포장·품질검사', '입출고·창고관리']\n",
       "2                      ['유통·판매 기타', '포장·품질검사', '입출고·창고관리']\n",
       "3        ['입출고·창고관리', '쇼핑몰·소셜커머스·홈쇼핑', '상하차·소화물 분류', '쿠팡']\n",
       "4                ['유통·판매 기타', '입출고·창고관리', '쇼핑몰·소셜커머스·홈쇼핑']\n",
       "                               ...                        \n",
       "14505                                       ['사이트·콘텐츠 운영']\n",
       "14506                                   ['유통점·마트', '농협유통']\n",
       "14507                                   ['유통점·마트', '농협유통']\n",
       "14508                    ['유통점·마트', '유통·판매 기타', '백화점·면세점']\n",
       "14509                                                  NaN\n",
       "Name: type, Length: 14510, dtype: object"
      ]
     },
     "execution_count": 21,
     "metadata": {},
     "output_type": "execute_result"
    }
   ],
   "source": [
    "albas.type"
   ]
  },
  {
   "cell_type": "code",
   "execution_count": 31,
   "metadata": {},
   "outputs": [
    {
     "name": "stdout",
     "output_type": "stream",
     "text": [
      "bc12321cb\n"
     ]
    }
   ],
   "source": []
  },
  {
   "cell_type": "code",
   "execution_count": 43,
   "metadata": {},
   "outputs": [
    {
     "name": "stdout",
     "output_type": "stream",
     "text": [
      "bc12321cb\n"
     ]
    }
   ],
   "source": []
  },
  {
   "cell_type": "code",
   "execution_count": 89,
   "metadata": {},
   "outputs": [
    {
     "name": "stdout",
     "output_type": "stream",
     "text": [
      "['유통·판매 기타', '포장·품질검사', '입출고·창고관리']\n",
      "['유통·판매 기타', '포장·품질검사', '입출고·창고관리']\n",
      "['유통·판매 기타', '포장·품질검사', '입출고·창고관리']\n",
      "['입출고·창고관리', '쇼핑몰·소셜커머스·홈쇼핑', '상하차·소화물 분류', '쿠팡']\n",
      "['유통·판매 기타', '입출고·창고관리', '쇼핑몰·소셜커머스·홈쇼핑']\n",
      "['배달', '바로고']\n"
     ]
    },
    {
     "ename": "IndexError",
     "evalue": "list index out of range",
     "output_type": "error",
     "traceback": [
      "\u001b[0;31m---------------------------------------------------------------------------\u001b[0m",
      "\u001b[0;31mIndexError\u001b[0m                                Traceback (most recent call last)",
      "\u001b[0;32m<ipython-input-89-48f11f3bb982>\u001b[0m in \u001b[0;36m<module>\u001b[0;34m\u001b[0m\n\u001b[1;32m      9\u001b[0m     \u001b[0mtype1\u001b[0m\u001b[0;34m.\u001b[0m\u001b[0mappend\u001b[0m\u001b[0;34m(\u001b[0m\u001b[0malbas\u001b[0m\u001b[0;34m.\u001b[0m\u001b[0mtype\u001b[0m\u001b[0;34m[\u001b[0m\u001b[0mi\u001b[0m\u001b[0;34m]\u001b[0m\u001b[0;34m.\u001b[0m\u001b[0mtranslate\u001b[0m\u001b[0;34m(\u001b[0m\u001b[0;34m{\u001b[0m\u001b[0mord\u001b[0m\u001b[0;34m(\u001b[0m\u001b[0ma\u001b[0m\u001b[0;34m)\u001b[0m\u001b[0;34m:\u001b[0m \u001b[0;32mNone\u001b[0m \u001b[0;32mfor\u001b[0m \u001b[0ma\u001b[0m \u001b[0;32min\u001b[0m \u001b[0;34m'[\\' ]'\u001b[0m\u001b[0;34m}\u001b[0m\u001b[0;34m)\u001b[0m\u001b[0;34m.\u001b[0m\u001b[0msplit\u001b[0m\u001b[0;34m(\u001b[0m\u001b[0;34m','\u001b[0m\u001b[0;34m)\u001b[0m\u001b[0;34m[\u001b[0m\u001b[0;36m0\u001b[0m\u001b[0;34m]\u001b[0m\u001b[0;34m)\u001b[0m\u001b[0;34m\u001b[0m\u001b[0m\n\u001b[1;32m     10\u001b[0m     \u001b[0mtype2\u001b[0m\u001b[0;34m.\u001b[0m\u001b[0mappend\u001b[0m\u001b[0;34m(\u001b[0m\u001b[0malbas\u001b[0m\u001b[0;34m.\u001b[0m\u001b[0mtype\u001b[0m\u001b[0;34m[\u001b[0m\u001b[0mi\u001b[0m\u001b[0;34m]\u001b[0m\u001b[0;34m.\u001b[0m\u001b[0mtranslate\u001b[0m\u001b[0;34m(\u001b[0m\u001b[0;34m{\u001b[0m\u001b[0mord\u001b[0m\u001b[0;34m(\u001b[0m\u001b[0ma\u001b[0m\u001b[0;34m)\u001b[0m\u001b[0;34m:\u001b[0m \u001b[0;32mNone\u001b[0m \u001b[0;32mfor\u001b[0m \u001b[0ma\u001b[0m \u001b[0;32min\u001b[0m \u001b[0;34m'[\\' ]'\u001b[0m\u001b[0;34m}\u001b[0m\u001b[0;34m)\u001b[0m\u001b[0;34m.\u001b[0m\u001b[0msplit\u001b[0m\u001b[0;34m(\u001b[0m\u001b[0;34m','\u001b[0m\u001b[0;34m)\u001b[0m\u001b[0;34m[\u001b[0m\u001b[0;36m1\u001b[0m\u001b[0;34m]\u001b[0m\u001b[0;34m)\u001b[0m\u001b[0;34m\u001b[0m\u001b[0m\n\u001b[0;32m---> 11\u001b[0;31m     \u001b[0mtype3\u001b[0m\u001b[0;34m.\u001b[0m\u001b[0mappend\u001b[0m\u001b[0;34m(\u001b[0m\u001b[0malbas\u001b[0m\u001b[0;34m.\u001b[0m\u001b[0mtype\u001b[0m\u001b[0;34m[\u001b[0m\u001b[0mi\u001b[0m\u001b[0;34m]\u001b[0m\u001b[0;34m.\u001b[0m\u001b[0mtranslate\u001b[0m\u001b[0;34m(\u001b[0m\u001b[0;34m{\u001b[0m\u001b[0mord\u001b[0m\u001b[0;34m(\u001b[0m\u001b[0ma\u001b[0m\u001b[0;34m)\u001b[0m\u001b[0;34m:\u001b[0m \u001b[0;32mNone\u001b[0m \u001b[0;32mfor\u001b[0m \u001b[0ma\u001b[0m \u001b[0;32min\u001b[0m \u001b[0;34m'[\\' ]'\u001b[0m\u001b[0;34m}\u001b[0m\u001b[0;34m)\u001b[0m\u001b[0;34m.\u001b[0m\u001b[0msplit\u001b[0m\u001b[0;34m(\u001b[0m\u001b[0;34m','\u001b[0m\u001b[0;34m)\u001b[0m\u001b[0;34m[\u001b[0m\u001b[0;36m2\u001b[0m\u001b[0;34m]\u001b[0m\u001b[0;34m)\u001b[0m\u001b[0;34m\u001b[0m\u001b[0m\n\u001b[0m\u001b[1;32m     12\u001b[0m     \u001b[0mi\u001b[0m \u001b[0;34m+=\u001b[0m \u001b[0;36m1\u001b[0m\u001b[0;34m\u001b[0m\u001b[0m\n",
      "\u001b[0;31mIndexError\u001b[0m: list index out of range"
     ]
    }
   ],
   "source": []
  },
  {
   "cell_type": "code",
   "execution_count": 69,
   "metadata": {},
   "outputs": [
    {
     "data": {
      "text/plain": [
       "'입출고·창고관리'"
      ]
     },
     "execution_count": 69,
     "metadata": {},
     "output_type": "execute_result"
    }
   ],
   "source": []
  },
  {
   "cell_type": "code",
   "execution_count": 77,
   "metadata": {},
   "outputs": [
    {
     "name": "stderr",
     "output_type": "stream",
     "text": [
      "/Library/Frameworks/Python.framework/Versions/3.6/lib/python3.6/site-packages/ipykernel_launcher.py:1: SettingWithCopyWarning: \n",
      "A value is trying to be set on a copy of a slice from a DataFrame\n",
      "\n",
      "See the caveats in the documentation: http://pandas.pydata.org/pandas-docs/stable/user_guide/indexing.html#returning-a-view-versus-a-copy\n",
      "  \"\"\"Entry point for launching an IPython kernel.\n"
     ]
    }
   ],
   "source": []
  },
  {
   "cell_type": "code",
   "execution_count": 78,
   "metadata": {},
   "outputs": [
    {
     "data": {
      "text/plain": [
       "0         유통·판매기타\n",
       "1        입출고·창고관리\n",
       "2        입출고·창고관리\n",
       "3        입출고·창고관리\n",
       "4        입출고·창고관리\n",
       "           ...   \n",
       "14505    입출고·창고관리\n",
       "14506    입출고·창고관리\n",
       "14507    입출고·창고관리\n",
       "14508    입출고·창고관리\n",
       "14509    입출고·창고관리\n",
       "Name: type1, Length: 14510, dtype: object"
      ]
     },
     "execution_count": 78,
     "metadata": {},
     "output_type": "execute_result"
    }
   ],
   "source": []
  },
  {
   "cell_type": "code",
   "execution_count": null,
   "metadata": {},
   "outputs": [],
   "source": []
  }
 ],
 "metadata": {
  "kernelspec": {
   "display_name": "Python 3",
   "language": "python",
   "name": "python3"
  },
  "language_info": {
   "codemirror_mode": {
    "name": "ipython",
    "version": 3
   },
   "file_extension": ".py",
   "mimetype": "text/x-python",
   "name": "python",
   "nbconvert_exporter": "python",
   "pygments_lexer": "ipython3",
   "version": "3.6.0"
  }
 },
 "nbformat": 4,
 "nbformat_minor": 4
}
